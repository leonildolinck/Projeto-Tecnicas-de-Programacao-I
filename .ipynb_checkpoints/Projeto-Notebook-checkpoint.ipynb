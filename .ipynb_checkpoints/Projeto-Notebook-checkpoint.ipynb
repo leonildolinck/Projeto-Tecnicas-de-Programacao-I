{
 "cells": [
  {
   "cell_type": "markdown",
   "id": "b1fd866f",
   "metadata": {},
   "source": [
    "O projeto deve ser feito em grupo 5 ou 6 e será apresentado dia 24/01.\n",
    "Pode ser apresentado por um ou dois membro(s) da equipe.\n",
    "Tempo aproximado 10 a 20 min.\n",
    "\n",
    "Como o projeto será avaliado, o notebook deve conter:\n",
    "1) Criar uma lista de dicas/técnicas que aprenderam neste módulo que foram usadas no projeto\n",
    "\n",
    "2) Indicar dentro do notebook cada item da lista (vide exemplo abaixo)\n",
    "\n",
    "3) Estar publicado no Github\n",
    "\n",
    "4) Você está apresentando as conclusões dos dados, pense com a cabeça de negócio, ex:\n",
    "\n",
    "Qual a média de idade dos clientes que mais compraram?\n",
    "Quantos porcento dos clientes que mais compraram, são os de maior ticket?\n",
    "Quais os dias da semana os clientes mais compram?\n",
    "Qual o percentual de crianças e adultos dentro nossos clientes?\n",
    "Não queremos explicações de como funciona o código, queremos perguntas e respostas de negócio.\n",
    "\n",
    "Esses quatro itens são obrigatórios, caso contrário não serão aceitos."
   ]
  },
  {
   "cell_type": "markdown",
   "id": "d959031f",
   "metadata": {},
   "source": [
    "01) Leitura de arquivo com dados\n",
    "02) Preenchimento valores faltantes\n",
    "03) Normalização\n",
    "04) Transformação de Categórico para Numérico\n",
    "05) Tratamento de Datas\n",
    "06) Demonstração tipos de dados\n",
    "07) Quantidade de linhas de colunas\n",
    "08) Mesclagem de Data Frames\n",
    "09) Eliminar linhas duplicadas\n",
    "10) Redefinição de indice\n",
    "11) Agrupamento\n",
    "12) Criar novas colunas\n",
    "13) Aplicar funções e lambdas\n",
    "14) Encontrar maior/menores valores\n",
    "15) Separar os top 1%\n",
    "16) Manipulação de datas\n",
    "17) Visualização de dados utilizando Matplotlib"
   ]
  },
  {
   "cell_type": "code",
   "execution_count": null,
   "id": "f10b8733",
   "metadata": {},
   "outputs": [],
   "source": [
    "# Item 16) Manipulação de datas\n",
    "# Pergunta: Quais são os dias da semana... ?\n",
    "datetime...."
   ]
  },
  {
   "cell_type": "markdown",
   "id": "f4990a5a",
   "metadata": {},
   "source": [
    "Requisitos para a escolha da base de dados:\n",
    "\n",
    "Esteja em 2 arquivos\n",
    "Não esteja completo\n",
    "Tenha dados categóricos(qualitativos) e numéricos(quantitativos)\n",
    "Tenha datas\n",
    "Quantidade de campos grande (facilita pensar em perguntas de negócio para responder)"
   ]
  },
  {
   "cell_type": "markdown",
   "id": "d13f399e",
   "metadata": {},
   "source": [
    "Dataset selecionado:\n",
    "\n",
    "https://www.kaggle.com/datasets/kzmontage/sales-from-different-stores?select=Different_stores_dataset.csv"
   ]
  },
  {
   "cell_type": "code",
   "execution_count": null,
   "id": "e282cf9b",
   "metadata": {},
   "outputs": [],
   "source": [
    "Retirar:\n",
    "    \n",
    "invoice id\n",
    "tax\n",
    "tax total\n",
    "cogs\n",
    "gross margin\n",
    "gross income\n",
    "\n"
   ]
  },
  {
   "cell_type": "markdown",
   "id": "f959744d",
   "metadata": {},
   "source": [
    "Perguntas sobre data:\n",
    "a) Qual o horario de pico. (Investir em google ads no horario de baixa para aumentar as vendas)\n",
    "b) Qual o maior horario de visitas (Dimensionar quantiade de vendeddores e caixas disponiveis para supir picos de visitas, se existirem).\n",
    "c) Em qual horario as visitas são mais longas. (Cruzar\n",
    "d) Qual dia do mês mais vende\n",
    "e) Qual horario favorito dos homens/mulheres\n",
    "f) Qual a media de idade por horario\n",
    "g) Horario em que mais se vende cada categoria de produto.\n",
    "f) Ticket médio por horario\n",
    "g) Horarios mais lucrativos\n",
    "h) Separar os índices de vendas por datas festivas\n",
    "i) Periodo do mês com maior volume de compras."
   ]
  },
  {
   "cell_type": "markdown",
   "id": "2abc0411",
   "metadata": {},
   "source": [
    "Perguntas sobre genero:\n",
    "a) Qual tipo de genero consome cada tipo dos produtos disponiveis\n",
    "b) Média de valor de carrinho por genero.\n",
    "c) f) Ticket médio por genero"
   ]
  },
  {
   "cell_type": "markdown",
   "id": "20d14f8c",
   "metadata": {},
   "source": [
    "a) Média de avaliações\n",
    "b) Qual a categoria (top3) das categorias de produtos mais vendidas\n",
    "c) Meio de pagamento x membership (tentar vender cartão da c&a.\n"
   ]
  }
 ],
 "metadata": {
  "kernelspec": {
   "display_name": "Python 3 (ipykernel)",
   "language": "python",
   "name": "python3"
  },
  "language_info": {
   "codemirror_mode": {
    "name": "ipython",
    "version": 3
   },
   "file_extension": ".py",
   "mimetype": "text/x-python",
   "name": "python",
   "nbconvert_exporter": "python",
   "pygments_lexer": "ipython3",
   "version": "3.11.5"
  }
 },
 "nbformat": 4,
 "nbformat_minor": 5
}
