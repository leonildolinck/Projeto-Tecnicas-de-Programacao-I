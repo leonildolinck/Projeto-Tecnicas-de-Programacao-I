{
 "cells": [
  {
   "cell_type": "markdown",
   "id": "8276fc6e",
   "metadata": {},
   "source": [
    "# ENUNCIADO"
   ]
  },
  {
   "cell_type": "markdown",
   "id": "603da9a9",
   "metadata": {},
   "source": [
    "O projeto deve ser feito em grupo 5 ou 6 e será apresentado dia 24/01.\n",
    "Pode ser apresentado por um ou dois membro(s) da equipe.\n",
    "Tempo aproximado 10 a 20 min.\n",
    "\n",
    "Como o projeto será avaliado, o notebook deve conter:\n",
    "1) Criar uma lista de dicas/técnicas que aprenderam neste módulo que foram usadas no projeto\n",
    "\n",
    "2) Indicar dentro do notebook cada item da lista (vide exemplo abaixo)\n",
    "\n",
    "3) Estar publicado no Github\n",
    "\n",
    "4) Você está apresentando as conclusões dos dados, pense com a cabeça de negócio, ex:\n",
    "\n",
    "Qual a média de idade dos clientes que mais compraram?\n",
    "Quantos porcento dos clientes que mais compraram, são os de maior ticket?\n",
    "Quais os dias da semana os clientes mais compram?\n",
    "Qual o percentual de crianças e adultos dentro nossos clientes?\n",
    "Não queremos explicações de como funciona o código, queremos perguntas e respostas de negócio.\n",
    "\n",
    "Esses quatro itens são obrigatórios, caso contrário não serão aceitos."
   ]
  },
  {
   "cell_type": "markdown",
   "id": "b207c042",
   "metadata": {},
   "source": [
    "01) Divisão de Data Frames\n",
    "02) Leitura de arquivo com dados\n",
    "03) Mesclagem de Data Frames\n",
    "04) Preenchimento valores faltantes\n",
    "05) Normalização\n",
    "06) Transformação de Categórico para Numérico\n",
    "07) Tratamento de Datas\n",
    "08) Demonstração tipos de dados\n",
    "09) Quantidade de linhas de colunas\n",
    "10) Eliminar linhas duplicadas\n",
    "11) Redefinição de indice\n",
    "12) Agrupamento\n",
    "13) Criar novas colunas (pode tentar)\n",
    "14) Aplicar funções e lambdas\n",
    "15) Encontrar maior/menores valores\n",
    "16) Separar os top 1%\n",
    "17) Manipulação de datas\n",
    "18) Visualização de dados utilizando Matplotlib"
   ]
  },
  {
   "cell_type": "markdown",
   "id": "41ba9f76",
   "metadata": {},
   "source": [
    "Item 16) Manipulação de datas\n",
    "\n",
    "Pergunta: Quais são os dias da semana... ?\n",
    "\n",
    "datetime...."
   ]
  },
  {
   "cell_type": "markdown",
   "id": "4d1762a6",
   "metadata": {},
   "source": [
    "Requisitos para a escolha da base de dados:\n",
    "\n",
    "Esteja em 2 arquivos\n",
    "Não esteja completo\n",
    "Tenha dados categóricos(qualitativos) e numéricos(quantitativos)\n",
    "Tenha datas\n",
    "Quantidade de campos grande (facilita pensar em perguntas de negócio para responder)"
   ]
  },
  {
   "cell_type": "markdown",
   "id": "7e3aca47",
   "metadata": {},
   "source": [
    "Dataset selecionado:\n",
    "https://www.kaggle.com/code/melikedilekci/supermarket-sales-eda/notebook"
   ]
  },
  {
   "cell_type": "markdown",
   "id": "dcde73f0",
   "metadata": {},
   "source": [
    "# TAREFAS 20/01/2024 23:12"
   ]
  },
  {
   "cell_type": "markdown",
   "id": "77d55764",
   "metadata": {},
   "source": [
    "- Terminar os gráficos para TODAS as perguntas.\n",
    "- Verificar se é possível exportar de alguma maneira o notebook para pdf.\n",
    "  (fpdf ou pytofdp, LATEX ou pdfkit) (Ultima prioridade, somente um PLUS).\n",
    "- ~~Acrescentar perguntas de Negócios para a lista de perguntas.~~\n",
    "- ~~Númerar e organizar as perguntas de negócio no código.~~\n",
    "- Ajustar as cores de todos os graficos para manter um padrão.\n",
    "- ~~Organizar a ordem das perguntas~~ e montar um roteiro de apresentação.\n",
    "- ~~Trocar a o grafico de top3 produtos mais/menos vendidos de quantidade de vendas por volume de faturamento.~~"
   ]
  },
  {
   "cell_type": "markdown",
   "id": "340b6477",
   "metadata": {},
   "source": [
    "## PERGUNTAS DE NEGÓCIO"
   ]
  },
  {
   "cell_type": "markdown",
   "id": "c02298f9",
   "metadata": {},
   "source": [
    "### Perguntas: \n",
    "1) ~~Otimização do ticket médio: Como podemos otimizar o ticket médio das transações?~~\n",
    "\n",
    "2) ~~Volume de compras no mês: Qual é o período do mês em que observamos o maior volume de compras e como podemos capitalizar esse aumento?~~\n",
    "\n",
    "3) ~~Padrões de consumo por gênero: Quais são os padrões de consumo por gênero para cada categoria de produtos disponíveis?~~\n",
    "\n",
    "4) ~~Categorias de produtos mais vendidas: Quais são as três categorias de produtos mais vendidas e como podemos maximizar sua performance?~~\n",
    "\n",
    "5) ~~Categorias de produtos menos vendidas: Quais são as três categorias de produtos menos vendidas, e quais estratégias podem ser implementadas para impulsionar suas vendas?~~\n",
    "\n",
    "6) ~~Adesão de membros: Como podemos aumentar a adesão de membros ao relacionar o meio de pagamento com os benefícios do programa de membership?~~\n",
    "\n",
    "7) ~~Fidelização de membros: Como a quantidade de membros impacta a fidelização e quais estratégias podem ser adotadas para aumentar a fidelidade dos membros?~~\n",
    "\n",
    "8) ~~Wordcloud e preferências dos clientes: Como a wordcloud reflete as preferências dos clientes e quais insights podemos extrair para aprimorar a oferta de produtos?~~\n",
    "\n",
    "9) Vendas por categoria de produtos: Em que horários ocorrem as vendas mais expressivas para cada categoria de produtos, e como podemos alinhar o estoque e a equipe de vendas a esses padrões?\n",
    "\n",
    "10) Horários lucrativos: Quais são os horários mais lucrativos para o negócio?\n",
    "\n",
    "11) ~~Média de avaliações dos clientes: Qual é a média de avaliações dos clientes e como podemos melhorar a experiência do cliente para aumentar essa média?~~\n",
    "\n",
    "12) Vendas para afiliados: Dentro de um número x de vendas no mês, quantas foram para afiliados?\n",
    "\n",
    "13) Influência do tipo de cliente no ticket médio: Como o tipo de cliente (Member/Normal) influencia no ticket médio de compra?\n",
    "\n",
    "14) Impacto do método de pagamento na taxa de conversão de vendas: Como o método de pagamento impacta na taxa de conversão de vendas?\n",
    "\n",
    "15) ~~Média de avaliação dos produtos: Qual é a média de avaliação dos produtos e como ela se relaciona com as vendas?~~\n",
    "\n",
    "16) Influência da localização geográfica nas preferências de produtos: Como a localização geográfica das filiais influencia nas preferências de produtos?\n",
    "\n",
    "17) Relação entre o horário de compra e a quantidade de produtos adquiridos: Qual é a relação entre o horário de compra e a quantidade de produtos adquiridos? (Linha temporal x Quantity)\n",
    "\n",
    "18) Impacto da participação em programas de fidelidade nas decisões de compra: Como a participação em programas de fidelidade impacta nas decisões de compra?\n",
    "\n",
    "19) ~~Gênero predominante entre os clientes: Qual é o gênero predominante entre os clientes?~~\n",
    "\n",
    "20) ~~Linha de produto mais popular: Qual é a linha de produto mais popular?~~\n",
    "\n",
    "21) ~~Classificação média dos clientes: Qual é a classificação média dos clientes?~~\n",
    "\n",
    "22) Cidade com o maior número de vendas: Qual é a cidade com o maior número de vendas?\n"
   ]
  },
  {
   "cell_type": "markdown",
   "id": "bcf17ff8",
   "metadata": {},
   "source": [
    "# Início do Notebook"
   ]
  },
  {
   "cell_type": "code",
   "execution_count": 1,
   "id": "a9638925",
   "metadata": {},
   "outputs": [],
   "source": [
    "import pandas as pd\n",
    "import matplotlib.pyplot as plt\n",
    "import numpy as np\n",
    "from wordcloud import WordCloud, STOPWORDS\n",
    "from matplotlib.colors import Normalize\n",
    "\n",
    "%matplotlib inline"
   ]
  },
  {
   "cell_type": "markdown",
   "id": "a7450369",
   "metadata": {},
   "source": [
    "### 01) Divisão de Data Frames"
   ]
  },
  {
   "cell_type": "code",
   "execution_count": 2,
   "id": "6d028890",
   "metadata": {},
   "outputs": [],
   "source": [
    "df_importacao_completo = pd.read_csv('supermarket_sales.csv')"
   ]
  },
  {
   "cell_type": "code",
   "execution_count": 3,
   "id": "2488b005",
   "metadata": {},
   "outputs": [],
   "source": [
    "metade = len(df_importacao_completo) // 2"
   ]
  },
  {
   "cell_type": "code",
   "execution_count": 4,
   "id": "66e3837a",
   "metadata": {},
   "outputs": [],
   "source": [
    "df_importacao_parte1 = df_importacao_completo.iloc[:metade, :]\n",
    "df_importacao_parte2 = df_importacao_completo.iloc[metade:, :]"
   ]
  },
  {
   "cell_type": "code",
   "execution_count": 5,
   "id": "491311a7",
   "metadata": {},
   "outputs": [],
   "source": [
    "df_importacao_parte1.to_csv('supermarket_sales_1.csv', index=False)\n",
    "df_importacao_parte2.to_csv('supermarket_sales_2.csv', index=False)"
   ]
  },
  {
   "cell_type": "code",
   "execution_count": 6,
   "id": "1f8557e4",
   "metadata": {},
   "outputs": [],
   "source": [
    "df_parte1 = pd.read_csv('supermarket_sales_1.csv')\n",
    "df_parte2 = pd.read_csv('supermarket_sales_2.csv')"
   ]
  },
  {
   "cell_type": "markdown",
   "id": "c4a505fb",
   "metadata": {},
   "source": [
    "### 02) Mesclagem de DataFrames"
   ]
  },
  {
   "cell_type": "code",
   "execution_count": 7,
   "id": "7c5aa1b4",
   "metadata": {},
   "outputs": [],
   "source": [
    "df = pd.concat([df_parte1, df_parte2], ignore_index=True)"
   ]
  },
  {
   "cell_type": "code",
   "execution_count": 8,
   "id": "b761ab75",
   "metadata": {},
   "outputs": [
    {
     "data": {
      "text/html": [
       "<div>\n",
       "<style scoped>\n",
       "    .dataframe tbody tr th:only-of-type {\n",
       "        vertical-align: middle;\n",
       "    }\n",
       "\n",
       "    .dataframe tbody tr th {\n",
       "        vertical-align: top;\n",
       "    }\n",
       "\n",
       "    .dataframe thead th {\n",
       "        text-align: right;\n",
       "    }\n",
       "</style>\n",
       "<table border=\"1\" class=\"dataframe\">\n",
       "  <thead>\n",
       "    <tr style=\"text-align: right;\">\n",
       "      <th></th>\n",
       "      <th>Invoice ID</th>\n",
       "      <th>Branch</th>\n",
       "      <th>City</th>\n",
       "      <th>Customer type</th>\n",
       "      <th>Gender</th>\n",
       "      <th>Product line</th>\n",
       "      <th>Unit price</th>\n",
       "      <th>Quantity</th>\n",
       "      <th>Tax 5%</th>\n",
       "      <th>Total</th>\n",
       "      <th>Date</th>\n",
       "      <th>Time</th>\n",
       "      <th>Payment</th>\n",
       "      <th>cogs</th>\n",
       "      <th>gross margin percentage</th>\n",
       "      <th>gross income</th>\n",
       "      <th>Rating</th>\n",
       "    </tr>\n",
       "  </thead>\n",
       "  <tbody>\n",
       "    <tr>\n",
       "      <th>0</th>\n",
       "      <td>750-67-8428</td>\n",
       "      <td>A</td>\n",
       "      <td>Yangon</td>\n",
       "      <td>Member</td>\n",
       "      <td>Female</td>\n",
       "      <td>Health and beauty</td>\n",
       "      <td>74.69</td>\n",
       "      <td>7</td>\n",
       "      <td>26.1415</td>\n",
       "      <td>548.9715</td>\n",
       "      <td>1/5/2019</td>\n",
       "      <td>13:08</td>\n",
       "      <td>Ewallet</td>\n",
       "      <td>522.83</td>\n",
       "      <td>4.761905</td>\n",
       "      <td>26.1415</td>\n",
       "      <td>9.1</td>\n",
       "    </tr>\n",
       "    <tr>\n",
       "      <th>1</th>\n",
       "      <td>226-31-3081</td>\n",
       "      <td>C</td>\n",
       "      <td>Naypyitaw</td>\n",
       "      <td>Normal</td>\n",
       "      <td>Female</td>\n",
       "      <td>Electronic accessories</td>\n",
       "      <td>15.28</td>\n",
       "      <td>5</td>\n",
       "      <td>3.8200</td>\n",
       "      <td>80.2200</td>\n",
       "      <td>3/8/2019</td>\n",
       "      <td>10:29</td>\n",
       "      <td>Cash</td>\n",
       "      <td>76.40</td>\n",
       "      <td>4.761905</td>\n",
       "      <td>3.8200</td>\n",
       "      <td>9.6</td>\n",
       "    </tr>\n",
       "    <tr>\n",
       "      <th>2</th>\n",
       "      <td>631-41-3108</td>\n",
       "      <td>A</td>\n",
       "      <td>Yangon</td>\n",
       "      <td>Normal</td>\n",
       "      <td>Male</td>\n",
       "      <td>Home and lifestyle</td>\n",
       "      <td>46.33</td>\n",
       "      <td>7</td>\n",
       "      <td>16.2155</td>\n",
       "      <td>340.5255</td>\n",
       "      <td>3/3/2019</td>\n",
       "      <td>13:23</td>\n",
       "      <td>Credit card</td>\n",
       "      <td>324.31</td>\n",
       "      <td>4.761905</td>\n",
       "      <td>16.2155</td>\n",
       "      <td>7.4</td>\n",
       "    </tr>\n",
       "    <tr>\n",
       "      <th>3</th>\n",
       "      <td>123-19-1176</td>\n",
       "      <td>A</td>\n",
       "      <td>Yangon</td>\n",
       "      <td>Member</td>\n",
       "      <td>Male</td>\n",
       "      <td>Health and beauty</td>\n",
       "      <td>58.22</td>\n",
       "      <td>8</td>\n",
       "      <td>23.2880</td>\n",
       "      <td>489.0480</td>\n",
       "      <td>1/27/2019</td>\n",
       "      <td>20:33</td>\n",
       "      <td>Ewallet</td>\n",
       "      <td>465.76</td>\n",
       "      <td>4.761905</td>\n",
       "      <td>23.2880</td>\n",
       "      <td>8.4</td>\n",
       "    </tr>\n",
       "    <tr>\n",
       "      <th>4</th>\n",
       "      <td>373-73-7910</td>\n",
       "      <td>A</td>\n",
       "      <td>Yangon</td>\n",
       "      <td>Normal</td>\n",
       "      <td>Male</td>\n",
       "      <td>Sports and travel</td>\n",
       "      <td>86.31</td>\n",
       "      <td>7</td>\n",
       "      <td>30.2085</td>\n",
       "      <td>634.3785</td>\n",
       "      <td>2/8/2019</td>\n",
       "      <td>10:37</td>\n",
       "      <td>Ewallet</td>\n",
       "      <td>604.17</td>\n",
       "      <td>4.761905</td>\n",
       "      <td>30.2085</td>\n",
       "      <td>5.3</td>\n",
       "    </tr>\n",
       "    <tr>\n",
       "      <th>5</th>\n",
       "      <td>699-14-3026</td>\n",
       "      <td>C</td>\n",
       "      <td>Naypyitaw</td>\n",
       "      <td>Normal</td>\n",
       "      <td>Male</td>\n",
       "      <td>Electronic accessories</td>\n",
       "      <td>85.39</td>\n",
       "      <td>7</td>\n",
       "      <td>29.8865</td>\n",
       "      <td>627.6165</td>\n",
       "      <td>3/25/2019</td>\n",
       "      <td>18:30</td>\n",
       "      <td>Ewallet</td>\n",
       "      <td>597.73</td>\n",
       "      <td>4.761905</td>\n",
       "      <td>29.8865</td>\n",
       "      <td>4.1</td>\n",
       "    </tr>\n",
       "    <tr>\n",
       "      <th>6</th>\n",
       "      <td>355-53-5943</td>\n",
       "      <td>A</td>\n",
       "      <td>Yangon</td>\n",
       "      <td>Member</td>\n",
       "      <td>Female</td>\n",
       "      <td>Electronic accessories</td>\n",
       "      <td>68.84</td>\n",
       "      <td>6</td>\n",
       "      <td>20.6520</td>\n",
       "      <td>433.6920</td>\n",
       "      <td>2/25/2019</td>\n",
       "      <td>14:36</td>\n",
       "      <td>Ewallet</td>\n",
       "      <td>413.04</td>\n",
       "      <td>4.761905</td>\n",
       "      <td>20.6520</td>\n",
       "      <td>5.8</td>\n",
       "    </tr>\n",
       "    <tr>\n",
       "      <th>7</th>\n",
       "      <td>315-22-5665</td>\n",
       "      <td>C</td>\n",
       "      <td>Naypyitaw</td>\n",
       "      <td>Normal</td>\n",
       "      <td>Female</td>\n",
       "      <td>Home and lifestyle</td>\n",
       "      <td>73.56</td>\n",
       "      <td>10</td>\n",
       "      <td>36.7800</td>\n",
       "      <td>772.3800</td>\n",
       "      <td>2/24/2019</td>\n",
       "      <td>11:38</td>\n",
       "      <td>Ewallet</td>\n",
       "      <td>735.60</td>\n",
       "      <td>4.761905</td>\n",
       "      <td>36.7800</td>\n",
       "      <td>8.0</td>\n",
       "    </tr>\n",
       "    <tr>\n",
       "      <th>8</th>\n",
       "      <td>665-32-9167</td>\n",
       "      <td>A</td>\n",
       "      <td>Yangon</td>\n",
       "      <td>Member</td>\n",
       "      <td>Female</td>\n",
       "      <td>Health and beauty</td>\n",
       "      <td>36.26</td>\n",
       "      <td>2</td>\n",
       "      <td>3.6260</td>\n",
       "      <td>76.1460</td>\n",
       "      <td>1/10/2019</td>\n",
       "      <td>17:15</td>\n",
       "      <td>Credit card</td>\n",
       "      <td>72.52</td>\n",
       "      <td>4.761905</td>\n",
       "      <td>3.6260</td>\n",
       "      <td>7.2</td>\n",
       "    </tr>\n",
       "    <tr>\n",
       "      <th>9</th>\n",
       "      <td>692-92-5582</td>\n",
       "      <td>B</td>\n",
       "      <td>Mandalay</td>\n",
       "      <td>Member</td>\n",
       "      <td>Female</td>\n",
       "      <td>Food and beverages</td>\n",
       "      <td>54.84</td>\n",
       "      <td>3</td>\n",
       "      <td>8.2260</td>\n",
       "      <td>172.7460</td>\n",
       "      <td>2/20/2019</td>\n",
       "      <td>13:27</td>\n",
       "      <td>Credit card</td>\n",
       "      <td>164.52</td>\n",
       "      <td>4.761905</td>\n",
       "      <td>8.2260</td>\n",
       "      <td>5.9</td>\n",
       "    </tr>\n",
       "  </tbody>\n",
       "</table>\n",
       "</div>"
      ],
      "text/plain": [
       "    Invoice ID Branch       City Customer type  Gender  \\\n",
       "0  750-67-8428      A     Yangon        Member  Female   \n",
       "1  226-31-3081      C  Naypyitaw        Normal  Female   \n",
       "2  631-41-3108      A     Yangon        Normal    Male   \n",
       "3  123-19-1176      A     Yangon        Member    Male   \n",
       "4  373-73-7910      A     Yangon        Normal    Male   \n",
       "5  699-14-3026      C  Naypyitaw        Normal    Male   \n",
       "6  355-53-5943      A     Yangon        Member  Female   \n",
       "7  315-22-5665      C  Naypyitaw        Normal  Female   \n",
       "8  665-32-9167      A     Yangon        Member  Female   \n",
       "9  692-92-5582      B   Mandalay        Member  Female   \n",
       "\n",
       "             Product line  Unit price  Quantity   Tax 5%     Total       Date  \\\n",
       "0       Health and beauty       74.69         7  26.1415  548.9715   1/5/2019   \n",
       "1  Electronic accessories       15.28         5   3.8200   80.2200   3/8/2019   \n",
       "2      Home and lifestyle       46.33         7  16.2155  340.5255   3/3/2019   \n",
       "3       Health and beauty       58.22         8  23.2880  489.0480  1/27/2019   \n",
       "4       Sports and travel       86.31         7  30.2085  634.3785   2/8/2019   \n",
       "5  Electronic accessories       85.39         7  29.8865  627.6165  3/25/2019   \n",
       "6  Electronic accessories       68.84         6  20.6520  433.6920  2/25/2019   \n",
       "7      Home and lifestyle       73.56        10  36.7800  772.3800  2/24/2019   \n",
       "8       Health and beauty       36.26         2   3.6260   76.1460  1/10/2019   \n",
       "9      Food and beverages       54.84         3   8.2260  172.7460  2/20/2019   \n",
       "\n",
       "    Time      Payment    cogs  gross margin percentage  gross income  Rating  \n",
       "0  13:08      Ewallet  522.83                 4.761905       26.1415     9.1  \n",
       "1  10:29         Cash   76.40                 4.761905        3.8200     9.6  \n",
       "2  13:23  Credit card  324.31                 4.761905       16.2155     7.4  \n",
       "3  20:33      Ewallet  465.76                 4.761905       23.2880     8.4  \n",
       "4  10:37      Ewallet  604.17                 4.761905       30.2085     5.3  \n",
       "5  18:30      Ewallet  597.73                 4.761905       29.8865     4.1  \n",
       "6  14:36      Ewallet  413.04                 4.761905       20.6520     5.8  \n",
       "7  11:38      Ewallet  735.60                 4.761905       36.7800     8.0  \n",
       "8  17:15  Credit card   72.52                 4.761905        3.6260     7.2  \n",
       "9  13:27  Credit card  164.52                 4.761905        8.2260     5.9  "
      ]
     },
     "execution_count": 8,
     "metadata": {},
     "output_type": "execute_result"
    }
   ],
   "source": [
    "df.head(10)"
   ]
  },
  {
   "cell_type": "code",
   "execution_count": 9,
   "id": "e501f2bc",
   "metadata": {},
   "outputs": [
    {
     "data": {
      "text/plain": [
       "Index(['Invoice ID', 'Branch', 'City', 'Customer type', 'Gender',\n",
       "       'Product line', 'Unit price', 'Quantity', 'Tax 5%', 'Total', 'Date',\n",
       "       'Time', 'Payment', 'cogs', 'gross margin percentage', 'gross income',\n",
       "       'Rating'],\n",
       "      dtype='object')"
      ]
     },
     "execution_count": 9,
     "metadata": {},
     "output_type": "execute_result"
    }
   ],
   "source": [
    "df.columns"
   ]
  },
  {
   "cell_type": "code",
   "execution_count": 10,
   "id": "d499ffd0",
   "metadata": {},
   "outputs": [],
   "source": [
    "colunas_para_remover = ['Invoice ID', 'cogs', 'gross margin percentage', 'gross income']"
   ]
  },
  {
   "cell_type": "code",
   "execution_count": 11,
   "id": "e4ef2a91",
   "metadata": {
    "scrolled": true
   },
   "outputs": [
    {
     "data": {
      "text/html": [
       "<div>\n",
       "<style scoped>\n",
       "    .dataframe tbody tr th:only-of-type {\n",
       "        vertical-align: middle;\n",
       "    }\n",
       "\n",
       "    .dataframe tbody tr th {\n",
       "        vertical-align: top;\n",
       "    }\n",
       "\n",
       "    .dataframe thead th {\n",
       "        text-align: right;\n",
       "    }\n",
       "</style>\n",
       "<table border=\"1\" class=\"dataframe\">\n",
       "  <thead>\n",
       "    <tr style=\"text-align: right;\">\n",
       "      <th></th>\n",
       "      <th>Branch</th>\n",
       "      <th>City</th>\n",
       "      <th>Customer type</th>\n",
       "      <th>Gender</th>\n",
       "      <th>Product line</th>\n",
       "      <th>Unit price</th>\n",
       "      <th>Quantity</th>\n",
       "      <th>Tax 5%</th>\n",
       "      <th>Total</th>\n",
       "      <th>Date</th>\n",
       "      <th>Time</th>\n",
       "      <th>Payment</th>\n",
       "      <th>Rating</th>\n",
       "    </tr>\n",
       "  </thead>\n",
       "  <tbody>\n",
       "    <tr>\n",
       "      <th>0</th>\n",
       "      <td>A</td>\n",
       "      <td>Yangon</td>\n",
       "      <td>Member</td>\n",
       "      <td>Female</td>\n",
       "      <td>Health and beauty</td>\n",
       "      <td>74.69</td>\n",
       "      <td>7</td>\n",
       "      <td>26.1415</td>\n",
       "      <td>548.9715</td>\n",
       "      <td>1/5/2019</td>\n",
       "      <td>13:08</td>\n",
       "      <td>Ewallet</td>\n",
       "      <td>9.1</td>\n",
       "    </tr>\n",
       "    <tr>\n",
       "      <th>1</th>\n",
       "      <td>C</td>\n",
       "      <td>Naypyitaw</td>\n",
       "      <td>Normal</td>\n",
       "      <td>Female</td>\n",
       "      <td>Electronic accessories</td>\n",
       "      <td>15.28</td>\n",
       "      <td>5</td>\n",
       "      <td>3.8200</td>\n",
       "      <td>80.2200</td>\n",
       "      <td>3/8/2019</td>\n",
       "      <td>10:29</td>\n",
       "      <td>Cash</td>\n",
       "      <td>9.6</td>\n",
       "    </tr>\n",
       "    <tr>\n",
       "      <th>2</th>\n",
       "      <td>A</td>\n",
       "      <td>Yangon</td>\n",
       "      <td>Normal</td>\n",
       "      <td>Male</td>\n",
       "      <td>Home and lifestyle</td>\n",
       "      <td>46.33</td>\n",
       "      <td>7</td>\n",
       "      <td>16.2155</td>\n",
       "      <td>340.5255</td>\n",
       "      <td>3/3/2019</td>\n",
       "      <td>13:23</td>\n",
       "      <td>Credit card</td>\n",
       "      <td>7.4</td>\n",
       "    </tr>\n",
       "    <tr>\n",
       "      <th>3</th>\n",
       "      <td>A</td>\n",
       "      <td>Yangon</td>\n",
       "      <td>Member</td>\n",
       "      <td>Male</td>\n",
       "      <td>Health and beauty</td>\n",
       "      <td>58.22</td>\n",
       "      <td>8</td>\n",
       "      <td>23.2880</td>\n",
       "      <td>489.0480</td>\n",
       "      <td>1/27/2019</td>\n",
       "      <td>20:33</td>\n",
       "      <td>Ewallet</td>\n",
       "      <td>8.4</td>\n",
       "    </tr>\n",
       "    <tr>\n",
       "      <th>4</th>\n",
       "      <td>A</td>\n",
       "      <td>Yangon</td>\n",
       "      <td>Normal</td>\n",
       "      <td>Male</td>\n",
       "      <td>Sports and travel</td>\n",
       "      <td>86.31</td>\n",
       "      <td>7</td>\n",
       "      <td>30.2085</td>\n",
       "      <td>634.3785</td>\n",
       "      <td>2/8/2019</td>\n",
       "      <td>10:37</td>\n",
       "      <td>Ewallet</td>\n",
       "      <td>5.3</td>\n",
       "    </tr>\n",
       "    <tr>\n",
       "      <th>...</th>\n",
       "      <td>...</td>\n",
       "      <td>...</td>\n",
       "      <td>...</td>\n",
       "      <td>...</td>\n",
       "      <td>...</td>\n",
       "      <td>...</td>\n",
       "      <td>...</td>\n",
       "      <td>...</td>\n",
       "      <td>...</td>\n",
       "      <td>...</td>\n",
       "      <td>...</td>\n",
       "      <td>...</td>\n",
       "      <td>...</td>\n",
       "    </tr>\n",
       "    <tr>\n",
       "      <th>995</th>\n",
       "      <td>C</td>\n",
       "      <td>Naypyitaw</td>\n",
       "      <td>Normal</td>\n",
       "      <td>Male</td>\n",
       "      <td>Health and beauty</td>\n",
       "      <td>40.35</td>\n",
       "      <td>1</td>\n",
       "      <td>2.0175</td>\n",
       "      <td>42.3675</td>\n",
       "      <td>1/29/2019</td>\n",
       "      <td>13:46</td>\n",
       "      <td>Ewallet</td>\n",
       "      <td>6.2</td>\n",
       "    </tr>\n",
       "    <tr>\n",
       "      <th>996</th>\n",
       "      <td>B</td>\n",
       "      <td>Mandalay</td>\n",
       "      <td>Normal</td>\n",
       "      <td>Female</td>\n",
       "      <td>Home and lifestyle</td>\n",
       "      <td>97.38</td>\n",
       "      <td>10</td>\n",
       "      <td>48.6900</td>\n",
       "      <td>1022.4900</td>\n",
       "      <td>3/2/2019</td>\n",
       "      <td>17:16</td>\n",
       "      <td>Ewallet</td>\n",
       "      <td>4.4</td>\n",
       "    </tr>\n",
       "    <tr>\n",
       "      <th>997</th>\n",
       "      <td>A</td>\n",
       "      <td>Yangon</td>\n",
       "      <td>Member</td>\n",
       "      <td>Male</td>\n",
       "      <td>Food and beverages</td>\n",
       "      <td>31.84</td>\n",
       "      <td>1</td>\n",
       "      <td>1.5920</td>\n",
       "      <td>33.4320</td>\n",
       "      <td>2/9/2019</td>\n",
       "      <td>13:22</td>\n",
       "      <td>Cash</td>\n",
       "      <td>7.7</td>\n",
       "    </tr>\n",
       "    <tr>\n",
       "      <th>998</th>\n",
       "      <td>A</td>\n",
       "      <td>Yangon</td>\n",
       "      <td>Normal</td>\n",
       "      <td>Male</td>\n",
       "      <td>Home and lifestyle</td>\n",
       "      <td>65.82</td>\n",
       "      <td>1</td>\n",
       "      <td>3.2910</td>\n",
       "      <td>69.1110</td>\n",
       "      <td>2/22/2019</td>\n",
       "      <td>15:33</td>\n",
       "      <td>Cash</td>\n",
       "      <td>4.1</td>\n",
       "    </tr>\n",
       "    <tr>\n",
       "      <th>999</th>\n",
       "      <td>A</td>\n",
       "      <td>Yangon</td>\n",
       "      <td>Member</td>\n",
       "      <td>Female</td>\n",
       "      <td>Fashion accessories</td>\n",
       "      <td>88.34</td>\n",
       "      <td>7</td>\n",
       "      <td>30.9190</td>\n",
       "      <td>649.2990</td>\n",
       "      <td>2/18/2019</td>\n",
       "      <td>13:28</td>\n",
       "      <td>Cash</td>\n",
       "      <td>6.6</td>\n",
       "    </tr>\n",
       "  </tbody>\n",
       "</table>\n",
       "<p>1000 rows × 13 columns</p>\n",
       "</div>"
      ],
      "text/plain": [
       "    Branch       City Customer type  Gender            Product line  \\\n",
       "0        A     Yangon        Member  Female       Health and beauty   \n",
       "1        C  Naypyitaw        Normal  Female  Electronic accessories   \n",
       "2        A     Yangon        Normal    Male      Home and lifestyle   \n",
       "3        A     Yangon        Member    Male       Health and beauty   \n",
       "4        A     Yangon        Normal    Male       Sports and travel   \n",
       "..     ...        ...           ...     ...                     ...   \n",
       "995      C  Naypyitaw        Normal    Male       Health and beauty   \n",
       "996      B   Mandalay        Normal  Female      Home and lifestyle   \n",
       "997      A     Yangon        Member    Male      Food and beverages   \n",
       "998      A     Yangon        Normal    Male      Home and lifestyle   \n",
       "999      A     Yangon        Member  Female     Fashion accessories   \n",
       "\n",
       "     Unit price  Quantity   Tax 5%      Total       Date   Time      Payment  \\\n",
       "0         74.69         7  26.1415   548.9715   1/5/2019  13:08      Ewallet   \n",
       "1         15.28         5   3.8200    80.2200   3/8/2019  10:29         Cash   \n",
       "2         46.33         7  16.2155   340.5255   3/3/2019  13:23  Credit card   \n",
       "3         58.22         8  23.2880   489.0480  1/27/2019  20:33      Ewallet   \n",
       "4         86.31         7  30.2085   634.3785   2/8/2019  10:37      Ewallet   \n",
       "..          ...       ...      ...        ...        ...    ...          ...   \n",
       "995       40.35         1   2.0175    42.3675  1/29/2019  13:46      Ewallet   \n",
       "996       97.38        10  48.6900  1022.4900   3/2/2019  17:16      Ewallet   \n",
       "997       31.84         1   1.5920    33.4320   2/9/2019  13:22         Cash   \n",
       "998       65.82         1   3.2910    69.1110  2/22/2019  15:33         Cash   \n",
       "999       88.34         7  30.9190   649.2990  2/18/2019  13:28         Cash   \n",
       "\n",
       "     Rating  \n",
       "0       9.1  \n",
       "1       9.6  \n",
       "2       7.4  \n",
       "3       8.4  \n",
       "4       5.3  \n",
       "..      ...  \n",
       "995     6.2  \n",
       "996     4.4  \n",
       "997     7.7  \n",
       "998     4.1  \n",
       "999     6.6  \n",
       "\n",
       "[1000 rows x 13 columns]"
      ]
     },
     "execution_count": 11,
     "metadata": {},
     "output_type": "execute_result"
    }
   ],
   "source": [
    "df = df.drop(colunas_para_remover, axis=1)\n",
    "df"
   ]
  },
  {
   "cell_type": "markdown",
   "id": "bfe05c03",
   "metadata": {},
   "source": [
    "### 02) Leitura de arquivo com dados"
   ]
  },
  {
   "cell_type": "code",
   "execution_count": 12,
   "id": "42a96829",
   "metadata": {
    "scrolled": true
   },
   "outputs": [
    {
     "data": {
      "text/html": [
       "<div>\n",
       "<style scoped>\n",
       "    .dataframe tbody tr th:only-of-type {\n",
       "        vertical-align: middle;\n",
       "    }\n",
       "\n",
       "    .dataframe tbody tr th {\n",
       "        vertical-align: top;\n",
       "    }\n",
       "\n",
       "    .dataframe thead th {\n",
       "        text-align: right;\n",
       "    }\n",
       "</style>\n",
       "<table border=\"1\" class=\"dataframe\">\n",
       "  <thead>\n",
       "    <tr style=\"text-align: right;\">\n",
       "      <th></th>\n",
       "      <th>Branch</th>\n",
       "      <th>City</th>\n",
       "      <th>Customer type</th>\n",
       "      <th>Gender</th>\n",
       "      <th>Product line</th>\n",
       "      <th>Unit price</th>\n",
       "      <th>Quantity</th>\n",
       "      <th>Tax 5%</th>\n",
       "      <th>Total</th>\n",
       "      <th>Date</th>\n",
       "      <th>Time</th>\n",
       "      <th>Payment</th>\n",
       "      <th>Rating</th>\n",
       "    </tr>\n",
       "  </thead>\n",
       "  <tbody>\n",
       "    <tr>\n",
       "      <th>0</th>\n",
       "      <td>A</td>\n",
       "      <td>Yangon</td>\n",
       "      <td>Member</td>\n",
       "      <td>Female</td>\n",
       "      <td>Health and beauty</td>\n",
       "      <td>74.69</td>\n",
       "      <td>7</td>\n",
       "      <td>26.1415</td>\n",
       "      <td>548.9715</td>\n",
       "      <td>1/5/2019</td>\n",
       "      <td>13:08</td>\n",
       "      <td>Ewallet</td>\n",
       "      <td>9.1</td>\n",
       "    </tr>\n",
       "    <tr>\n",
       "      <th>1</th>\n",
       "      <td>C</td>\n",
       "      <td>Naypyitaw</td>\n",
       "      <td>Normal</td>\n",
       "      <td>Female</td>\n",
       "      <td>Electronic accessories</td>\n",
       "      <td>15.28</td>\n",
       "      <td>5</td>\n",
       "      <td>3.8200</td>\n",
       "      <td>80.2200</td>\n",
       "      <td>3/8/2019</td>\n",
       "      <td>10:29</td>\n",
       "      <td>Cash</td>\n",
       "      <td>9.6</td>\n",
       "    </tr>\n",
       "    <tr>\n",
       "      <th>2</th>\n",
       "      <td>A</td>\n",
       "      <td>Yangon</td>\n",
       "      <td>Normal</td>\n",
       "      <td>Male</td>\n",
       "      <td>Home and lifestyle</td>\n",
       "      <td>46.33</td>\n",
       "      <td>7</td>\n",
       "      <td>16.2155</td>\n",
       "      <td>340.5255</td>\n",
       "      <td>3/3/2019</td>\n",
       "      <td>13:23</td>\n",
       "      <td>Credit card</td>\n",
       "      <td>7.4</td>\n",
       "    </tr>\n",
       "    <tr>\n",
       "      <th>3</th>\n",
       "      <td>A</td>\n",
       "      <td>Yangon</td>\n",
       "      <td>Member</td>\n",
       "      <td>Male</td>\n",
       "      <td>Health and beauty</td>\n",
       "      <td>58.22</td>\n",
       "      <td>8</td>\n",
       "      <td>23.2880</td>\n",
       "      <td>489.0480</td>\n",
       "      <td>1/27/2019</td>\n",
       "      <td>20:33</td>\n",
       "      <td>Ewallet</td>\n",
       "      <td>8.4</td>\n",
       "    </tr>\n",
       "    <tr>\n",
       "      <th>4</th>\n",
       "      <td>A</td>\n",
       "      <td>Yangon</td>\n",
       "      <td>Normal</td>\n",
       "      <td>Male</td>\n",
       "      <td>Sports and travel</td>\n",
       "      <td>86.31</td>\n",
       "      <td>7</td>\n",
       "      <td>30.2085</td>\n",
       "      <td>634.3785</td>\n",
       "      <td>2/8/2019</td>\n",
       "      <td>10:37</td>\n",
       "      <td>Ewallet</td>\n",
       "      <td>5.3</td>\n",
       "    </tr>\n",
       "    <tr>\n",
       "      <th>5</th>\n",
       "      <td>C</td>\n",
       "      <td>Naypyitaw</td>\n",
       "      <td>Normal</td>\n",
       "      <td>Male</td>\n",
       "      <td>Electronic accessories</td>\n",
       "      <td>85.39</td>\n",
       "      <td>7</td>\n",
       "      <td>29.8865</td>\n",
       "      <td>627.6165</td>\n",
       "      <td>3/25/2019</td>\n",
       "      <td>18:30</td>\n",
       "      <td>Ewallet</td>\n",
       "      <td>4.1</td>\n",
       "    </tr>\n",
       "    <tr>\n",
       "      <th>6</th>\n",
       "      <td>A</td>\n",
       "      <td>Yangon</td>\n",
       "      <td>Member</td>\n",
       "      <td>Female</td>\n",
       "      <td>Electronic accessories</td>\n",
       "      <td>68.84</td>\n",
       "      <td>6</td>\n",
       "      <td>20.6520</td>\n",
       "      <td>433.6920</td>\n",
       "      <td>2/25/2019</td>\n",
       "      <td>14:36</td>\n",
       "      <td>Ewallet</td>\n",
       "      <td>5.8</td>\n",
       "    </tr>\n",
       "    <tr>\n",
       "      <th>7</th>\n",
       "      <td>C</td>\n",
       "      <td>Naypyitaw</td>\n",
       "      <td>Normal</td>\n",
       "      <td>Female</td>\n",
       "      <td>Home and lifestyle</td>\n",
       "      <td>73.56</td>\n",
       "      <td>10</td>\n",
       "      <td>36.7800</td>\n",
       "      <td>772.3800</td>\n",
       "      <td>2/24/2019</td>\n",
       "      <td>11:38</td>\n",
       "      <td>Ewallet</td>\n",
       "      <td>8.0</td>\n",
       "    </tr>\n",
       "    <tr>\n",
       "      <th>8</th>\n",
       "      <td>A</td>\n",
       "      <td>Yangon</td>\n",
       "      <td>Member</td>\n",
       "      <td>Female</td>\n",
       "      <td>Health and beauty</td>\n",
       "      <td>36.26</td>\n",
       "      <td>2</td>\n",
       "      <td>3.6260</td>\n",
       "      <td>76.1460</td>\n",
       "      <td>1/10/2019</td>\n",
       "      <td>17:15</td>\n",
       "      <td>Credit card</td>\n",
       "      <td>7.2</td>\n",
       "    </tr>\n",
       "    <tr>\n",
       "      <th>9</th>\n",
       "      <td>B</td>\n",
       "      <td>Mandalay</td>\n",
       "      <td>Member</td>\n",
       "      <td>Female</td>\n",
       "      <td>Food and beverages</td>\n",
       "      <td>54.84</td>\n",
       "      <td>3</td>\n",
       "      <td>8.2260</td>\n",
       "      <td>172.7460</td>\n",
       "      <td>2/20/2019</td>\n",
       "      <td>13:27</td>\n",
       "      <td>Credit card</td>\n",
       "      <td>5.9</td>\n",
       "    </tr>\n",
       "  </tbody>\n",
       "</table>\n",
       "</div>"
      ],
      "text/plain": [
       "  Branch       City Customer type  Gender            Product line  Unit price  \\\n",
       "0      A     Yangon        Member  Female       Health and beauty       74.69   \n",
       "1      C  Naypyitaw        Normal  Female  Electronic accessories       15.28   \n",
       "2      A     Yangon        Normal    Male      Home and lifestyle       46.33   \n",
       "3      A     Yangon        Member    Male       Health and beauty       58.22   \n",
       "4      A     Yangon        Normal    Male       Sports and travel       86.31   \n",
       "5      C  Naypyitaw        Normal    Male  Electronic accessories       85.39   \n",
       "6      A     Yangon        Member  Female  Electronic accessories       68.84   \n",
       "7      C  Naypyitaw        Normal  Female      Home and lifestyle       73.56   \n",
       "8      A     Yangon        Member  Female       Health and beauty       36.26   \n",
       "9      B   Mandalay        Member  Female      Food and beverages       54.84   \n",
       "\n",
       "   Quantity   Tax 5%     Total       Date   Time      Payment  Rating  \n",
       "0         7  26.1415  548.9715   1/5/2019  13:08      Ewallet     9.1  \n",
       "1         5   3.8200   80.2200   3/8/2019  10:29         Cash     9.6  \n",
       "2         7  16.2155  340.5255   3/3/2019  13:23  Credit card     7.4  \n",
       "3         8  23.2880  489.0480  1/27/2019  20:33      Ewallet     8.4  \n",
       "4         7  30.2085  634.3785   2/8/2019  10:37      Ewallet     5.3  \n",
       "5         7  29.8865  627.6165  3/25/2019  18:30      Ewallet     4.1  \n",
       "6         6  20.6520  433.6920  2/25/2019  14:36      Ewallet     5.8  \n",
       "7        10  36.7800  772.3800  2/24/2019  11:38      Ewallet     8.0  \n",
       "8         2   3.6260   76.1460  1/10/2019  17:15  Credit card     7.2  \n",
       "9         3   8.2260  172.7460  2/20/2019  13:27  Credit card     5.9  "
      ]
     },
     "execution_count": 12,
     "metadata": {},
     "output_type": "execute_result"
    }
   ],
   "source": [
    "df.head(10)"
   ]
  },
  {
   "cell_type": "markdown",
   "id": "772aa80c",
   "metadata": {},
   "source": [
    "### 04) Preenchimento valores faltantes"
   ]
  },
  {
   "cell_type": "markdown",
   "id": "8aa934b7",
   "metadata": {},
   "source": [
    "### 05) Normalização"
   ]
  },
  {
   "cell_type": "markdown",
   "id": "e1187fd3",
   "metadata": {},
   "source": [
    "### 06) Transformação de Categórico para Numérico"
   ]
  },
  {
   "cell_type": "markdown",
   "id": "a00c85c2",
   "metadata": {},
   "source": [
    "### 07) Tratamento de Datas"
   ]
  },
  {
   "cell_type": "code",
   "execution_count": 13,
   "id": "51f824df",
   "metadata": {},
   "outputs": [
    {
     "name": "stdout",
     "output_type": "stream",
     "text": [
      "Tipo de dados da coluna Date: object\n"
     ]
    }
   ],
   "source": [
    "tipos_de_dados = df['Date'].dtypes\n",
    "print('Tipo de dados da coluna Date:', tipos_de_dados)"
   ]
  },
  {
   "cell_type": "code",
   "execution_count": 14,
   "id": "772b5ac4",
   "metadata": {},
   "outputs": [
    {
     "name": "stdout",
     "output_type": "stream",
     "text": [
      "Tipo de dados da coluna Time: object\n"
     ]
    }
   ],
   "source": [
    "tipos_de_dados = df['Time'].dtypes\n",
    "print('Tipo de dados da coluna Time:', tipos_de_dados)"
   ]
  },
  {
   "cell_type": "code",
   "execution_count": 15,
   "id": "16d4ec95",
   "metadata": {},
   "outputs": [],
   "source": [
    "df['Date'] = pd.to_datetime(df['Date'])  \n",
    "df['Time'] = pd.to_datetime(df['Time'], format='%H:%M')"
   ]
  },
  {
   "cell_type": "code",
   "execution_count": 16,
   "id": "60e706c7",
   "metadata": {},
   "outputs": [
    {
     "name": "stdout",
     "output_type": "stream",
     "text": [
      "Tipo de dados da coluna Date: datetime64[ns]\n"
     ]
    }
   ],
   "source": [
    "tipos_de_dados = df['Date'].dtypes\n",
    "print('Tipo de dados da coluna Date:', tipos_de_dados)"
   ]
  },
  {
   "cell_type": "code",
   "execution_count": 17,
   "id": "671c9d23",
   "metadata": {},
   "outputs": [
    {
     "name": "stdout",
     "output_type": "stream",
     "text": [
      "Tipo de dados da coluna Time: datetime64[ns]\n"
     ]
    }
   ],
   "source": [
    "tipos_de_dados = df['Time'].dtypes\n",
    "print('Tipo de dados da coluna Time:', tipos_de_dados)"
   ]
  },
  {
   "cell_type": "markdown",
   "id": "5c0a1472",
   "metadata": {},
   "source": [
    "### 08) Demonstração tipos de dados"
   ]
  },
  {
   "cell_type": "code",
   "execution_count": 18,
   "id": "6a6e46f4",
   "metadata": {},
   "outputs": [
    {
     "data": {
      "text/plain": [
       "Branch                   object\n",
       "City                     object\n",
       "Customer type            object\n",
       "Gender                   object\n",
       "Product line             object\n",
       "Unit price              float64\n",
       "Quantity                  int64\n",
       "Tax 5%                  float64\n",
       "Total                   float64\n",
       "Date             datetime64[ns]\n",
       "Time             datetime64[ns]\n",
       "Payment                  object\n",
       "Rating                  float64\n",
       "dtype: object"
      ]
     },
     "metadata": {},
     "output_type": "display_data"
    }
   ],
   "source": [
    "tipos_de_dados = df.dtypes\n",
    "display(tipos_de_dados)"
   ]
  },
  {
   "cell_type": "markdown",
   "id": "84267c49",
   "metadata": {},
   "source": [
    "### 09) Quantidade de linhas e colunas"
   ]
  },
  {
   "cell_type": "code",
   "execution_count": 19,
   "id": "6626fcaf",
   "metadata": {},
   "outputs": [
    {
     "name": "stdout",
     "output_type": "stream",
     "text": [
      "Número de linhas: 1000, Número de colunas: 13\n"
     ]
    }
   ],
   "source": [
    "num_linhas, num_colunas = df.shape\n",
    "print(f'Número de linhas: {num_linhas}, Número de colunas: {num_colunas}')"
   ]
  },
  {
   "cell_type": "markdown",
   "id": "f363201f",
   "metadata": {},
   "source": [
    "### 10) Eliminar linhas duplicadas"
   ]
  },
  {
   "cell_type": "code",
   "execution_count": 20,
   "id": "bcd74668",
   "metadata": {},
   "outputs": [
    {
     "data": {
      "text/html": [
       "<div>\n",
       "<style scoped>\n",
       "    .dataframe tbody tr th:only-of-type {\n",
       "        vertical-align: middle;\n",
       "    }\n",
       "\n",
       "    .dataframe tbody tr th {\n",
       "        vertical-align: top;\n",
       "    }\n",
       "\n",
       "    .dataframe thead th {\n",
       "        text-align: right;\n",
       "    }\n",
       "</style>\n",
       "<table border=\"1\" class=\"dataframe\">\n",
       "  <thead>\n",
       "    <tr style=\"text-align: right;\">\n",
       "      <th></th>\n",
       "      <th>Branch</th>\n",
       "      <th>City</th>\n",
       "      <th>Customer type</th>\n",
       "      <th>Gender</th>\n",
       "      <th>Product line</th>\n",
       "      <th>Unit price</th>\n",
       "      <th>Quantity</th>\n",
       "      <th>Tax 5%</th>\n",
       "      <th>Total</th>\n",
       "      <th>Date</th>\n",
       "      <th>Time</th>\n",
       "      <th>Payment</th>\n",
       "      <th>Rating</th>\n",
       "    </tr>\n",
       "  </thead>\n",
       "  <tbody>\n",
       "    <tr>\n",
       "      <th>0</th>\n",
       "      <td>A</td>\n",
       "      <td>Yangon</td>\n",
       "      <td>Member</td>\n",
       "      <td>Female</td>\n",
       "      <td>Health and beauty</td>\n",
       "      <td>74.69</td>\n",
       "      <td>7</td>\n",
       "      <td>26.1415</td>\n",
       "      <td>548.9715</td>\n",
       "      <td>2019-01-05</td>\n",
       "      <td>1900-01-01 13:08:00</td>\n",
       "      <td>Ewallet</td>\n",
       "      <td>9.1</td>\n",
       "    </tr>\n",
       "    <tr>\n",
       "      <th>1</th>\n",
       "      <td>C</td>\n",
       "      <td>Naypyitaw</td>\n",
       "      <td>Normal</td>\n",
       "      <td>Female</td>\n",
       "      <td>Electronic accessories</td>\n",
       "      <td>15.28</td>\n",
       "      <td>5</td>\n",
       "      <td>3.8200</td>\n",
       "      <td>80.2200</td>\n",
       "      <td>2019-03-08</td>\n",
       "      <td>1900-01-01 10:29:00</td>\n",
       "      <td>Cash</td>\n",
       "      <td>9.6</td>\n",
       "    </tr>\n",
       "    <tr>\n",
       "      <th>2</th>\n",
       "      <td>A</td>\n",
       "      <td>Yangon</td>\n",
       "      <td>Normal</td>\n",
       "      <td>Male</td>\n",
       "      <td>Home and lifestyle</td>\n",
       "      <td>46.33</td>\n",
       "      <td>7</td>\n",
       "      <td>16.2155</td>\n",
       "      <td>340.5255</td>\n",
       "      <td>2019-03-03</td>\n",
       "      <td>1900-01-01 13:23:00</td>\n",
       "      <td>Credit card</td>\n",
       "      <td>7.4</td>\n",
       "    </tr>\n",
       "    <tr>\n",
       "      <th>3</th>\n",
       "      <td>A</td>\n",
       "      <td>Yangon</td>\n",
       "      <td>Member</td>\n",
       "      <td>Male</td>\n",
       "      <td>Health and beauty</td>\n",
       "      <td>58.22</td>\n",
       "      <td>8</td>\n",
       "      <td>23.2880</td>\n",
       "      <td>489.0480</td>\n",
       "      <td>2019-01-27</td>\n",
       "      <td>1900-01-01 20:33:00</td>\n",
       "      <td>Ewallet</td>\n",
       "      <td>8.4</td>\n",
       "    </tr>\n",
       "    <tr>\n",
       "      <th>4</th>\n",
       "      <td>A</td>\n",
       "      <td>Yangon</td>\n",
       "      <td>Normal</td>\n",
       "      <td>Male</td>\n",
       "      <td>Sports and travel</td>\n",
       "      <td>86.31</td>\n",
       "      <td>7</td>\n",
       "      <td>30.2085</td>\n",
       "      <td>634.3785</td>\n",
       "      <td>2019-02-08</td>\n",
       "      <td>1900-01-01 10:37:00</td>\n",
       "      <td>Ewallet</td>\n",
       "      <td>5.3</td>\n",
       "    </tr>\n",
       "    <tr>\n",
       "      <th>...</th>\n",
       "      <td>...</td>\n",
       "      <td>...</td>\n",
       "      <td>...</td>\n",
       "      <td>...</td>\n",
       "      <td>...</td>\n",
       "      <td>...</td>\n",
       "      <td>...</td>\n",
       "      <td>...</td>\n",
       "      <td>...</td>\n",
       "      <td>...</td>\n",
       "      <td>...</td>\n",
       "      <td>...</td>\n",
       "      <td>...</td>\n",
       "    </tr>\n",
       "    <tr>\n",
       "      <th>995</th>\n",
       "      <td>C</td>\n",
       "      <td>Naypyitaw</td>\n",
       "      <td>Normal</td>\n",
       "      <td>Male</td>\n",
       "      <td>Health and beauty</td>\n",
       "      <td>40.35</td>\n",
       "      <td>1</td>\n",
       "      <td>2.0175</td>\n",
       "      <td>42.3675</td>\n",
       "      <td>2019-01-29</td>\n",
       "      <td>1900-01-01 13:46:00</td>\n",
       "      <td>Ewallet</td>\n",
       "      <td>6.2</td>\n",
       "    </tr>\n",
       "    <tr>\n",
       "      <th>996</th>\n",
       "      <td>B</td>\n",
       "      <td>Mandalay</td>\n",
       "      <td>Normal</td>\n",
       "      <td>Female</td>\n",
       "      <td>Home and lifestyle</td>\n",
       "      <td>97.38</td>\n",
       "      <td>10</td>\n",
       "      <td>48.6900</td>\n",
       "      <td>1022.4900</td>\n",
       "      <td>2019-03-02</td>\n",
       "      <td>1900-01-01 17:16:00</td>\n",
       "      <td>Ewallet</td>\n",
       "      <td>4.4</td>\n",
       "    </tr>\n",
       "    <tr>\n",
       "      <th>997</th>\n",
       "      <td>A</td>\n",
       "      <td>Yangon</td>\n",
       "      <td>Member</td>\n",
       "      <td>Male</td>\n",
       "      <td>Food and beverages</td>\n",
       "      <td>31.84</td>\n",
       "      <td>1</td>\n",
       "      <td>1.5920</td>\n",
       "      <td>33.4320</td>\n",
       "      <td>2019-02-09</td>\n",
       "      <td>1900-01-01 13:22:00</td>\n",
       "      <td>Cash</td>\n",
       "      <td>7.7</td>\n",
       "    </tr>\n",
       "    <tr>\n",
       "      <th>998</th>\n",
       "      <td>A</td>\n",
       "      <td>Yangon</td>\n",
       "      <td>Normal</td>\n",
       "      <td>Male</td>\n",
       "      <td>Home and lifestyle</td>\n",
       "      <td>65.82</td>\n",
       "      <td>1</td>\n",
       "      <td>3.2910</td>\n",
       "      <td>69.1110</td>\n",
       "      <td>2019-02-22</td>\n",
       "      <td>1900-01-01 15:33:00</td>\n",
       "      <td>Cash</td>\n",
       "      <td>4.1</td>\n",
       "    </tr>\n",
       "    <tr>\n",
       "      <th>999</th>\n",
       "      <td>A</td>\n",
       "      <td>Yangon</td>\n",
       "      <td>Member</td>\n",
       "      <td>Female</td>\n",
       "      <td>Fashion accessories</td>\n",
       "      <td>88.34</td>\n",
       "      <td>7</td>\n",
       "      <td>30.9190</td>\n",
       "      <td>649.2990</td>\n",
       "      <td>2019-02-18</td>\n",
       "      <td>1900-01-01 13:28:00</td>\n",
       "      <td>Cash</td>\n",
       "      <td>6.6</td>\n",
       "    </tr>\n",
       "  </tbody>\n",
       "</table>\n",
       "<p>1000 rows × 13 columns</p>\n",
       "</div>"
      ],
      "text/plain": [
       "    Branch       City Customer type  Gender            Product line  \\\n",
       "0        A     Yangon        Member  Female       Health and beauty   \n",
       "1        C  Naypyitaw        Normal  Female  Electronic accessories   \n",
       "2        A     Yangon        Normal    Male      Home and lifestyle   \n",
       "3        A     Yangon        Member    Male       Health and beauty   \n",
       "4        A     Yangon        Normal    Male       Sports and travel   \n",
       "..     ...        ...           ...     ...                     ...   \n",
       "995      C  Naypyitaw        Normal    Male       Health and beauty   \n",
       "996      B   Mandalay        Normal  Female      Home and lifestyle   \n",
       "997      A     Yangon        Member    Male      Food and beverages   \n",
       "998      A     Yangon        Normal    Male      Home and lifestyle   \n",
       "999      A     Yangon        Member  Female     Fashion accessories   \n",
       "\n",
       "     Unit price  Quantity   Tax 5%      Total       Date                Time  \\\n",
       "0         74.69         7  26.1415   548.9715 2019-01-05 1900-01-01 13:08:00   \n",
       "1         15.28         5   3.8200    80.2200 2019-03-08 1900-01-01 10:29:00   \n",
       "2         46.33         7  16.2155   340.5255 2019-03-03 1900-01-01 13:23:00   \n",
       "3         58.22         8  23.2880   489.0480 2019-01-27 1900-01-01 20:33:00   \n",
       "4         86.31         7  30.2085   634.3785 2019-02-08 1900-01-01 10:37:00   \n",
       "..          ...       ...      ...        ...        ...                 ...   \n",
       "995       40.35         1   2.0175    42.3675 2019-01-29 1900-01-01 13:46:00   \n",
       "996       97.38        10  48.6900  1022.4900 2019-03-02 1900-01-01 17:16:00   \n",
       "997       31.84         1   1.5920    33.4320 2019-02-09 1900-01-01 13:22:00   \n",
       "998       65.82         1   3.2910    69.1110 2019-02-22 1900-01-01 15:33:00   \n",
       "999       88.34         7  30.9190   649.2990 2019-02-18 1900-01-01 13:28:00   \n",
       "\n",
       "         Payment  Rating  \n",
       "0        Ewallet     9.1  \n",
       "1           Cash     9.6  \n",
       "2    Credit card     7.4  \n",
       "3        Ewallet     8.4  \n",
       "4        Ewallet     5.3  \n",
       "..           ...     ...  \n",
       "995      Ewallet     6.2  \n",
       "996      Ewallet     4.4  \n",
       "997         Cash     7.7  \n",
       "998         Cash     4.1  \n",
       "999         Cash     6.6  \n",
       "\n",
       "[1000 rows x 13 columns]"
      ]
     },
     "execution_count": 20,
     "metadata": {},
     "output_type": "execute_result"
    }
   ],
   "source": [
    "df"
   ]
  },
  {
   "cell_type": "code",
   "execution_count": 21,
   "id": "c657168a",
   "metadata": {},
   "outputs": [],
   "source": [
    "df = df.drop_duplicates()"
   ]
  },
  {
   "cell_type": "code",
   "execution_count": 22,
   "id": "07a0b9a0",
   "metadata": {},
   "outputs": [
    {
     "data": {
      "text/html": [
       "<div>\n",
       "<style scoped>\n",
       "    .dataframe tbody tr th:only-of-type {\n",
       "        vertical-align: middle;\n",
       "    }\n",
       "\n",
       "    .dataframe tbody tr th {\n",
       "        vertical-align: top;\n",
       "    }\n",
       "\n",
       "    .dataframe thead th {\n",
       "        text-align: right;\n",
       "    }\n",
       "</style>\n",
       "<table border=\"1\" class=\"dataframe\">\n",
       "  <thead>\n",
       "    <tr style=\"text-align: right;\">\n",
       "      <th></th>\n",
       "      <th>Branch</th>\n",
       "      <th>City</th>\n",
       "      <th>Customer type</th>\n",
       "      <th>Gender</th>\n",
       "      <th>Product line</th>\n",
       "      <th>Unit price</th>\n",
       "      <th>Quantity</th>\n",
       "      <th>Tax 5%</th>\n",
       "      <th>Total</th>\n",
       "      <th>Date</th>\n",
       "      <th>Time</th>\n",
       "      <th>Payment</th>\n",
       "      <th>Rating</th>\n",
       "    </tr>\n",
       "  </thead>\n",
       "  <tbody>\n",
       "    <tr>\n",
       "      <th>0</th>\n",
       "      <td>A</td>\n",
       "      <td>Yangon</td>\n",
       "      <td>Member</td>\n",
       "      <td>Female</td>\n",
       "      <td>Health and beauty</td>\n",
       "      <td>74.69</td>\n",
       "      <td>7</td>\n",
       "      <td>26.1415</td>\n",
       "      <td>548.9715</td>\n",
       "      <td>2019-01-05</td>\n",
       "      <td>1900-01-01 13:08:00</td>\n",
       "      <td>Ewallet</td>\n",
       "      <td>9.1</td>\n",
       "    </tr>\n",
       "    <tr>\n",
       "      <th>1</th>\n",
       "      <td>C</td>\n",
       "      <td>Naypyitaw</td>\n",
       "      <td>Normal</td>\n",
       "      <td>Female</td>\n",
       "      <td>Electronic accessories</td>\n",
       "      <td>15.28</td>\n",
       "      <td>5</td>\n",
       "      <td>3.8200</td>\n",
       "      <td>80.2200</td>\n",
       "      <td>2019-03-08</td>\n",
       "      <td>1900-01-01 10:29:00</td>\n",
       "      <td>Cash</td>\n",
       "      <td>9.6</td>\n",
       "    </tr>\n",
       "    <tr>\n",
       "      <th>2</th>\n",
       "      <td>A</td>\n",
       "      <td>Yangon</td>\n",
       "      <td>Normal</td>\n",
       "      <td>Male</td>\n",
       "      <td>Home and lifestyle</td>\n",
       "      <td>46.33</td>\n",
       "      <td>7</td>\n",
       "      <td>16.2155</td>\n",
       "      <td>340.5255</td>\n",
       "      <td>2019-03-03</td>\n",
       "      <td>1900-01-01 13:23:00</td>\n",
       "      <td>Credit card</td>\n",
       "      <td>7.4</td>\n",
       "    </tr>\n",
       "    <tr>\n",
       "      <th>3</th>\n",
       "      <td>A</td>\n",
       "      <td>Yangon</td>\n",
       "      <td>Member</td>\n",
       "      <td>Male</td>\n",
       "      <td>Health and beauty</td>\n",
       "      <td>58.22</td>\n",
       "      <td>8</td>\n",
       "      <td>23.2880</td>\n",
       "      <td>489.0480</td>\n",
       "      <td>2019-01-27</td>\n",
       "      <td>1900-01-01 20:33:00</td>\n",
       "      <td>Ewallet</td>\n",
       "      <td>8.4</td>\n",
       "    </tr>\n",
       "    <tr>\n",
       "      <th>4</th>\n",
       "      <td>A</td>\n",
       "      <td>Yangon</td>\n",
       "      <td>Normal</td>\n",
       "      <td>Male</td>\n",
       "      <td>Sports and travel</td>\n",
       "      <td>86.31</td>\n",
       "      <td>7</td>\n",
       "      <td>30.2085</td>\n",
       "      <td>634.3785</td>\n",
       "      <td>2019-02-08</td>\n",
       "      <td>1900-01-01 10:37:00</td>\n",
       "      <td>Ewallet</td>\n",
       "      <td>5.3</td>\n",
       "    </tr>\n",
       "    <tr>\n",
       "      <th>...</th>\n",
       "      <td>...</td>\n",
       "      <td>...</td>\n",
       "      <td>...</td>\n",
       "      <td>...</td>\n",
       "      <td>...</td>\n",
       "      <td>...</td>\n",
       "      <td>...</td>\n",
       "      <td>...</td>\n",
       "      <td>...</td>\n",
       "      <td>...</td>\n",
       "      <td>...</td>\n",
       "      <td>...</td>\n",
       "      <td>...</td>\n",
       "    </tr>\n",
       "    <tr>\n",
       "      <th>995</th>\n",
       "      <td>C</td>\n",
       "      <td>Naypyitaw</td>\n",
       "      <td>Normal</td>\n",
       "      <td>Male</td>\n",
       "      <td>Health and beauty</td>\n",
       "      <td>40.35</td>\n",
       "      <td>1</td>\n",
       "      <td>2.0175</td>\n",
       "      <td>42.3675</td>\n",
       "      <td>2019-01-29</td>\n",
       "      <td>1900-01-01 13:46:00</td>\n",
       "      <td>Ewallet</td>\n",
       "      <td>6.2</td>\n",
       "    </tr>\n",
       "    <tr>\n",
       "      <th>996</th>\n",
       "      <td>B</td>\n",
       "      <td>Mandalay</td>\n",
       "      <td>Normal</td>\n",
       "      <td>Female</td>\n",
       "      <td>Home and lifestyle</td>\n",
       "      <td>97.38</td>\n",
       "      <td>10</td>\n",
       "      <td>48.6900</td>\n",
       "      <td>1022.4900</td>\n",
       "      <td>2019-03-02</td>\n",
       "      <td>1900-01-01 17:16:00</td>\n",
       "      <td>Ewallet</td>\n",
       "      <td>4.4</td>\n",
       "    </tr>\n",
       "    <tr>\n",
       "      <th>997</th>\n",
       "      <td>A</td>\n",
       "      <td>Yangon</td>\n",
       "      <td>Member</td>\n",
       "      <td>Male</td>\n",
       "      <td>Food and beverages</td>\n",
       "      <td>31.84</td>\n",
       "      <td>1</td>\n",
       "      <td>1.5920</td>\n",
       "      <td>33.4320</td>\n",
       "      <td>2019-02-09</td>\n",
       "      <td>1900-01-01 13:22:00</td>\n",
       "      <td>Cash</td>\n",
       "      <td>7.7</td>\n",
       "    </tr>\n",
       "    <tr>\n",
       "      <th>998</th>\n",
       "      <td>A</td>\n",
       "      <td>Yangon</td>\n",
       "      <td>Normal</td>\n",
       "      <td>Male</td>\n",
       "      <td>Home and lifestyle</td>\n",
       "      <td>65.82</td>\n",
       "      <td>1</td>\n",
       "      <td>3.2910</td>\n",
       "      <td>69.1110</td>\n",
       "      <td>2019-02-22</td>\n",
       "      <td>1900-01-01 15:33:00</td>\n",
       "      <td>Cash</td>\n",
       "      <td>4.1</td>\n",
       "    </tr>\n",
       "    <tr>\n",
       "      <th>999</th>\n",
       "      <td>A</td>\n",
       "      <td>Yangon</td>\n",
       "      <td>Member</td>\n",
       "      <td>Female</td>\n",
       "      <td>Fashion accessories</td>\n",
       "      <td>88.34</td>\n",
       "      <td>7</td>\n",
       "      <td>30.9190</td>\n",
       "      <td>649.2990</td>\n",
       "      <td>2019-02-18</td>\n",
       "      <td>1900-01-01 13:28:00</td>\n",
       "      <td>Cash</td>\n",
       "      <td>6.6</td>\n",
       "    </tr>\n",
       "  </tbody>\n",
       "</table>\n",
       "<p>1000 rows × 13 columns</p>\n",
       "</div>"
      ],
      "text/plain": [
       "    Branch       City Customer type  Gender            Product line  \\\n",
       "0        A     Yangon        Member  Female       Health and beauty   \n",
       "1        C  Naypyitaw        Normal  Female  Electronic accessories   \n",
       "2        A     Yangon        Normal    Male      Home and lifestyle   \n",
       "3        A     Yangon        Member    Male       Health and beauty   \n",
       "4        A     Yangon        Normal    Male       Sports and travel   \n",
       "..     ...        ...           ...     ...                     ...   \n",
       "995      C  Naypyitaw        Normal    Male       Health and beauty   \n",
       "996      B   Mandalay        Normal  Female      Home and lifestyle   \n",
       "997      A     Yangon        Member    Male      Food and beverages   \n",
       "998      A     Yangon        Normal    Male      Home and lifestyle   \n",
       "999      A     Yangon        Member  Female     Fashion accessories   \n",
       "\n",
       "     Unit price  Quantity   Tax 5%      Total       Date                Time  \\\n",
       "0         74.69         7  26.1415   548.9715 2019-01-05 1900-01-01 13:08:00   \n",
       "1         15.28         5   3.8200    80.2200 2019-03-08 1900-01-01 10:29:00   \n",
       "2         46.33         7  16.2155   340.5255 2019-03-03 1900-01-01 13:23:00   \n",
       "3         58.22         8  23.2880   489.0480 2019-01-27 1900-01-01 20:33:00   \n",
       "4         86.31         7  30.2085   634.3785 2019-02-08 1900-01-01 10:37:00   \n",
       "..          ...       ...      ...        ...        ...                 ...   \n",
       "995       40.35         1   2.0175    42.3675 2019-01-29 1900-01-01 13:46:00   \n",
       "996       97.38        10  48.6900  1022.4900 2019-03-02 1900-01-01 17:16:00   \n",
       "997       31.84         1   1.5920    33.4320 2019-02-09 1900-01-01 13:22:00   \n",
       "998       65.82         1   3.2910    69.1110 2019-02-22 1900-01-01 15:33:00   \n",
       "999       88.34         7  30.9190   649.2990 2019-02-18 1900-01-01 13:28:00   \n",
       "\n",
       "         Payment  Rating  \n",
       "0        Ewallet     9.1  \n",
       "1           Cash     9.6  \n",
       "2    Credit card     7.4  \n",
       "3        Ewallet     8.4  \n",
       "4        Ewallet     5.3  \n",
       "..           ...     ...  \n",
       "995      Ewallet     6.2  \n",
       "996      Ewallet     4.4  \n",
       "997         Cash     7.7  \n",
       "998         Cash     4.1  \n",
       "999         Cash     6.6  \n",
       "\n",
       "[1000 rows x 13 columns]"
      ]
     },
     "execution_count": 22,
     "metadata": {},
     "output_type": "execute_result"
    }
   ],
   "source": [
    "df"
   ]
  },
  {
   "cell_type": "markdown",
   "id": "ce7d1f6e",
   "metadata": {},
   "source": [
    "### 11) Redefinição de índice"
   ]
  },
  {
   "cell_type": "code",
   "execution_count": 23,
   "id": "59002f4c",
   "metadata": {},
   "outputs": [],
   "source": [
    "df = df.reset_index(drop=True)"
   ]
  },
  {
   "cell_type": "code",
   "execution_count": 24,
   "id": "5eb4ee38",
   "metadata": {},
   "outputs": [
    {
     "data": {
      "text/html": [
       "<div>\n",
       "<style scoped>\n",
       "    .dataframe tbody tr th:only-of-type {\n",
       "        vertical-align: middle;\n",
       "    }\n",
       "\n",
       "    .dataframe tbody tr th {\n",
       "        vertical-align: top;\n",
       "    }\n",
       "\n",
       "    .dataframe thead th {\n",
       "        text-align: right;\n",
       "    }\n",
       "</style>\n",
       "<table border=\"1\" class=\"dataframe\">\n",
       "  <thead>\n",
       "    <tr style=\"text-align: right;\">\n",
       "      <th></th>\n",
       "      <th>Branch</th>\n",
       "      <th>City</th>\n",
       "      <th>Customer type</th>\n",
       "      <th>Gender</th>\n",
       "      <th>Product line</th>\n",
       "      <th>Unit price</th>\n",
       "      <th>Quantity</th>\n",
       "      <th>Tax 5%</th>\n",
       "      <th>Total</th>\n",
       "      <th>Date</th>\n",
       "      <th>Time</th>\n",
       "      <th>Payment</th>\n",
       "      <th>Rating</th>\n",
       "    </tr>\n",
       "  </thead>\n",
       "  <tbody>\n",
       "    <tr>\n",
       "      <th>0</th>\n",
       "      <td>A</td>\n",
       "      <td>Yangon</td>\n",
       "      <td>Member</td>\n",
       "      <td>Female</td>\n",
       "      <td>Health and beauty</td>\n",
       "      <td>74.69</td>\n",
       "      <td>7</td>\n",
       "      <td>26.1415</td>\n",
       "      <td>548.9715</td>\n",
       "      <td>2019-01-05</td>\n",
       "      <td>1900-01-01 13:08:00</td>\n",
       "      <td>Ewallet</td>\n",
       "      <td>9.1</td>\n",
       "    </tr>\n",
       "    <tr>\n",
       "      <th>1</th>\n",
       "      <td>C</td>\n",
       "      <td>Naypyitaw</td>\n",
       "      <td>Normal</td>\n",
       "      <td>Female</td>\n",
       "      <td>Electronic accessories</td>\n",
       "      <td>15.28</td>\n",
       "      <td>5</td>\n",
       "      <td>3.8200</td>\n",
       "      <td>80.2200</td>\n",
       "      <td>2019-03-08</td>\n",
       "      <td>1900-01-01 10:29:00</td>\n",
       "      <td>Cash</td>\n",
       "      <td>9.6</td>\n",
       "    </tr>\n",
       "    <tr>\n",
       "      <th>2</th>\n",
       "      <td>A</td>\n",
       "      <td>Yangon</td>\n",
       "      <td>Normal</td>\n",
       "      <td>Male</td>\n",
       "      <td>Home and lifestyle</td>\n",
       "      <td>46.33</td>\n",
       "      <td>7</td>\n",
       "      <td>16.2155</td>\n",
       "      <td>340.5255</td>\n",
       "      <td>2019-03-03</td>\n",
       "      <td>1900-01-01 13:23:00</td>\n",
       "      <td>Credit card</td>\n",
       "      <td>7.4</td>\n",
       "    </tr>\n",
       "    <tr>\n",
       "      <th>3</th>\n",
       "      <td>A</td>\n",
       "      <td>Yangon</td>\n",
       "      <td>Member</td>\n",
       "      <td>Male</td>\n",
       "      <td>Health and beauty</td>\n",
       "      <td>58.22</td>\n",
       "      <td>8</td>\n",
       "      <td>23.2880</td>\n",
       "      <td>489.0480</td>\n",
       "      <td>2019-01-27</td>\n",
       "      <td>1900-01-01 20:33:00</td>\n",
       "      <td>Ewallet</td>\n",
       "      <td>8.4</td>\n",
       "    </tr>\n",
       "    <tr>\n",
       "      <th>4</th>\n",
       "      <td>A</td>\n",
       "      <td>Yangon</td>\n",
       "      <td>Normal</td>\n",
       "      <td>Male</td>\n",
       "      <td>Sports and travel</td>\n",
       "      <td>86.31</td>\n",
       "      <td>7</td>\n",
       "      <td>30.2085</td>\n",
       "      <td>634.3785</td>\n",
       "      <td>2019-02-08</td>\n",
       "      <td>1900-01-01 10:37:00</td>\n",
       "      <td>Ewallet</td>\n",
       "      <td>5.3</td>\n",
       "    </tr>\n",
       "    <tr>\n",
       "      <th>...</th>\n",
       "      <td>...</td>\n",
       "      <td>...</td>\n",
       "      <td>...</td>\n",
       "      <td>...</td>\n",
       "      <td>...</td>\n",
       "      <td>...</td>\n",
       "      <td>...</td>\n",
       "      <td>...</td>\n",
       "      <td>...</td>\n",
       "      <td>...</td>\n",
       "      <td>...</td>\n",
       "      <td>...</td>\n",
       "      <td>...</td>\n",
       "    </tr>\n",
       "    <tr>\n",
       "      <th>995</th>\n",
       "      <td>C</td>\n",
       "      <td>Naypyitaw</td>\n",
       "      <td>Normal</td>\n",
       "      <td>Male</td>\n",
       "      <td>Health and beauty</td>\n",
       "      <td>40.35</td>\n",
       "      <td>1</td>\n",
       "      <td>2.0175</td>\n",
       "      <td>42.3675</td>\n",
       "      <td>2019-01-29</td>\n",
       "      <td>1900-01-01 13:46:00</td>\n",
       "      <td>Ewallet</td>\n",
       "      <td>6.2</td>\n",
       "    </tr>\n",
       "    <tr>\n",
       "      <th>996</th>\n",
       "      <td>B</td>\n",
       "      <td>Mandalay</td>\n",
       "      <td>Normal</td>\n",
       "      <td>Female</td>\n",
       "      <td>Home and lifestyle</td>\n",
       "      <td>97.38</td>\n",
       "      <td>10</td>\n",
       "      <td>48.6900</td>\n",
       "      <td>1022.4900</td>\n",
       "      <td>2019-03-02</td>\n",
       "      <td>1900-01-01 17:16:00</td>\n",
       "      <td>Ewallet</td>\n",
       "      <td>4.4</td>\n",
       "    </tr>\n",
       "    <tr>\n",
       "      <th>997</th>\n",
       "      <td>A</td>\n",
       "      <td>Yangon</td>\n",
       "      <td>Member</td>\n",
       "      <td>Male</td>\n",
       "      <td>Food and beverages</td>\n",
       "      <td>31.84</td>\n",
       "      <td>1</td>\n",
       "      <td>1.5920</td>\n",
       "      <td>33.4320</td>\n",
       "      <td>2019-02-09</td>\n",
       "      <td>1900-01-01 13:22:00</td>\n",
       "      <td>Cash</td>\n",
       "      <td>7.7</td>\n",
       "    </tr>\n",
       "    <tr>\n",
       "      <th>998</th>\n",
       "      <td>A</td>\n",
       "      <td>Yangon</td>\n",
       "      <td>Normal</td>\n",
       "      <td>Male</td>\n",
       "      <td>Home and lifestyle</td>\n",
       "      <td>65.82</td>\n",
       "      <td>1</td>\n",
       "      <td>3.2910</td>\n",
       "      <td>69.1110</td>\n",
       "      <td>2019-02-22</td>\n",
       "      <td>1900-01-01 15:33:00</td>\n",
       "      <td>Cash</td>\n",
       "      <td>4.1</td>\n",
       "    </tr>\n",
       "    <tr>\n",
       "      <th>999</th>\n",
       "      <td>A</td>\n",
       "      <td>Yangon</td>\n",
       "      <td>Member</td>\n",
       "      <td>Female</td>\n",
       "      <td>Fashion accessories</td>\n",
       "      <td>88.34</td>\n",
       "      <td>7</td>\n",
       "      <td>30.9190</td>\n",
       "      <td>649.2990</td>\n",
       "      <td>2019-02-18</td>\n",
       "      <td>1900-01-01 13:28:00</td>\n",
       "      <td>Cash</td>\n",
       "      <td>6.6</td>\n",
       "    </tr>\n",
       "  </tbody>\n",
       "</table>\n",
       "<p>1000 rows × 13 columns</p>\n",
       "</div>"
      ],
      "text/plain": [
       "    Branch       City Customer type  Gender            Product line  \\\n",
       "0        A     Yangon        Member  Female       Health and beauty   \n",
       "1        C  Naypyitaw        Normal  Female  Electronic accessories   \n",
       "2        A     Yangon        Normal    Male      Home and lifestyle   \n",
       "3        A     Yangon        Member    Male       Health and beauty   \n",
       "4        A     Yangon        Normal    Male       Sports and travel   \n",
       "..     ...        ...           ...     ...                     ...   \n",
       "995      C  Naypyitaw        Normal    Male       Health and beauty   \n",
       "996      B   Mandalay        Normal  Female      Home and lifestyle   \n",
       "997      A     Yangon        Member    Male      Food and beverages   \n",
       "998      A     Yangon        Normal    Male      Home and lifestyle   \n",
       "999      A     Yangon        Member  Female     Fashion accessories   \n",
       "\n",
       "     Unit price  Quantity   Tax 5%      Total       Date                Time  \\\n",
       "0         74.69         7  26.1415   548.9715 2019-01-05 1900-01-01 13:08:00   \n",
       "1         15.28         5   3.8200    80.2200 2019-03-08 1900-01-01 10:29:00   \n",
       "2         46.33         7  16.2155   340.5255 2019-03-03 1900-01-01 13:23:00   \n",
       "3         58.22         8  23.2880   489.0480 2019-01-27 1900-01-01 20:33:00   \n",
       "4         86.31         7  30.2085   634.3785 2019-02-08 1900-01-01 10:37:00   \n",
       "..          ...       ...      ...        ...        ...                 ...   \n",
       "995       40.35         1   2.0175    42.3675 2019-01-29 1900-01-01 13:46:00   \n",
       "996       97.38        10  48.6900  1022.4900 2019-03-02 1900-01-01 17:16:00   \n",
       "997       31.84         1   1.5920    33.4320 2019-02-09 1900-01-01 13:22:00   \n",
       "998       65.82         1   3.2910    69.1110 2019-02-22 1900-01-01 15:33:00   \n",
       "999       88.34         7  30.9190   649.2990 2019-02-18 1900-01-01 13:28:00   \n",
       "\n",
       "         Payment  Rating  \n",
       "0        Ewallet     9.1  \n",
       "1           Cash     9.6  \n",
       "2    Credit card     7.4  \n",
       "3        Ewallet     8.4  \n",
       "4        Ewallet     5.3  \n",
       "..           ...     ...  \n",
       "995      Ewallet     6.2  \n",
       "996      Ewallet     4.4  \n",
       "997         Cash     7.7  \n",
       "998         Cash     4.1  \n",
       "999         Cash     6.6  \n",
       "\n",
       "[1000 rows x 13 columns]"
      ]
     },
     "execution_count": 24,
     "metadata": {},
     "output_type": "execute_result"
    }
   ],
   "source": [
    "df"
   ]
  },
  {
   "cell_type": "markdown",
   "id": "a74c03ac",
   "metadata": {},
   "source": [
    "### 12) Agrupamento"
   ]
  },
  {
   "cell_type": "code",
   "execution_count": 25,
   "id": "923d2e6b",
   "metadata": {},
   "outputs": [
    {
     "data": {
      "text/plain": [
       "Product line\n",
       "Food and beverages        56144.8440\n",
       "Sports and travel         55122.8265\n",
       "Electronic accessories    54337.5315\n",
       "Fashion accessories       54305.8950\n",
       "Home and lifestyle        53861.9130\n",
       "Health and beauty         49193.7390\n",
       "Name: Total, dtype: float64"
      ]
     },
     "execution_count": 25,
     "metadata": {},
     "output_type": "execute_result"
    }
   ],
   "source": [
    "vendas_mensais = df.groupby('Product line')['Total'].sum()\n",
    "vendas_mensais.sort_values(ascending=False)"
   ]
  },
  {
   "cell_type": "markdown",
   "id": "dd057464",
   "metadata": {},
   "source": [
    "### 13) Criar novas colunas"
   ]
  },
  {
   "cell_type": "code",
   "execution_count": 26,
   "id": "ab385ef5",
   "metadata": {},
   "outputs": [],
   "source": [
    "df['Month'] = df['Date'].dt.month\n",
    "df['Day'] = df['Date'].dt.day\n",
    "df['Year'] = df['Date'].dt.year"
   ]
  },
  {
   "cell_type": "code",
   "execution_count": 27,
   "id": "37a9f3b2",
   "metadata": {},
   "outputs": [
    {
     "data": {
      "text/plain": [
       "Branch                   object\n",
       "City                     object\n",
       "Customer type            object\n",
       "Gender                   object\n",
       "Product line             object\n",
       "Unit price              float64\n",
       "Quantity                  int64\n",
       "Tax 5%                  float64\n",
       "Total                   float64\n",
       "Date             datetime64[ns]\n",
       "Time             datetime64[ns]\n",
       "Payment                  object\n",
       "Rating                  float64\n",
       "Month                     int32\n",
       "Day                       int32\n",
       "Year                      int32\n",
       "dtype: object"
      ]
     },
     "metadata": {},
     "output_type": "display_data"
    }
   ],
   "source": [
    "tipos_de_dados = df.dtypes\n",
    "display(tipos_de_dados)"
   ]
  },
  {
   "cell_type": "markdown",
   "id": "fd32fbae",
   "metadata": {},
   "source": [
    "### 14) Aplicar funções e lambdas"
   ]
  },
  {
   "cell_type": "markdown",
   "id": "9370dc88",
   "metadata": {},
   "source": [
    "Aplicando uma função lambda para um hipótese de merge com um dataset que avalia de 1 a 5"
   ]
  },
  {
   "cell_type": "code",
   "execution_count": 28,
   "id": "fd337505",
   "metadata": {},
   "outputs": [],
   "source": [
    "df['Rating 2.0'] = df['Rating'].apply(lambda x: x / 2)"
   ]
  },
  {
   "cell_type": "code",
   "execution_count": 29,
   "id": "c4ee1e94",
   "metadata": {},
   "outputs": [
    {
     "data": {
      "text/plain": [
       "0      4.55\n",
       "1      4.80\n",
       "2      3.70\n",
       "3      4.20\n",
       "4      2.65\n",
       "       ... \n",
       "995    3.10\n",
       "996    2.20\n",
       "997    3.85\n",
       "998    2.05\n",
       "999    3.30\n",
       "Name: Rating 2.0, Length: 1000, dtype: float64"
      ]
     },
     "metadata": {},
     "output_type": "display_data"
    }
   ],
   "source": [
    "display(df['Rating 2.0'])"
   ]
  },
  {
   "cell_type": "markdown",
   "id": "35a314b1",
   "metadata": {},
   "source": [
    "### 15) Encontrar maior/menor valores"
   ]
  },
  {
   "cell_type": "code",
   "execution_count": 30,
   "id": "e19ad059",
   "metadata": {},
   "outputs": [],
   "source": [
    "melhor_avaliacao = df['Rating'].max()\n",
    "pior_avaliacao = df['Rating'].min()"
   ]
  },
  {
   "cell_type": "code",
   "execution_count": 31,
   "id": "3d6cc95e",
   "metadata": {},
   "outputs": [
    {
     "data": {
      "text/plain": [
       "10.0"
      ]
     },
     "execution_count": 31,
     "metadata": {},
     "output_type": "execute_result"
    }
   ],
   "source": [
    "melhor_avaliacao"
   ]
  },
  {
   "cell_type": "code",
   "execution_count": 32,
   "id": "14d33f78",
   "metadata": {},
   "outputs": [
    {
     "data": {
      "text/plain": [
       "4.0"
      ]
     },
     "execution_count": 32,
     "metadata": {},
     "output_type": "execute_result"
    }
   ],
   "source": [
    "pior_avaliacao"
   ]
  },
  {
   "cell_type": "markdown",
   "id": "3c099e90",
   "metadata": {},
   "source": [
    "### 16) Separar os top 1%"
   ]
  },
  {
   "cell_type": "code",
   "execution_count": 33,
   "id": "511b81d5",
   "metadata": {},
   "outputs": [],
   "source": [
    "top_1_percento = df.nlargest(int(0.01 * len(df)), 'Unit price')"
   ]
  },
  {
   "cell_type": "code",
   "execution_count": 34,
   "id": "960205c0",
   "metadata": {},
   "outputs": [
    {
     "data": {
      "text/html": [
       "<div>\n",
       "<style scoped>\n",
       "    .dataframe tbody tr th:only-of-type {\n",
       "        vertical-align: middle;\n",
       "    }\n",
       "\n",
       "    .dataframe tbody tr th {\n",
       "        vertical-align: top;\n",
       "    }\n",
       "\n",
       "    .dataframe thead th {\n",
       "        text-align: right;\n",
       "    }\n",
       "</style>\n",
       "<table border=\"1\" class=\"dataframe\">\n",
       "  <thead>\n",
       "    <tr style=\"text-align: right;\">\n",
       "      <th></th>\n",
       "      <th>Branch</th>\n",
       "      <th>City</th>\n",
       "      <th>Customer type</th>\n",
       "      <th>Gender</th>\n",
       "      <th>Product line</th>\n",
       "      <th>Unit price</th>\n",
       "      <th>Quantity</th>\n",
       "      <th>Tax 5%</th>\n",
       "      <th>Total</th>\n",
       "      <th>Date</th>\n",
       "      <th>Time</th>\n",
       "      <th>Payment</th>\n",
       "      <th>Rating</th>\n",
       "      <th>Month</th>\n",
       "      <th>Day</th>\n",
       "      <th>Year</th>\n",
       "      <th>Rating 2.0</th>\n",
       "    </tr>\n",
       "  </thead>\n",
       "  <tbody>\n",
       "    <tr>\n",
       "      <th>122</th>\n",
       "      <td>B</td>\n",
       "      <td>Mandalay</td>\n",
       "      <td>Member</td>\n",
       "      <td>Male</td>\n",
       "      <td>Sports and travel</td>\n",
       "      <td>99.96</td>\n",
       "      <td>9</td>\n",
       "      <td>44.9820</td>\n",
       "      <td>944.6220</td>\n",
       "      <td>2019-03-09</td>\n",
       "      <td>1900-01-01 17:26:00</td>\n",
       "      <td>Credit card</td>\n",
       "      <td>4.2</td>\n",
       "      <td>3</td>\n",
       "      <td>9</td>\n",
       "      <td>2019</td>\n",
       "      <td>2.10</td>\n",
       "    </tr>\n",
       "    <tr>\n",
       "      <th>983</th>\n",
       "      <td>C</td>\n",
       "      <td>Naypyitaw</td>\n",
       "      <td>Normal</td>\n",
       "      <td>Male</td>\n",
       "      <td>Health and beauty</td>\n",
       "      <td>99.96</td>\n",
       "      <td>7</td>\n",
       "      <td>34.9860</td>\n",
       "      <td>734.7060</td>\n",
       "      <td>2019-01-23</td>\n",
       "      <td>1900-01-01 10:33:00</td>\n",
       "      <td>Cash</td>\n",
       "      <td>6.1</td>\n",
       "      <td>1</td>\n",
       "      <td>23</td>\n",
       "      <td>2019</td>\n",
       "      <td>3.05</td>\n",
       "    </tr>\n",
       "    <tr>\n",
       "      <th>930</th>\n",
       "      <td>B</td>\n",
       "      <td>Mandalay</td>\n",
       "      <td>Normal</td>\n",
       "      <td>Male</td>\n",
       "      <td>Home and lifestyle</td>\n",
       "      <td>99.92</td>\n",
       "      <td>6</td>\n",
       "      <td>29.9760</td>\n",
       "      <td>629.4960</td>\n",
       "      <td>2019-03-24</td>\n",
       "      <td>1900-01-01 13:33:00</td>\n",
       "      <td>Ewallet</td>\n",
       "      <td>7.1</td>\n",
       "      <td>3</td>\n",
       "      <td>24</td>\n",
       "      <td>2019</td>\n",
       "      <td>3.55</td>\n",
       "    </tr>\n",
       "    <tr>\n",
       "      <th>494</th>\n",
       "      <td>B</td>\n",
       "      <td>Mandalay</td>\n",
       "      <td>Normal</td>\n",
       "      <td>Male</td>\n",
       "      <td>Fashion accessories</td>\n",
       "      <td>99.89</td>\n",
       "      <td>2</td>\n",
       "      <td>9.9890</td>\n",
       "      <td>209.7690</td>\n",
       "      <td>2019-02-26</td>\n",
       "      <td>1900-01-01 11:48:00</td>\n",
       "      <td>Ewallet</td>\n",
       "      <td>7.1</td>\n",
       "      <td>2</td>\n",
       "      <td>26</td>\n",
       "      <td>2019</td>\n",
       "      <td>3.55</td>\n",
       "    </tr>\n",
       "    <tr>\n",
       "      <th>283</th>\n",
       "      <td>A</td>\n",
       "      <td>Yangon</td>\n",
       "      <td>Member</td>\n",
       "      <td>Male</td>\n",
       "      <td>Health and beauty</td>\n",
       "      <td>99.83</td>\n",
       "      <td>6</td>\n",
       "      <td>29.9490</td>\n",
       "      <td>628.9290</td>\n",
       "      <td>2019-03-04</td>\n",
       "      <td>1900-01-01 15:02:00</td>\n",
       "      <td>Ewallet</td>\n",
       "      <td>8.5</td>\n",
       "      <td>3</td>\n",
       "      <td>4</td>\n",
       "      <td>2019</td>\n",
       "      <td>4.25</td>\n",
       "    </tr>\n",
       "    <tr>\n",
       "      <th>300</th>\n",
       "      <td>C</td>\n",
       "      <td>Naypyitaw</td>\n",
       "      <td>Normal</td>\n",
       "      <td>Male</td>\n",
       "      <td>Fashion accessories</td>\n",
       "      <td>99.82</td>\n",
       "      <td>2</td>\n",
       "      <td>9.9820</td>\n",
       "      <td>209.6220</td>\n",
       "      <td>2019-01-02</td>\n",
       "      <td>1900-01-01 18:09:00</td>\n",
       "      <td>Credit card</td>\n",
       "      <td>6.7</td>\n",
       "      <td>1</td>\n",
       "      <td>2</td>\n",
       "      <td>2019</td>\n",
       "      <td>3.35</td>\n",
       "    </tr>\n",
       "    <tr>\n",
       "      <th>941</th>\n",
       "      <td>C</td>\n",
       "      <td>Naypyitaw</td>\n",
       "      <td>Member</td>\n",
       "      <td>Male</td>\n",
       "      <td>Fashion accessories</td>\n",
       "      <td>99.82</td>\n",
       "      <td>9</td>\n",
       "      <td>44.9190</td>\n",
       "      <td>943.2990</td>\n",
       "      <td>2019-03-27</td>\n",
       "      <td>1900-01-01 10:43:00</td>\n",
       "      <td>Cash</td>\n",
       "      <td>6.6</td>\n",
       "      <td>3</td>\n",
       "      <td>27</td>\n",
       "      <td>2019</td>\n",
       "      <td>3.30</td>\n",
       "    </tr>\n",
       "    <tr>\n",
       "      <th>362</th>\n",
       "      <td>C</td>\n",
       "      <td>Naypyitaw</td>\n",
       "      <td>Normal</td>\n",
       "      <td>Male</td>\n",
       "      <td>Food and beverages</td>\n",
       "      <td>99.79</td>\n",
       "      <td>2</td>\n",
       "      <td>9.9790</td>\n",
       "      <td>209.5590</td>\n",
       "      <td>2019-03-07</td>\n",
       "      <td>1900-01-01 20:37:00</td>\n",
       "      <td>Ewallet</td>\n",
       "      <td>8.0</td>\n",
       "      <td>3</td>\n",
       "      <td>7</td>\n",
       "      <td>2019</td>\n",
       "      <td>4.00</td>\n",
       "    </tr>\n",
       "    <tr>\n",
       "      <th>326</th>\n",
       "      <td>A</td>\n",
       "      <td>Yangon</td>\n",
       "      <td>Member</td>\n",
       "      <td>Male</td>\n",
       "      <td>Food and beverages</td>\n",
       "      <td>99.78</td>\n",
       "      <td>5</td>\n",
       "      <td>24.9450</td>\n",
       "      <td>523.8450</td>\n",
       "      <td>2019-03-09</td>\n",
       "      <td>1900-01-01 19:09:00</td>\n",
       "      <td>Cash</td>\n",
       "      <td>5.4</td>\n",
       "      <td>3</td>\n",
       "      <td>9</td>\n",
       "      <td>2019</td>\n",
       "      <td>2.70</td>\n",
       "    </tr>\n",
       "    <tr>\n",
       "      <th>209</th>\n",
       "      <td>B</td>\n",
       "      <td>Mandalay</td>\n",
       "      <td>Normal</td>\n",
       "      <td>Female</td>\n",
       "      <td>Electronic accessories</td>\n",
       "      <td>99.73</td>\n",
       "      <td>9</td>\n",
       "      <td>44.8785</td>\n",
       "      <td>942.4485</td>\n",
       "      <td>2019-03-02</td>\n",
       "      <td>1900-01-01 19:42:00</td>\n",
       "      <td>Credit card</td>\n",
       "      <td>6.5</td>\n",
       "      <td>3</td>\n",
       "      <td>2</td>\n",
       "      <td>2019</td>\n",
       "      <td>3.25</td>\n",
       "    </tr>\n",
       "  </tbody>\n",
       "</table>\n",
       "</div>"
      ],
      "text/plain": [
       "    Branch       City Customer type  Gender            Product line  \\\n",
       "122      B   Mandalay        Member    Male       Sports and travel   \n",
       "983      C  Naypyitaw        Normal    Male       Health and beauty   \n",
       "930      B   Mandalay        Normal    Male      Home and lifestyle   \n",
       "494      B   Mandalay        Normal    Male     Fashion accessories   \n",
       "283      A     Yangon        Member    Male       Health and beauty   \n",
       "300      C  Naypyitaw        Normal    Male     Fashion accessories   \n",
       "941      C  Naypyitaw        Member    Male     Fashion accessories   \n",
       "362      C  Naypyitaw        Normal    Male      Food and beverages   \n",
       "326      A     Yangon        Member    Male      Food and beverages   \n",
       "209      B   Mandalay        Normal  Female  Electronic accessories   \n",
       "\n",
       "     Unit price  Quantity   Tax 5%     Total       Date                Time  \\\n",
       "122       99.96         9  44.9820  944.6220 2019-03-09 1900-01-01 17:26:00   \n",
       "983       99.96         7  34.9860  734.7060 2019-01-23 1900-01-01 10:33:00   \n",
       "930       99.92         6  29.9760  629.4960 2019-03-24 1900-01-01 13:33:00   \n",
       "494       99.89         2   9.9890  209.7690 2019-02-26 1900-01-01 11:48:00   \n",
       "283       99.83         6  29.9490  628.9290 2019-03-04 1900-01-01 15:02:00   \n",
       "300       99.82         2   9.9820  209.6220 2019-01-02 1900-01-01 18:09:00   \n",
       "941       99.82         9  44.9190  943.2990 2019-03-27 1900-01-01 10:43:00   \n",
       "362       99.79         2   9.9790  209.5590 2019-03-07 1900-01-01 20:37:00   \n",
       "326       99.78         5  24.9450  523.8450 2019-03-09 1900-01-01 19:09:00   \n",
       "209       99.73         9  44.8785  942.4485 2019-03-02 1900-01-01 19:42:00   \n",
       "\n",
       "         Payment  Rating  Month  Day  Year  Rating 2.0  \n",
       "122  Credit card     4.2      3    9  2019        2.10  \n",
       "983         Cash     6.1      1   23  2019        3.05  \n",
       "930      Ewallet     7.1      3   24  2019        3.55  \n",
       "494      Ewallet     7.1      2   26  2019        3.55  \n",
       "283      Ewallet     8.5      3    4  2019        4.25  \n",
       "300  Credit card     6.7      1    2  2019        3.35  \n",
       "941         Cash     6.6      3   27  2019        3.30  \n",
       "362      Ewallet     8.0      3    7  2019        4.00  \n",
       "326         Cash     5.4      3    9  2019        2.70  \n",
       "209  Credit card     6.5      3    2  2019        3.25  "
      ]
     },
     "execution_count": 34,
     "metadata": {},
     "output_type": "execute_result"
    }
   ],
   "source": [
    "top_1_percento"
   ]
  },
  {
   "cell_type": "markdown",
   "id": "de5efd1d",
   "metadata": {},
   "source": [
    "### 17) Manipulação de datas (conferir se está repetido com o item 05)"
   ]
  },
  {
   "cell_type": "code",
   "execution_count": 35,
   "id": "7fba9ecd",
   "metadata": {},
   "outputs": [],
   "source": [
    "df['Date'] = pd.to_datetime(df['Date'])  \n",
    "df['Month'] = df['Date'].dt.month\n",
    "df['Day'] = df['Date'].dt.day\n",
    "df['Year'] = df['Date'].dt.year"
   ]
  },
  {
   "cell_type": "markdown",
   "id": "0e56da9e",
   "metadata": {},
   "source": [
    "### 18) Visualização de dados utilizando Matplotlib"
   ]
  },
  {
   "cell_type": "code",
   "execution_count": 36,
   "id": "0aec47bc",
   "metadata": {},
   "outputs": [
    {
     "data": {
      "image/png": "[encoded data removed]",
      "text/plain": [
       "<Figure size 600x600 with 1 Axes>"
      ]
     },
     "metadata": {},
     "output_type": "display_data"
    }
   ],
   "source": [
    "faturamento_por_filial = df.groupby('Branch')['Total'].sum()\n",
    "\n",
    "plt.figure(figsize=(6, 6))\n",
    "plt.pie(faturamento_por_filial, labels=faturamento_por_filial.index, autopct='%1.1f%%', startangle=90, colors=['skyblue', 'lightcoral', 'lightgreen'])\n",
    "plt.title('Faturamento Total por Filial')\n",
    "plt.show()"
   ]
  },
  {
   "cell_type": "markdown",
   "id": "12b3b1ff",
   "metadata": {},
   "source": [
    "# Perguntas de negócio"
   ]
  },
  {
   "cell_type": "markdown",
   "id": "3085f7d3",
   "metadata": {},
   "source": [
    "## 1) Otimização do ticket médio: Como podemos otimizar o ticket médio das transações?\n",
    "\n"
   ]
  },
  {
   "cell_type": "code",
   "execution_count": 37,
   "id": "a2458a87",
   "metadata": {},
   "outputs": [
    {
     "data": {
      "text/plain": [
       "322.966749"
      ]
     },
     "execution_count": 37,
     "metadata": {},
     "output_type": "execute_result"
    }
   ],
   "source": [
    "df['Total'].mean()"
   ]
  },
  {
   "cell_type": "code",
   "execution_count": 38,
   "id": "71f735c0",
   "metadata": {},
   "outputs": [
    {
     "name": "stdout",
     "output_type": "stream",
     "text": [
      "          Montante  No. Compras  Ticket Médio\n",
      "Gender                                       \n",
      "Female  167882.925          501    335.095659\n",
      "Male    155083.824          499    310.789226\n"
     ]
    }
   ],
   "source": [
    "ticket_medio_genero = df.groupby('Gender').agg({'Total': 'sum', 'Quantity': 'count'})\n",
    "\n",
    "ticket_medio_genero.rename(columns={'Total': 'Montante', 'Quantity': 'No. Compras'}, inplace=True)\n",
    "\n",
    "ticket_medio_genero['Ticket Médio'] = ticket_medio_genero['Montante'] / ticket_medio_genero['No. Compras']\n",
    "\n",
    "print(ticket_medio_genero[['Montante', 'No. Compras', 'Ticket Médio']])"
   ]
  },
  {
   "cell_type": "code",
   "execution_count": 39,
   "id": "243dc508",
   "metadata": {},
   "outputs": [],
   "source": [
    "ticket_label = ticket_medio_genero['Ticket Médio']"
   ]
  },
  {
   "cell_type": "markdown",
   "id": "39bb47ca",
   "metadata": {},
   "source": [
    "## 2) Volume de compras no mês: Qual é o período do mês em que observamos o maior volume de compras e como podemos capitalizar esse aumento?"
   ]
  },
  {
   "cell_type": "markdown",
   "id": "8d6f75f7",
   "metadata": {},
   "source": [
    "## 3) Padrões de consumo por gênero: Quais são os padrões de consumo por gênero para cada categoria de produtos disponíveis?"
   ]
  },
  {
   "cell_type": "code",
   "execution_count": 40,
   "id": "5282b216",
   "metadata": {},
   "outputs": [],
   "source": [
    "filtro_mulher = df[df['Gender'] == 'Female']\n",
    "filtro_homem = df[df['Gender'] == 'Male']"
   ]
  },
  {
   "cell_type": "code",
   "execution_count": 41,
   "id": "8854dcc7",
   "metadata": {},
   "outputs": [],
   "source": [
    "transacoes_homem = filtro_homem['Product line'].value_counts()\n",
    "transacoes_mulher= filtro_mulher['Product line'].value_counts()"
   ]
  },
  {
   "cell_type": "code",
   "execution_count": 42,
   "id": "143da576",
   "metadata": {},
   "outputs": [
    {
     "data": {
      "text/plain": [
       "Product line\n",
       "Health and beauty         88\n",
       "Electronic accessories    86\n",
       "Food and beverages        84\n",
       "Fashion accessories       82\n",
       "Home and lifestyle        81\n",
       "Sports and travel         78\n",
       "Name: count, dtype: int64"
      ]
     },
     "execution_count": 42,
     "metadata": {},
     "output_type": "execute_result"
    }
   ],
   "source": [
    "transacoes_homem"
   ]
  },
  {
   "cell_type": "code",
   "execution_count": 43,
   "id": "ecf4f238",
   "metadata": {},
   "outputs": [
    {
     "data": {
      "text/plain": [
       "Product line\n",
       "Fashion accessories       96\n",
       "Food and beverages        90\n",
       "Sports and travel         88\n",
       "Electronic accessories    84\n",
       "Home and lifestyle        79\n",
       "Health and beauty         64\n",
       "Name: count, dtype: int64"
      ]
     },
     "execution_count": 43,
     "metadata": {},
     "output_type": "execute_result"
    }
   ],
   "source": [
    "transacoes_mulher"
   ]
  },
  {
   "cell_type": "code",
   "execution_count": 44,
   "id": "4765a24e",
   "metadata": {},
   "outputs": [
    {
     "data": {
      "text/plain": [
       "array(['Health and beauty', 'Electronic accessories',\n",
       "       'Home and lifestyle', 'Sports and travel', 'Food and beverages',\n",
       "       'Fashion accessories'], dtype=object)"
      ]
     },
     "execution_count": 44,
     "metadata": {},
     "output_type": "execute_result"
    }
   ],
   "source": [
    "produtos = df['Product line'].unique()\n",
    "produtos"
   ]
  },
  {
   "cell_type": "code",
   "execution_count": 45,
   "id": "d22e792d",
   "metadata": {},
   "outputs": [
    {
     "data": {
      "text/plain": [
       "array([0, 1, 2, 3, 4, 5])"
      ]
     },
     "execution_count": 45,
     "metadata": {},
     "output_type": "execute_result"
    }
   ],
   "source": [
    "transacoes_homem = transacoes_homem.reindex(produtos, fill_value=0)\n",
    "transacoes_mulher = transacoes_mulher.reindex(produtos, fill_value=0)\n",
    "index = np.arange(len(produtos))\n",
    "index"
   ]
  },
  {
   "cell_type": "code",
   "execution_count": 46,
   "id": "f7857f8f",
   "metadata": {
    "scrolled": true
   },
   "outputs": [
    {
     "data": {
      "image/png": "[encoded data removed]",
      "text/plain": [
       "<Figure size 640x480 with 1 Axes>"
      ]
     },
     "metadata": {},
     "output_type": "display_data"
    }
   ],
   "source": [
    "index = np.arange(len(produtos))\n",
    "index\n",
    "\n",
    "fig, ax = plt.subplots()\n",
    "bar_width = 0.35\n",
    "\n",
    "\n",
    "barra_homem = ax.bar(index, transacoes_homem, bar_width, label='Homens')\n",
    "barra_mulher = ax.bar(index + bar_width, transacoes_mulher, bar_width, label='Mulheres')\n",
    "\n",
    "ax.set_xlabel('Categorias de Produtos')\n",
    "ax.set_ylabel('Número de Compras')\n",
    "ax.set_title('Compras por Gênero')\n",
    "ax.set_xticks(index + bar_width / 2)\n",
    "ax.set_xticklabels(produtos, minor=False, rotation=90)\n",
    "ax.legend()\n",
    "\n",
    "plt.show()"
   ]
  },
  {
   "cell_type": "markdown",
   "id": "18284aad",
   "metadata": {},
   "source": [
    "## 4) Categorias de produtos mais vendidas: Quais são as três categorias de produtos mais vendidas e como podemos maximizar sua performance?"
   ]
  },
  {
   "cell_type": "code",
   "execution_count": 47,
   "id": "db6f20b9",
   "metadata": {},
   "outputs": [
    {
     "data": {
      "text/plain": [
       "Index(['Branch', 'City', 'Customer type', 'Gender', 'Product line',\n",
       "       'Unit price', 'Quantity', 'Tax 5%', 'Total', 'Date', 'Time', 'Payment',\n",
       "       'Rating', 'Month', 'Day', 'Year', 'Rating 2.0'],\n",
       "      dtype='object')"
      ]
     },
     "execution_count": 47,
     "metadata": {},
     "output_type": "execute_result"
    }
   ],
   "source": [
    "df.columns"
   ]
  },
  {
   "cell_type": "code",
   "execution_count": 48,
   "id": "39e90a35",
   "metadata": {},
   "outputs": [
    {
     "data": {
      "text/plain": [
       "Product line\n",
       "Electronic accessories    54337.5315\n",
       "Fashion accessories       54305.8950\n",
       "Food and beverages        56144.8440\n",
       "Health and beauty         49193.7390\n",
       "Home and lifestyle        53861.9130\n",
       "Sports and travel         55122.8265\n",
       "Name: Total, dtype: float64"
      ]
     },
     "execution_count": 48,
     "metadata": {},
     "output_type": "execute_result"
    }
   ],
   "source": [
    "produtos_mais_vendidos = df.groupby('Product line')['Total'].sum()\n",
    "produtos_mais_vendidos"
   ]
  },
  {
   "cell_type": "code",
   "execution_count": 49,
   "id": "8b68405d",
   "metadata": {},
   "outputs": [
    {
     "data": {
      "text/plain": [
       "Product line\n",
       "Food and beverages        56144.8440\n",
       "Sports and travel         55122.8265\n",
       "Electronic accessories    54337.5315\n",
       "Name: Total, dtype: float64"
      ]
     },
     "execution_count": 49,
     "metadata": {},
     "output_type": "execute_result"
    }
   ],
   "source": [
    "top3_mais_vendidos = produtos_mais_vendidos.sort_values(ascending=False).head(3)\n",
    "top3_mais_vendidos"
   ]
  },
  {
   "cell_type": "code",
   "execution_count": 50,
   "id": "9e4b0040",
   "metadata": {},
   "outputs": [
    {
     "data": {
      "image/png": "[encoded data removed]",
      "text/plain": [
       "<Figure size 640x480 with 1 Axes>"
      ]
     },
     "metadata": {},
     "output_type": "display_data"
    }
   ],
   "source": [
    "produtos_mais_vendidos = df.groupby('Product line')['Total'].sum()\n",
    "top3_mais_vendidos = produtos_mais_vendidos.sort_values(ascending=False).head(3)\n",
    "\n",
    "fig, ax = plt.subplots()\n",
    "top3_mais_vendidos.sort_values().plot(kind='barh', color='navy')\n",
    "ax.set_xlabel('Quantidade Vendida')\n",
    "ax.set_ylabel('Categoria de Produto')\n",
    "ax.set_title('Top 3 Produtos Mais Vendidos')\n",
    "\n",
    "plt.show()"
   ]
  },
  {
   "cell_type": "markdown",
   "id": "8629b142",
   "metadata": {},
   "source": [
    "## 5) Categorias de produtos menos vendidas: Quais são as três categorias de produtos menos vendidas, e quais estratégias podem ser implementadas para impulsionar suas vendas?"
   ]
  },
  {
   "cell_type": "code",
   "execution_count": 51,
   "id": "228488b5",
   "metadata": {},
   "outputs": [
    {
     "data": {
      "text/plain": [
       "Product line\n",
       "Electronic accessories    54337.5315\n",
       "Fashion accessories       54305.8950\n",
       "Food and beverages        56144.8440\n",
       "Health and beauty         49193.7390\n",
       "Home and lifestyle        53861.9130\n",
       "Sports and travel         55122.8265\n",
       "Name: Total, dtype: float64"
      ]
     },
     "execution_count": 51,
     "metadata": {},
     "output_type": "execute_result"
    }
   ],
   "source": [
    "produtos_menos_vendidos = df.groupby('Product line')['Total'].sum()\n",
    "produtos_menos_vendidos"
   ]
  },
  {
   "cell_type": "code",
   "execution_count": 52,
   "id": "a7ba5dce",
   "metadata": {},
   "outputs": [
    {
     "data": {
      "text/plain": [
       "Product line\n",
       "Health and beauty      49193.739\n",
       "Home and lifestyle     53861.913\n",
       "Fashion accessories    54305.895\n",
       "Name: Total, dtype: float64"
      ]
     },
     "execution_count": 52,
     "metadata": {},
     "output_type": "execute_result"
    }
   ],
   "source": [
    "top3_menos_vendidos = produtos_menos_vendidos.sort_values(ascending=True).head(3)\n",
    "top3_menos_vendidos"
   ]
  },
  {
   "cell_type": "code",
   "execution_count": 53,
   "id": "7572c084",
   "metadata": {},
   "outputs": [
    {
     "data": {
      "image/png": "[encoded data removed]",
      "text/plain": [
       "<Figure size 640x480 with 1 Axes>"
      ]
     },
     "metadata": {},
     "output_type": "display_data"
    }
   ],
   "source": [
    "produtos_menos_vendidos = df.groupby('Product line')['Total'].sum()\n",
    "top3_menos_vendidos = produtos_menos_vendidos.sort_values(ascending=True).head(3)\n",
    "\n",
    "fig, ax = plt.subplots()\n",
    "top3_menos_vendidos.plot(kind='barh', color='navy')\n",
    "ax.set_xlabel('Quantidade Vendida')\n",
    "ax.set_ylabel('Categoria de Produto')\n",
    "ax.set_title('Top 3 Produtos Menos Vendidos')\n",
    "\n",
    "plt.show()"
   ]
  },
  {
   "cell_type": "markdown",
   "id": "d62f1c04",
   "metadata": {},
   "source": [
    "## 6) Adesão de membros: Como podemos aumentar a adesão de membros ao relacionar o meio de pagamento com os benefícios do programa de membership?"
   ]
  },
  {
   "cell_type": "code",
   "execution_count": 54,
   "id": "cb55c1a3",
   "metadata": {},
   "outputs": [
    {
     "data": {
      "text/plain": [
       "322966.749"
      ]
     },
     "execution_count": 54,
     "metadata": {},
     "output_type": "execute_result"
    }
   ],
   "source": [
    "pagamento_total = df['Total'].sum()\n",
    "pagamento_total"
   ]
  },
  {
   "cell_type": "code",
   "execution_count": 55,
   "id": "11194c94",
   "metadata": {},
   "outputs": [
    {
     "data": {
      "text/html": [
       "<div>\n",
       "<style scoped>\n",
       "    .dataframe tbody tr th:only-of-type {\n",
       "        vertical-align: middle;\n",
       "    }\n",
       "\n",
       "    .dataframe tbody tr th {\n",
       "        vertical-align: top;\n",
       "    }\n",
       "\n",
       "    .dataframe thead th {\n",
       "        text-align: right;\n",
       "    }\n",
       "</style>\n",
       "<table border=\"1\" class=\"dataframe\">\n",
       "  <thead>\n",
       "    <tr style=\"text-align: right;\">\n",
       "      <th></th>\n",
       "      <th>Payment</th>\n",
       "      <th>Total</th>\n",
       "    </tr>\n",
       "  </thead>\n",
       "  <tbody>\n",
       "    <tr>\n",
       "      <th>0</th>\n",
       "      <td>Ewallet</td>\n",
       "      <td>548.9715</td>\n",
       "    </tr>\n",
       "    <tr>\n",
       "      <th>3</th>\n",
       "      <td>Ewallet</td>\n",
       "      <td>489.0480</td>\n",
       "    </tr>\n",
       "    <tr>\n",
       "      <th>6</th>\n",
       "      <td>Ewallet</td>\n",
       "      <td>433.6920</td>\n",
       "    </tr>\n",
       "    <tr>\n",
       "      <th>8</th>\n",
       "      <td>Credit card</td>\n",
       "      <td>76.1460</td>\n",
       "    </tr>\n",
       "    <tr>\n",
       "      <th>9</th>\n",
       "      <td>Credit card</td>\n",
       "      <td>172.7460</td>\n",
       "    </tr>\n",
       "    <tr>\n",
       "      <th>...</th>\n",
       "      <td>...</td>\n",
       "      <td>...</td>\n",
       "    </tr>\n",
       "    <tr>\n",
       "      <th>988</th>\n",
       "      <td>Ewallet</td>\n",
       "      <td>864.5700</td>\n",
       "    </tr>\n",
       "    <tr>\n",
       "      <th>989</th>\n",
       "      <td>Credit card</td>\n",
       "      <td>633.1080</td>\n",
       "    </tr>\n",
       "    <tr>\n",
       "      <th>994</th>\n",
       "      <td>Ewallet</td>\n",
       "      <td>63.9975</td>\n",
       "    </tr>\n",
       "    <tr>\n",
       "      <th>997</th>\n",
       "      <td>Cash</td>\n",
       "      <td>33.4320</td>\n",
       "    </tr>\n",
       "    <tr>\n",
       "      <th>999</th>\n",
       "      <td>Cash</td>\n",
       "      <td>649.2990</td>\n",
       "    </tr>\n",
       "  </tbody>\n",
       "</table>\n",
       "<p>501 rows × 2 columns</p>\n",
       "</div>"
      ],
      "text/plain": [
       "         Payment     Total\n",
       "0        Ewallet  548.9715\n",
       "3        Ewallet  489.0480\n",
       "6        Ewallet  433.6920\n",
       "8    Credit card   76.1460\n",
       "9    Credit card  172.7460\n",
       "..           ...       ...\n",
       "988      Ewallet  864.5700\n",
       "989  Credit card  633.1080\n",
       "994      Ewallet   63.9975\n",
       "997         Cash   33.4320\n",
       "999         Cash  649.2990\n",
       "\n",
       "[501 rows x 2 columns]"
      ]
     },
     "execution_count": 55,
     "metadata": {},
     "output_type": "execute_result"
    }
   ],
   "source": [
    "pagamentos_membros = df.loc[df['Customer type'].isin(['Member']), ['Payment', 'Total']]\n",
    "pagamentos_membros"
   ]
  },
  {
   "cell_type": "code",
   "execution_count": 56,
   "id": "3fa3bc2a",
   "metadata": {},
   "outputs": [
    {
     "data": {
      "text/html": [
       "<div>\n",
       "<style scoped>\n",
       "    .dataframe tbody tr th:only-of-type {\n",
       "        vertical-align: middle;\n",
       "    }\n",
       "\n",
       "    .dataframe tbody tr th {\n",
       "        vertical-align: top;\n",
       "    }\n",
       "\n",
       "    .dataframe thead th {\n",
       "        text-align: right;\n",
       "    }\n",
       "</style>\n",
       "<table border=\"1\" class=\"dataframe\">\n",
       "  <thead>\n",
       "    <tr style=\"text-align: right;\">\n",
       "      <th></th>\n",
       "      <th>Payment</th>\n",
       "      <th>Total</th>\n",
       "    </tr>\n",
       "  </thead>\n",
       "  <tbody>\n",
       "    <tr>\n",
       "      <th>1</th>\n",
       "      <td>Cash</td>\n",
       "      <td>80.2200</td>\n",
       "    </tr>\n",
       "    <tr>\n",
       "      <th>2</th>\n",
       "      <td>Credit card</td>\n",
       "      <td>340.5255</td>\n",
       "    </tr>\n",
       "    <tr>\n",
       "      <th>4</th>\n",
       "      <td>Ewallet</td>\n",
       "      <td>634.3785</td>\n",
       "    </tr>\n",
       "    <tr>\n",
       "      <th>5</th>\n",
       "      <td>Ewallet</td>\n",
       "      <td>627.6165</td>\n",
       "    </tr>\n",
       "    <tr>\n",
       "      <th>7</th>\n",
       "      <td>Ewallet</td>\n",
       "      <td>772.3800</td>\n",
       "    </tr>\n",
       "    <tr>\n",
       "      <th>...</th>\n",
       "      <td>...</td>\n",
       "      <td>...</td>\n",
       "    </tr>\n",
       "    <tr>\n",
       "      <th>992</th>\n",
       "      <td>Ewallet</td>\n",
       "      <td>121.8630</td>\n",
       "    </tr>\n",
       "    <tr>\n",
       "      <th>993</th>\n",
       "      <td>Ewallet</td>\n",
       "      <td>183.6450</td>\n",
       "    </tr>\n",
       "    <tr>\n",
       "      <th>995</th>\n",
       "      <td>Ewallet</td>\n",
       "      <td>42.3675</td>\n",
       "    </tr>\n",
       "    <tr>\n",
       "      <th>996</th>\n",
       "      <td>Ewallet</td>\n",
       "      <td>1022.4900</td>\n",
       "    </tr>\n",
       "    <tr>\n",
       "      <th>998</th>\n",
       "      <td>Cash</td>\n",
       "      <td>69.1110</td>\n",
       "    </tr>\n",
       "  </tbody>\n",
       "</table>\n",
       "<p>499 rows × 2 columns</p>\n",
       "</div>"
      ],
      "text/plain": [
       "         Payment      Total\n",
       "1           Cash    80.2200\n",
       "2    Credit card   340.5255\n",
       "4        Ewallet   634.3785\n",
       "5        Ewallet   627.6165\n",
       "7        Ewallet   772.3800\n",
       "..           ...        ...\n",
       "992      Ewallet   121.8630\n",
       "993      Ewallet   183.6450\n",
       "995      Ewallet    42.3675\n",
       "996      Ewallet  1022.4900\n",
       "998         Cash    69.1110\n",
       "\n",
       "[499 rows x 2 columns]"
      ]
     },
     "execution_count": 56,
     "metadata": {},
     "output_type": "execute_result"
    }
   ],
   "source": [
    "pagamentos_nao_membros = df.loc[df['Customer type'].isin(['Normal']), ['Payment', 'Total']]\n",
    "pagamentos_nao_membros"
   ]
  },
  {
   "cell_type": "code",
   "execution_count": 57,
   "id": "013cf359",
   "metadata": {},
   "outputs": [
    {
     "data": {
      "text/plain": [
       "array(['Ewallet', 'Cash', 'Credit card'], dtype=object)"
      ]
     },
     "execution_count": 57,
     "metadata": {},
     "output_type": "execute_result"
    }
   ],
   "source": [
    "meios_pagamentos = df['Payment'].unique()\n",
    "meios_pagamentos"
   ]
  },
  {
   "cell_type": "code",
   "execution_count": 58,
   "id": "b545bd49",
   "metadata": {},
   "outputs": [
    {
     "data": {
      "text/plain": [
       "Payment\n",
       "Cash           54661.0155\n",
       "Credit card    57771.4725\n",
       "Ewallet        51790.9560\n",
       "Name: Total, dtype: float64"
      ]
     },
     "execution_count": 58,
     "metadata": {},
     "output_type": "execute_result"
    }
   ],
   "source": [
    "total_pagamentos_membros = pagamentos_membros.groupby('Payment')['Total'].sum()\n",
    "total_pagamentos_membros"
   ]
  },
  {
   "cell_type": "code",
   "execution_count": 59,
   "id": "928e323c",
   "metadata": {},
   "outputs": [
    {
     "data": {
      "text/plain": [
       "Payment\n",
       "Cash           57545.5545\n",
       "Credit card    42995.5995\n",
       "Ewallet        58202.1510\n",
       "Name: Total, dtype: float64"
      ]
     },
     "execution_count": 59,
     "metadata": {},
     "output_type": "execute_result"
    }
   ],
   "source": [
    "total_pagamentos_nao_membros = pagamentos_nao_membros.groupby('Payment')['Total'].sum()\n",
    "total_pagamentos_nao_membros"
   ]
  },
  {
   "cell_type": "code",
   "execution_count": 60,
   "id": "c7386909",
   "metadata": {
    "scrolled": true
   },
   "outputs": [
    {
     "data": {
      "image/png": "[encoded data removed]",
      "text/plain": [
       "<Figure size 640x480 with 1 Axes>"
      ]
     },
     "metadata": {},
     "output_type": "display_data"
    }
   ],
   "source": [
    "index = np.arange(len(meios_pagamentos))\n",
    "index\n",
    "\n",
    "fig, ax = plt.subplots()\n",
    "bar_width = 0.35\n",
    "\n",
    "\n",
    "barra_membros = ax.bar(index, total_pagamentos_membros, bar_width, label='Membros')\n",
    "barra_nao_membros = ax.bar(index + bar_width, total_pagamentos_nao_membros, bar_width, label='Não-Membros')\n",
    "\n",
    "ax.set_xlabel('Meios de Pagamentos')\n",
    "ax.set_ylabel('Volume em valores')\n",
    "ax.set_title('Meios de pagamento x Afiliação')\n",
    "ax.set_xticks(index + bar_width / 2)\n",
    "ax.set_xticklabels(meios_pagamentos)\n",
    "ax.legend()\n",
    "\n",
    "for i, v in enumerate(total_pagamentos_membros):\n",
    "    ax.text(i, v + 0.02, int(v), ha='center', va='bottom')\n",
    "\n",
    "for i, v in enumerate(total_pagamentos_nao_membros):\n",
    "    ax.text(i + bar_width, int(v) + 0.02, int(v), ha='center', va='bottom')\n",
    "\n",
    "\n",
    "plt.rcParams['figure.figsize'] = (9,9)\n",
    "plt.show()"
   ]
  },
  {
   "cell_type": "markdown",
   "id": "22f027f7",
   "metadata": {},
   "source": [
    "## 7) Fidelização de membros: Como a quantidade de membros impacta a fidelização e quais estratégias podem ser adotadas para aumentar a fidelidade dos membros?"
   ]
  },
  {
   "cell_type": "markdown",
   "id": "0c3402b7",
   "metadata": {},
   "source": [
    "## 8) Wordcloud e preferências dos clientes: Como a wordcloud reflete as preferências dos clientes e quais insights podemos extrair para aprimorar a oferta de produtos?"
   ]
  },
  {
   "cell_type": "code",
   "execution_count": 61,
   "id": "aafb3369",
   "metadata": {},
   "outputs": [
    {
     "data": {
      "image/png": "[encoded data removed]",
      "text/plain": [
       "<Figure size 1000x900 with 1 Axes>"
      ]
     },
     "metadata": {},
     "output_type": "display_data"
    }
   ],
   "source": [
    "plt.subplots(figsize=(10,9))\n",
    "wordcloud = WordCloud(background_color='white',width=1920,height=1080).generate(\" \".join(df['Product line']))\n",
    "plt.imshow(wordcloud)\n",
    "plt.axis('off')\n",
    "plt.show()"
   ]
  },
  {
   "cell_type": "markdown",
   "id": "be2d0e5f",
   "metadata": {},
   "source": [
    "## 9) Vendas por categoria de produtos: Em que horários ocorrem as vendas mais expressivas para cada categoria de produtos, e como podemos alinhar o estoque e a equipe de vendas a esses padrões?\n"
   ]
  },
  {
   "cell_type": "markdown",
   "id": "ac3619ad",
   "metadata": {},
   "source": [
    "## 10) Horários lucrativos: Quais são os horários mais lucrativos para o negócio?"
   ]
  },
  {
   "cell_type": "markdown",
   "id": "3e0da740",
   "metadata": {},
   "source": [
    "## 11) Média de avaliações dos clientes: Qual é a média de avaliações dos clientes e como podemos melhorar a experiência do cliente para aumentar essa média?\n"
   ]
  },
  {
   "cell_type": "markdown",
   "id": "a6f2718e",
   "metadata": {},
   "source": [
    "R: \"Food and Beverages\" tem as maiores medias de avaliação e \"Sport and Travel\" possui um total maior de vendas, isso mostra que as avaliaçoes são importantes porem as vendas podem ser influencidas por outros fatores como a popularidade do produto, demanda do mercado, sazionalidade e etc.\n",
    "\n",
    "Qual a linha de produtos mais popular?\n",
    "R: Segundo a media de avaliações, Food and Beverages é a categoria de produtos mais popular entre os cliente\n",
    "\n",
    "Qual é a classificação média dos clientes?\n",
    "1) Electronic accessories  6.990698  \n",
    "2) Fashion accessories    7.043529  \n",
    "3) Food and beverages    7.287209  \n",
    "4) Health and beauty    6.983117  \n",
    "5) Home and lifestyle     6.812346  \n",
    "6) Sports and travel     6.978824\n",
    "\n"
   ]
  },
  {
   "cell_type": "code",
   "execution_count": 62,
   "id": "85daf6d2",
   "metadata": {},
   "outputs": [
    {
     "name": "stdout",
     "output_type": "stream",
     "text": [
      "             Product line    Rating       Total\n",
      "0  Electronic accessories  6.924706  54337.5315\n",
      "1     Fashion accessories  7.029213  54305.8950\n",
      "2      Food and beverages  7.113218  56144.8440\n",
      "3       Health and beauty  7.003289  49193.7390\n",
      "4      Home and lifestyle  6.837500  53861.9130\n",
      "5       Sports and travel  6.916265  55122.8265\n"
     ]
    },
    {
     "data": {
      "image/png": "[encoded data removed]",
      "text/plain": [
       "<Figure size 1000x600 with 1 Axes>"
      ]
     },
     "metadata": {},
     "output_type": "display_data"
    }
   ],
   "source": [
    "resumo_categoria = df.groupby('Product line').agg({'Rating': 'mean', 'Total': 'sum'}).reset_index()\n",
    "print(resumo_categoria)\n",
    "\n",
    "plt.figure(figsize=(10, 6))\n",
    "plt.scatter(resumo_categoria['Rating'], resumo_categoria['Total'], color='blue', alpha=0.7)\n",
    "\n",
    "\n",
    "plt.xlabel('Média de Avaliação')\n",
    "plt.ylabel('Total de Vendas')\n",
    "plt.title('Relação entre Média de Avaliação e Total de Vendas por Categoria de Produto')\n",
    "\n",
    "\n",
    "for i, txt in enumerate(resumo_categoria['Product line']):\n",
    "    plt.annotate(txt, (resumo_categoria['Rating'][i], resumo_categoria['Total'][i]), textcoords=\"offset points\", xytext=(0,5), ha='center')\n",
    "\n",
    "\n",
    "plt.grid(True)\n",
    "plt.show()\n"
   ]
  },
  {
   "cell_type": "markdown",
   "id": "5dac54c3",
   "metadata": {},
   "source": [
    "O grafico de dispersão mostra os pontos sendo a quantidade total de vendas no eixo Y com notas de avaliações no eixo X"
   ]
  },
  {
   "cell_type": "markdown",
   "id": "6de401dc",
   "metadata": {},
   "source": [
    "## 12) Vendas para afiliados: Dentro de um número x de vendas no mês, quantas foram para afiliados?"
   ]
  },
  {
   "cell_type": "markdown",
   "id": "7f440ea8",
   "metadata": {},
   "source": [
    "## 13) Influência do tipo de cliente no ticket médio: Como o tipo de cliente (Member/Normal) influencia no ticket médio de compra?\n"
   ]
  },
  {
   "cell_type": "markdown",
   "id": "f9f492c4",
   "metadata": {},
   "source": [
    "## 14) Impacto do método de pagamento na taxa de conversão de vendas: Como o método de pagamento impacta na taxa de conversão de vendas?\n"
   ]
  },
  {
   "cell_type": "markdown",
   "id": "27e40eac",
   "metadata": {},
   "source": [
    "## 15) Média de avaliação dos produtos: Qual é a média de avaliação dos produtos e como ela se relaciona com as vendas?\n"
   ]
  },
  {
   "cell_type": "markdown",
   "id": "4840c0fa",
   "metadata": {},
   "source": [
    "## 16) Influência da localização geográfica nas preferências de produtos: Como a localização geográfica das filiais influencia nas preferências de produtos?\n"
   ]
  },
  {
   "cell_type": "markdown",
   "id": "0ce1365f",
   "metadata": {},
   "source": [
    "## 17) Relação entre o horário de compra e a quantidade de produtos adquiridos: Qual é a relação entre o horário de compra e a quantidade de produtos adquiridos?\n"
   ]
  },
  {
   "cell_type": "markdown",
   "id": "027dfacc",
   "metadata": {},
   "source": [
    "## 18) Impacto da participação em programas de fidelidade nas decisões de compra: Como a participação em programas de fidelidade impacta nas decisões de compra?"
   ]
  },
  {
   "cell_type": "markdown",
   "id": "94e698db",
   "metadata": {},
   "source": [
    "## 19) Gênero predominante entre os clientes: Qual é o gênero predominante entre os clientes?"
   ]
  },
  {
   "cell_type": "code",
   "execution_count": 63,
   "id": "10ec629e",
   "metadata": {},
   "outputs": [
    {
     "data": {
      "image/png": "[encoded data removed]",
      "text/plain": [
       "<Figure size 900x900 with 1 Axes>"
      ]
     },
     "metadata": {},
     "output_type": "display_data"
    }
   ],
   "source": [
    "plt.bar(ticket_medio_genero.index, ticket_medio_genero['Ticket Médio'], color=['pink', 'blue'])\n",
    "\n",
    "ax = plt.gca()\n",
    "\n",
    "for i, v in enumerate(ticket_label):\n",
    "    ax.text(i, int(v) + 0.03, round(v, 2), ha='center', va='bottom')\n",
    "\n",
    "\n",
    "plt.xlabel('Gênero')\n",
    "plt.ylabel('Ticket Médio')\n",
    "plt.title('Ticket Médio por Gênero')\n",
    "\n",
    "plt.rcParams['figure.figsize'] = (9,9)\n",
    "plt.show()"
   ]
  },
  {
   "cell_type": "code",
   "execution_count": 64,
   "id": "42b69d38",
   "metadata": {},
   "outputs": [
    {
     "name": "stdout",
     "output_type": "stream",
     "text": [
      "Tabela de Contagem de Gênero:\n",
      "   Gênero  Contagem\n",
      "0  Female       501\n",
      "1    Male       499\n",
      "\n",
      "\n"
     ]
    },
    {
     "data": {
      "image/png": "[encoded data removed]",
      "text/plain": [
       "<Figure size 900x900 with 1 Axes>"
      ]
     },
     "metadata": {},
     "output_type": "display_data"
    }
   ],
   "source": [
    "contagem_genero = df['Gender'].value_counts()\n",
    "\n",
    "\n",
    "tabela_genero = pd.DataFrame({'Gênero': contagem_genero.index, 'Contagem': contagem_genero.values})\n",
    "\n",
    "\n",
    "print(\"Tabela de Contagem de Gênero:\")\n",
    "print(tabela_genero)\n",
    "print(\"\\n\")\n",
    "\n",
    "\n",
    "fig, ax = plt.subplots()\n",
    "\n",
    "\n",
    "bars = ax.bar(contagem_genero.index, contagem_genero.values, color=['navy', 'tomato'])\n",
    "\n",
    "\n",
    "ax.set_xlabel('Gênero')\n",
    "ax.set_ylabel('Contagem')\n",
    "\n",
    "\n",
    "\n",
    "for bar in bars:\n",
    "    yval = bar.get_height()\n",
    "    plt.text(bar.get_x() + bar.get_width()/2, yval, round(yval, 2), ha='center', va='bottom')\n",
    "\n",
    "\n",
    "plt.show()\n"
   ]
  },
  {
   "cell_type": "markdown",
   "id": "ec4c561a",
   "metadata": {},
   "source": [
    "## 20) Linha de produto mais popular: Qual é a linha de produto mais popular?\n"
   ]
  },
  {
   "cell_type": "markdown",
   "id": "df7c2595",
   "metadata": {},
   "source": [
    "## 21) Classificação média dos clientes: Qual é a classificação média dos clientes?\n"
   ]
  },
  {
   "cell_type": "markdown",
   "id": "e1723319",
   "metadata": {},
   "source": [
    "## 22) Cidade com o maior número de vendas: Qual é a cidade com o maior número de vendas?\n"
   ]
  },
  {
   "cell_type": "markdown",
   "id": "cb3e8574",
   "metadata": {},
   "source": []
  },
  {
   "cell_type": "markdown",
   "id": "93514b83",
   "metadata": {},
   "source": [
    "## Pergunta: Qual a relação entre os afiliados e os não afiliados?"
   ]
  },
  {
   "cell_type": "code",
   "execution_count": 65,
   "id": "737a325c",
   "metadata": {},
   "outputs": [],
   "source": [
    "df_membros = df['Customer type'].value_counts()"
   ]
  },
  {
   "cell_type": "code",
   "execution_count": 66,
   "id": "90fd2011",
   "metadata": {},
   "outputs": [
    {
     "data": {
      "text/plain": [
       "Customer type\n",
       "Member    501\n",
       "Normal    499\n",
       "Name: count, dtype: int64"
      ]
     },
     "execution_count": 66,
     "metadata": {},
     "output_type": "execute_result"
    }
   ],
   "source": [
    "df_membros"
   ]
  },
  {
   "cell_type": "code",
   "execution_count": 67,
   "id": "9772e408",
   "metadata": {},
   "outputs": [],
   "source": [
    "membros_afiliados = df.loc[df['Customer type'] == 'Member']\n",
    "membros_normais = df.loc[df['Customer type'] == 'Normal']"
   ]
  },
  {
   "cell_type": "code",
   "execution_count": 68,
   "id": "54dd0b40",
   "metadata": {
    "scrolled": true
   },
   "outputs": [
    {
     "data": {
      "text/plain": [
       "1      Normal\n",
       "2      Normal\n",
       "4      Normal\n",
       "5      Normal\n",
       "7      Normal\n",
       "        ...  \n",
       "992    Normal\n",
       "993    Normal\n",
       "995    Normal\n",
       "996    Normal\n",
       "998    Normal\n",
       "Name: Customer type, Length: 499, dtype: object"
      ]
     },
     "execution_count": 68,
     "metadata": {},
     "output_type": "execute_result"
    }
   ],
   "source": [
    "membros_normais['Customer type']"
   ]
  },
  {
   "cell_type": "code",
   "execution_count": 69,
   "id": "97979c57",
   "metadata": {},
   "outputs": [
    {
     "data": {
      "text/plain": [
       "501"
      ]
     },
     "execution_count": 69,
     "metadata": {},
     "output_type": "execute_result"
    }
   ],
   "source": [
    " df_membros['Member']"
   ]
  },
  {
   "cell_type": "markdown",
   "id": "c361092b",
   "metadata": {},
   "source": [
    "plt.bar(df_membros.index, df_membros['Customer type'], color=['pink', 'blue'])\n",
    "\n",
    "ax = plt.gca()\n",
    "\n",
    "for i, v in enumerate(ticket_label):\n",
    "    ax.text(i, int(v) + 0.03, round(v, 2), ha='center', va='bottom')\n",
    "\n",
    "\n",
    "plt.xlabel('Gênero')\n",
    "plt.ylabel('Ticket Médio')\n",
    "plt.title('Ticket Médio por Gênero')\n",
    "\n",
    "plt.rcParams['figure.figsize'] = (9,9)\n",
    "plt.show()"
   ]
  },
  {
   "cell_type": "markdown",
   "id": "0caf8864",
   "metadata": {},
   "source": [
    "## Quais os Mês e dias do mês com maior volume de compras\n"
   ]
  },
  {
   "cell_type": "code",
   "execution_count": 70,
   "id": "87412337",
   "metadata": {},
   "outputs": [
    {
     "data": {
      "image/png": "[encoded data removed]",
      "text/plain": [
       "<Figure size 900x900 with 1 Axes>"
      ]
     },
     "metadata": {},
     "output_type": "display_data"
    }
   ],
   "source": [
    "df['Date'] = pd.to_datetime(df['Date'])  \n",
    "df['Month'] = df['Date'].dt.month_name()  \n",
    "\n",
    "\n",
    "vendas_mensais = df.groupby('Month')['Total'].sum()\n",
    "\n",
    "\n",
    "fig, ax = plt.subplots()\n",
    "vendas_mensais.plot(kind='bar', color='navy')\n",
    "ax.set_xlabel('Month')\n",
    "ax.set_ylabel('Total Sales')\n",
    "ax.set_title('Total Sales by Month')\n",
    "\n",
    "plt.show()"
   ]
  },
  {
   "cell_type": "code",
   "execution_count": 71,
   "id": "ac536e58",
   "metadata": {},
   "outputs": [
    {
     "data": {
      "image/png": "[encoded data removed]",
      "text/plain": [
       "<Figure size 1500x500 with 3 Axes>"
      ]
     },
     "metadata": {},
     "output_type": "display_data"
    }
   ],
   "source": [
    "df['Month'] = df['Date'].dt.month\n",
    "df['Day'] = df['Date'].dt.day\n",
    "\n",
    "fig, axes = plt.subplots(nrows=1, ncols=3, figsize=(15, 5))\n",
    "\n",
    "for month, ax in zip(range(1, 4), axes):\n",
    "    dia_mes = df[df['Month'] == month]\n",
    "    vendas_diarias = dia_mes.groupby('Day')['Total'].sum()    \n",
    "    \n",
    "    vendas_diarias.plot(kind='bar', color='navy', ax=ax)\n",
    "    ax.set_title(f'Total Sales - Month {month}')\n",
    "    ax.set_xlabel('Day of the Month')\n",
    "    ax.set_ylabel('Total Sales')\n",
    "\n",
    "plt.tight_layout()\n",
    "plt.show()"
   ]
  },
  {
   "cell_type": "code",
   "execution_count": null,
   "id": "4a9769b3",
   "metadata": {},
   "outputs": [],
   "source": []
  }
 ],
 "metadata": {
  "kernelspec": {
   "display_name": "Python 3 (ipykernel)",
   "language": "python",
   "name": "python3"
  },
  "language_info": {
   "codemirror_mode": {
    "name": "ipython",
    "version": 3
   },
   "file_extension": ".py",
   "mimetype": "text/x-python",
   "name": "python",
   "nbconvert_exporter": "python",
   "pygments_lexer": "ipython3",
   "version": "3.11.5"
  }
 },
 "nbformat": 4,
 "nbformat_minor": 5
}
