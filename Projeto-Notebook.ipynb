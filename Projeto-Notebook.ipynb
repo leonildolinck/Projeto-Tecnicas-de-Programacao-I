{
 "cells": [
  {
   "cell_type": "markdown",
   "id": "603da9a9",
   "metadata": {},
   "source": [
    "O projeto deve ser feito em grupo 5 ou 6 e será apresentado dia 24/01.\n",
    "Pode ser apresentado por um ou dois membro(s) da equipe.\n",
    "Tempo aproximado 10 a 20 min.\n",
    "\n",
    "Como o projeto será avaliado, o notebook deve conter:\n",
    "1) Criar uma lista de dicas/técnicas que aprenderam neste módulo que foram usadas no projeto\n",
    "\n",
    "2) Indicar dentro do notebook cada item da lista (vide exemplo abaixo)\n",
    "\n",
    "3) Estar publicado no Github\n",
    "\n",
    "4) Você está apresentando as conclusões dos dados, pense com a cabeça de negócio, ex:\n",
    "\n",
    "Qual a média de idade dos clientes que mais compraram?\n",
    "Quantos porcento dos clientes que mais compraram, são os de maior ticket?\n",
    "Quais os dias da semana os clientes mais compram?\n",
    "Qual o percentual de crianças e adultos dentro nossos clientes?\n",
    "Não queremos explicações de como funciona o código, queremos perguntas e respostas de negócio.\n",
    "\n",
    "Esses quatro itens são obrigatórios, caso contrário não serão aceitos."
   ]
  },
  {
   "cell_type": "markdown",
   "id": "b207c042",
   "metadata": {},
   "source": [
    "01) Leitura de arquivo com dados\n",
    "02) Preenchimento valores faltantes\n",
    "03) Normalização\n",
    "04) Transformação de Categórico para Numérico\n",
    "05) Tratamento de Datas\n",
    "06) Demonstração tipos de dados\n",
    "07) Quantidade de linhas de colunas\n",
    "08) Mesclagem de Data Frames\n",
    "09) Eliminar linhas duplicadas\n",
    "10) Redefinição de indice\n",
    "11) Agrupamento\n",
    "12) Criar novas colunas (pode tentar)\n",
    "13) Aplicar funções e lambdas\n",
    "14) Encontrar maior/menores valores\n",
    "15) Separar os top 1%\n",
    "16) Manipulação de datas\n",
    "17) Visualização de dados utilizando Matplotlib"
   ]
  },
  {
   "cell_type": "code",
   "execution_count": 9,
   "id": "6222574e",
   "metadata": {},
   "outputs": [
    {
     "ename": "SyntaxError",
     "evalue": "invalid syntax (2058272993.py, line 3)",
     "output_type": "error",
     "traceback": [
      "\u001b[1;36m  Cell \u001b[1;32mIn[9], line 3\u001b[1;36m\u001b[0m\n\u001b[1;33m    datetime....\u001b[0m\n\u001b[1;37m            ^\u001b[0m\n\u001b[1;31mSyntaxError\u001b[0m\u001b[1;31m:\u001b[0m invalid syntax\n"
     ]
    }
   ],
   "source": [
    "# Item 16) Manipulação de datas\n",
    "# Pergunta: Quais são os dias da semana... ?\n",
    "datetime...."
   ]
  },
  {
   "cell_type": "markdown",
   "id": "4d1762a6",
   "metadata": {},
   "source": [
    "Requisitos para a escolha da base de dados:\n",
    "\n",
    "Esteja em 2 arquivos\n",
    "Não esteja completo\n",
    "Tenha dados categóricos(qualitativos) e numéricos(quantitativos)\n",
    "Tenha datas\n",
    "Quantidade de campos grande (facilita pensar em perguntas de negócio para responder)"
   ]
  },
  {
   "cell_type": "markdown",
   "id": "7e3aca47",
   "metadata": {},
   "source": [
    "Dataset selecionado:\n",
    "https://www.kaggle.com/code/melikedilekci/supermarket-sales-eda/notebook"
   ]
  },
  {
   "cell_type": "markdown",
   "id": "77d55764",
   "metadata": {},
   "source": [
    "Retirar:\n",
    "    \n",
    "invoice id\n",
    "\n",
    "cogs\n",
    "\n",
    "gross margin\n",
    "\n",
    "gross income\n",
    "\n",
    "\n",
    "tarefas:\n",
    "\n",
    "Fazer Gráfico das Perguntas - Leo    \n",
    "\n",
    "Adicionar nuvem de palavras - Rafa\n",
    "\n",
    "\n",
    "------fpdf ou pytofdp, ou pdfkit\n",
    "\n",
    "\n",
    "Plus [ Se possível, adicionar um código para exportação do contéudo em pdf.]\n",
    "\n",
    "Usar ! para tarefas feitas.\n",
    "\n",
    "OK para tarefas prontas com gráficos e perguntas/insights**"
   ]
  },
  {
   "cell_type": "markdown",
   "id": "c02298f9",
   "metadata": {},
   "source": [
    "Perguntas sobre data:\n",
    "\n",
    "\n",
    "a) Qual o horario de pico. (Dimensionar quantiade de vendeddores e caixas \n",
    "\n",
    "disponiveis para supir picos de visitas, se existirem). (*feriados, sábado, domingo)\n",
    "\n",
    "! b) Ticket Médio\n",
    "\n",
    "d) Qual dia do mês mais vende (*feriados, sábado, domingo)\n",
    "\n",
    "e) Qual horario favorito dos homens/mulheres. \n",
    "\n",
    "g) Horario em que mais se vende cada categoria de produto. x horario\n",
    "\n",
    "f) Ticket médio por horario\n",
    "\n",
    "g) Horarios mais lucrativos\n",
    "\n",
    "i) Periodo do mês com maior volume de compras.\n"
   ]
  },
  {
   "cell_type": "markdown",
   "id": "f2267181",
   "metadata": {},
   "source": [
    "Perguntas sobre genero:\n",
    "! a) Qual tipo de genero consome cada tipo dos produtos disponiveis\n",
    "! b) Ticket médio por genero."
   ]
  },
  {
   "cell_type": "markdown",
   "id": "b6f8028b",
   "metadata": {},
   "source": [
    "a) Média de avaliações\n",
    "\n",
    "! b) Qual a categoria (top3) das categorias de produtos mais vendidas\n",
    "\n",
    "! b) Qual a categoria (top3) das categorias de produtos menos vendidas\n",
    "\n",
    "c) Meio de pagamento x membership (tentar vender cartão da c&a.)\n",
    "\n",
    "! d) Quantidade de Membros x Fidelização\n",
    "\n",
    "e) *** dentro de um numero x de vendas no mes, quantas foram para afiliados?\n"
   ]
  },
  {
   "cell_type": "code",
   "execution_count": 2,
   "id": "0c77bf12",
   "metadata": {},
   "outputs": [],
   "source": [
    "import pandas as pd\n",
    "import matplotlib.pyplot as plt\n",
    "import numpy as np"
   ]
  },
  {
   "cell_type": "code",
   "execution_count": 3,
   "id": "6d028890",
   "metadata": {},
   "outputs": [],
   "source": [
    "df_importacao_completo = pd.read_csv('supermarket_sales.csv')"
   ]
  },
  {
   "cell_type": "code",
   "execution_count": 4,
   "id": "2488b005",
   "metadata": {},
   "outputs": [],
   "source": [
    "metade = len(df_importacao_completo) // 2"
   ]
  },
  {
   "cell_type": "code",
   "execution_count": 5,
   "id": "66e3837a",
   "metadata": {},
   "outputs": [],
   "source": [
    "df_importacao_parte1 = df_importacao_completo.iloc[:metade, :]\n",
    "df_importacao_parte2 = df_importacao_completo.iloc[metade:, :]"
   ]
  },
  {
   "cell_type": "code",
   "execution_count": 6,
   "id": "491311a7",
   "metadata": {},
   "outputs": [],
   "source": [
    "df_importacao_parte1.to_csv('supermarket_sales_1.csv', index=False)\n",
    "df_importacao_parte2.to_csv('supermarket_sales_2.csv', index=False)"
   ]
  },
  {
   "cell_type": "code",
   "execution_count": 7,
   "id": "b49b4c05",
   "metadata": {},
   "outputs": [],
   "source": [
    "df_parte1 = pd.read_csv('supermarket_sales_1.csv')\n",
    "df_parte2 = pd.read_csv('supermarket_sales_1.csv')"
   ]
  },
  {
   "cell_type": "code",
   "execution_count": 8,
   "id": "7c5aa1b4",
   "metadata": {},
   "outputs": [],
   "source": [
    "df = pd.concat([df_parte1, df_parte2], ignore_index=True)"
   ]
  },
  {
   "cell_type": "code",
   "execution_count": 9,
   "id": "b761ab75",
   "metadata": {},
   "outputs": [
    {
     "data": {
      "text/html": [
       "<div>\n",
       "<style scoped>\n",
       "    .dataframe tbody tr th:only-of-type {\n",
       "        vertical-align: middle;\n",
       "    }\n",
       "\n",
       "    .dataframe tbody tr th {\n",
       "        vertical-align: top;\n",
       "    }\n",
       "\n",
       "    .dataframe thead th {\n",
       "        text-align: right;\n",
       "    }\n",
       "</style>\n",
       "<table border=\"1\" class=\"dataframe\">\n",
       "  <thead>\n",
       "    <tr style=\"text-align: right;\">\n",
       "      <th></th>\n",
       "      <th>Invoice ID</th>\n",
       "      <th>Branch</th>\n",
       "      <th>City</th>\n",
       "      <th>Customer type</th>\n",
       "      <th>Gender</th>\n",
       "      <th>Product line</th>\n",
       "      <th>Unit price</th>\n",
       "      <th>Quantity</th>\n",
       "      <th>Tax 5%</th>\n",
       "      <th>Total</th>\n",
       "      <th>Date</th>\n",
       "      <th>Time</th>\n",
       "      <th>Payment</th>\n",
       "      <th>cogs</th>\n",
       "      <th>gross margin percentage</th>\n",
       "      <th>gross income</th>\n",
       "      <th>Rating</th>\n",
       "    </tr>\n",
       "  </thead>\n",
       "  <tbody>\n",
       "    <tr>\n",
       "      <th>0</th>\n",
       "      <td>750-67-8428</td>\n",
       "      <td>A</td>\n",
       "      <td>Yangon</td>\n",
       "      <td>Member</td>\n",
       "      <td>Female</td>\n",
       "      <td>Health and beauty</td>\n",
       "      <td>74.69</td>\n",
       "      <td>7</td>\n",
       "      <td>26.1415</td>\n",
       "      <td>548.9715</td>\n",
       "      <td>1/5/2019</td>\n",
       "      <td>13:08</td>\n",
       "      <td>Ewallet</td>\n",
       "      <td>522.83</td>\n",
       "      <td>4.761905</td>\n",
       "      <td>26.1415</td>\n",
       "      <td>9.1</td>\n",
       "    </tr>\n",
       "    <tr>\n",
       "      <th>1</th>\n",
       "      <td>226-31-3081</td>\n",
       "      <td>C</td>\n",
       "      <td>Naypyitaw</td>\n",
       "      <td>Normal</td>\n",
       "      <td>Female</td>\n",
       "      <td>Electronic accessories</td>\n",
       "      <td>15.28</td>\n",
       "      <td>5</td>\n",
       "      <td>3.8200</td>\n",
       "      <td>80.2200</td>\n",
       "      <td>3/8/2019</td>\n",
       "      <td>10:29</td>\n",
       "      <td>Cash</td>\n",
       "      <td>76.40</td>\n",
       "      <td>4.761905</td>\n",
       "      <td>3.8200</td>\n",
       "      <td>9.6</td>\n",
       "    </tr>\n",
       "    <tr>\n",
       "      <th>2</th>\n",
       "      <td>631-41-3108</td>\n",
       "      <td>A</td>\n",
       "      <td>Yangon</td>\n",
       "      <td>Normal</td>\n",
       "      <td>Male</td>\n",
       "      <td>Home and lifestyle</td>\n",
       "      <td>46.33</td>\n",
       "      <td>7</td>\n",
       "      <td>16.2155</td>\n",
       "      <td>340.5255</td>\n",
       "      <td>3/3/2019</td>\n",
       "      <td>13:23</td>\n",
       "      <td>Credit card</td>\n",
       "      <td>324.31</td>\n",
       "      <td>4.761905</td>\n",
       "      <td>16.2155</td>\n",
       "      <td>7.4</td>\n",
       "    </tr>\n",
       "    <tr>\n",
       "      <th>3</th>\n",
       "      <td>123-19-1176</td>\n",
       "      <td>A</td>\n",
       "      <td>Yangon</td>\n",
       "      <td>Member</td>\n",
       "      <td>Male</td>\n",
       "      <td>Health and beauty</td>\n",
       "      <td>58.22</td>\n",
       "      <td>8</td>\n",
       "      <td>23.2880</td>\n",
       "      <td>489.0480</td>\n",
       "      <td>1/27/2019</td>\n",
       "      <td>20:33</td>\n",
       "      <td>Ewallet</td>\n",
       "      <td>465.76</td>\n",
       "      <td>4.761905</td>\n",
       "      <td>23.2880</td>\n",
       "      <td>8.4</td>\n",
       "    </tr>\n",
       "    <tr>\n",
       "      <th>4</th>\n",
       "      <td>373-73-7910</td>\n",
       "      <td>A</td>\n",
       "      <td>Yangon</td>\n",
       "      <td>Normal</td>\n",
       "      <td>Male</td>\n",
       "      <td>Sports and travel</td>\n",
       "      <td>86.31</td>\n",
       "      <td>7</td>\n",
       "      <td>30.2085</td>\n",
       "      <td>634.3785</td>\n",
       "      <td>2/8/2019</td>\n",
       "      <td>10:37</td>\n",
       "      <td>Ewallet</td>\n",
       "      <td>604.17</td>\n",
       "      <td>4.761905</td>\n",
       "      <td>30.2085</td>\n",
       "      <td>5.3</td>\n",
       "    </tr>\n",
       "    <tr>\n",
       "      <th>5</th>\n",
       "      <td>699-14-3026</td>\n",
       "      <td>C</td>\n",
       "      <td>Naypyitaw</td>\n",
       "      <td>Normal</td>\n",
       "      <td>Male</td>\n",
       "      <td>Electronic accessories</td>\n",
       "      <td>85.39</td>\n",
       "      <td>7</td>\n",
       "      <td>29.8865</td>\n",
       "      <td>627.6165</td>\n",
       "      <td>3/25/2019</td>\n",
       "      <td>18:30</td>\n",
       "      <td>Ewallet</td>\n",
       "      <td>597.73</td>\n",
       "      <td>4.761905</td>\n",
       "      <td>29.8865</td>\n",
       "      <td>4.1</td>\n",
       "    </tr>\n",
       "    <tr>\n",
       "      <th>6</th>\n",
       "      <td>355-53-5943</td>\n",
       "      <td>A</td>\n",
       "      <td>Yangon</td>\n",
       "      <td>Member</td>\n",
       "      <td>Female</td>\n",
       "      <td>Electronic accessories</td>\n",
       "      <td>68.84</td>\n",
       "      <td>6</td>\n",
       "      <td>20.6520</td>\n",
       "      <td>433.6920</td>\n",
       "      <td>2/25/2019</td>\n",
       "      <td>14:36</td>\n",
       "      <td>Ewallet</td>\n",
       "      <td>413.04</td>\n",
       "      <td>4.761905</td>\n",
       "      <td>20.6520</td>\n",
       "      <td>5.8</td>\n",
       "    </tr>\n",
       "    <tr>\n",
       "      <th>7</th>\n",
       "      <td>315-22-5665</td>\n",
       "      <td>C</td>\n",
       "      <td>Naypyitaw</td>\n",
       "      <td>Normal</td>\n",
       "      <td>Female</td>\n",
       "      <td>Home and lifestyle</td>\n",
       "      <td>73.56</td>\n",
       "      <td>10</td>\n",
       "      <td>36.7800</td>\n",
       "      <td>772.3800</td>\n",
       "      <td>2/24/2019</td>\n",
       "      <td>11:38</td>\n",
       "      <td>Ewallet</td>\n",
       "      <td>735.60</td>\n",
       "      <td>4.761905</td>\n",
       "      <td>36.7800</td>\n",
       "      <td>8.0</td>\n",
       "    </tr>\n",
       "    <tr>\n",
       "      <th>8</th>\n",
       "      <td>665-32-9167</td>\n",
       "      <td>A</td>\n",
       "      <td>Yangon</td>\n",
       "      <td>Member</td>\n",
       "      <td>Female</td>\n",
       "      <td>Health and beauty</td>\n",
       "      <td>36.26</td>\n",
       "      <td>2</td>\n",
       "      <td>3.6260</td>\n",
       "      <td>76.1460</td>\n",
       "      <td>1/10/2019</td>\n",
       "      <td>17:15</td>\n",
       "      <td>Credit card</td>\n",
       "      <td>72.52</td>\n",
       "      <td>4.761905</td>\n",
       "      <td>3.6260</td>\n",
       "      <td>7.2</td>\n",
       "    </tr>\n",
       "    <tr>\n",
       "      <th>9</th>\n",
       "      <td>692-92-5582</td>\n",
       "      <td>B</td>\n",
       "      <td>Mandalay</td>\n",
       "      <td>Member</td>\n",
       "      <td>Female</td>\n",
       "      <td>Food and beverages</td>\n",
       "      <td>54.84</td>\n",
       "      <td>3</td>\n",
       "      <td>8.2260</td>\n",
       "      <td>172.7460</td>\n",
       "      <td>2/20/2019</td>\n",
       "      <td>13:27</td>\n",
       "      <td>Credit card</td>\n",
       "      <td>164.52</td>\n",
       "      <td>4.761905</td>\n",
       "      <td>8.2260</td>\n",
       "      <td>5.9</td>\n",
       "    </tr>\n",
       "  </tbody>\n",
       "</table>\n",
       "</div>"
      ],
      "text/plain": [
       "    Invoice ID Branch       City Customer type  Gender  \\\n",
       "0  750-67-8428      A     Yangon        Member  Female   \n",
       "1  226-31-3081      C  Naypyitaw        Normal  Female   \n",
       "2  631-41-3108      A     Yangon        Normal    Male   \n",
       "3  123-19-1176      A     Yangon        Member    Male   \n",
       "4  373-73-7910      A     Yangon        Normal    Male   \n",
       "5  699-14-3026      C  Naypyitaw        Normal    Male   \n",
       "6  355-53-5943      A     Yangon        Member  Female   \n",
       "7  315-22-5665      C  Naypyitaw        Normal  Female   \n",
       "8  665-32-9167      A     Yangon        Member  Female   \n",
       "9  692-92-5582      B   Mandalay        Member  Female   \n",
       "\n",
       "             Product line  Unit price  Quantity   Tax 5%     Total       Date  \\\n",
       "0       Health and beauty       74.69         7  26.1415  548.9715   1/5/2019   \n",
       "1  Electronic accessories       15.28         5   3.8200   80.2200   3/8/2019   \n",
       "2      Home and lifestyle       46.33         7  16.2155  340.5255   3/3/2019   \n",
       "3       Health and beauty       58.22         8  23.2880  489.0480  1/27/2019   \n",
       "4       Sports and travel       86.31         7  30.2085  634.3785   2/8/2019   \n",
       "5  Electronic accessories       85.39         7  29.8865  627.6165  3/25/2019   \n",
       "6  Electronic accessories       68.84         6  20.6520  433.6920  2/25/2019   \n",
       "7      Home and lifestyle       73.56        10  36.7800  772.3800  2/24/2019   \n",
       "8       Health and beauty       36.26         2   3.6260   76.1460  1/10/2019   \n",
       "9      Food and beverages       54.84         3   8.2260  172.7460  2/20/2019   \n",
       "\n",
       "    Time      Payment    cogs  gross margin percentage  gross income  Rating  \n",
       "0  13:08      Ewallet  522.83                 4.761905       26.1415     9.1  \n",
       "1  10:29         Cash   76.40                 4.761905        3.8200     9.6  \n",
       "2  13:23  Credit card  324.31                 4.761905       16.2155     7.4  \n",
       "3  20:33      Ewallet  465.76                 4.761905       23.2880     8.4  \n",
       "4  10:37      Ewallet  604.17                 4.761905       30.2085     5.3  \n",
       "5  18:30      Ewallet  597.73                 4.761905       29.8865     4.1  \n",
       "6  14:36      Ewallet  413.04                 4.761905       20.6520     5.8  \n",
       "7  11:38      Ewallet  735.60                 4.761905       36.7800     8.0  \n",
       "8  17:15  Credit card   72.52                 4.761905        3.6260     7.2  \n",
       "9  13:27  Credit card  164.52                 4.761905        8.2260     5.9  "
      ]
     },
     "execution_count": 9,
     "metadata": {},
     "output_type": "execute_result"
    }
   ],
   "source": [
    "df.head(10)"
   ]
  },
  {
   "cell_type": "code",
   "execution_count": 10,
   "id": "e501f2bc",
   "metadata": {},
   "outputs": [
    {
     "data": {
      "text/plain": [
       "Index(['Invoice ID', 'Branch', 'City', 'Customer type', 'Gender',\n",
       "       'Product line', 'Unit price', 'Quantity', 'Tax 5%', 'Total', 'Date',\n",
       "       'Time', 'Payment', 'cogs', 'gross margin percentage', 'gross income',\n",
       "       'Rating'],\n",
       "      dtype='object')"
      ]
     },
     "execution_count": 10,
     "metadata": {},
     "output_type": "execute_result"
    }
   ],
   "source": [
    "df.columns"
   ]
  },
  {
   "cell_type": "code",
   "execution_count": 11,
   "id": "d499ffd0",
   "metadata": {},
   "outputs": [],
   "source": [
    "colunas_para_remover = ['Invoice ID', 'cogs', 'gross margin percentage', 'gross income']"
   ]
  },
  {
   "cell_type": "code",
   "execution_count": 12,
   "id": "e4ef2a91",
   "metadata": {},
   "outputs": [
    {
     "data": {
      "text/html": [
       "<div>\n",
       "<style scoped>\n",
       "    .dataframe tbody tr th:only-of-type {\n",
       "        vertical-align: middle;\n",
       "    }\n",
       "\n",
       "    .dataframe tbody tr th {\n",
       "        vertical-align: top;\n",
       "    }\n",
       "\n",
       "    .dataframe thead th {\n",
       "        text-align: right;\n",
       "    }\n",
       "</style>\n",
       "<table border=\"1\" class=\"dataframe\">\n",
       "  <thead>\n",
       "    <tr style=\"text-align: right;\">\n",
       "      <th></th>\n",
       "      <th>Branch</th>\n",
       "      <th>City</th>\n",
       "      <th>Customer type</th>\n",
       "      <th>Gender</th>\n",
       "      <th>Product line</th>\n",
       "      <th>Unit price</th>\n",
       "      <th>Quantity</th>\n",
       "      <th>Tax 5%</th>\n",
       "      <th>Total</th>\n",
       "      <th>Date</th>\n",
       "      <th>Time</th>\n",
       "      <th>Payment</th>\n",
       "      <th>Rating</th>\n",
       "    </tr>\n",
       "  </thead>\n",
       "  <tbody>\n",
       "    <tr>\n",
       "      <th>0</th>\n",
       "      <td>A</td>\n",
       "      <td>Yangon</td>\n",
       "      <td>Member</td>\n",
       "      <td>Female</td>\n",
       "      <td>Health and beauty</td>\n",
       "      <td>74.69</td>\n",
       "      <td>7</td>\n",
       "      <td>26.1415</td>\n",
       "      <td>548.9715</td>\n",
       "      <td>1/5/2019</td>\n",
       "      <td>13:08</td>\n",
       "      <td>Ewallet</td>\n",
       "      <td>9.1</td>\n",
       "    </tr>\n",
       "    <tr>\n",
       "      <th>1</th>\n",
       "      <td>C</td>\n",
       "      <td>Naypyitaw</td>\n",
       "      <td>Normal</td>\n",
       "      <td>Female</td>\n",
       "      <td>Electronic accessories</td>\n",
       "      <td>15.28</td>\n",
       "      <td>5</td>\n",
       "      <td>3.8200</td>\n",
       "      <td>80.2200</td>\n",
       "      <td>3/8/2019</td>\n",
       "      <td>10:29</td>\n",
       "      <td>Cash</td>\n",
       "      <td>9.6</td>\n",
       "    </tr>\n",
       "    <tr>\n",
       "      <th>2</th>\n",
       "      <td>A</td>\n",
       "      <td>Yangon</td>\n",
       "      <td>Normal</td>\n",
       "      <td>Male</td>\n",
       "      <td>Home and lifestyle</td>\n",
       "      <td>46.33</td>\n",
       "      <td>7</td>\n",
       "      <td>16.2155</td>\n",
       "      <td>340.5255</td>\n",
       "      <td>3/3/2019</td>\n",
       "      <td>13:23</td>\n",
       "      <td>Credit card</td>\n",
       "      <td>7.4</td>\n",
       "    </tr>\n",
       "    <tr>\n",
       "      <th>3</th>\n",
       "      <td>A</td>\n",
       "      <td>Yangon</td>\n",
       "      <td>Member</td>\n",
       "      <td>Male</td>\n",
       "      <td>Health and beauty</td>\n",
       "      <td>58.22</td>\n",
       "      <td>8</td>\n",
       "      <td>23.2880</td>\n",
       "      <td>489.0480</td>\n",
       "      <td>1/27/2019</td>\n",
       "      <td>20:33</td>\n",
       "      <td>Ewallet</td>\n",
       "      <td>8.4</td>\n",
       "    </tr>\n",
       "    <tr>\n",
       "      <th>4</th>\n",
       "      <td>A</td>\n",
       "      <td>Yangon</td>\n",
       "      <td>Normal</td>\n",
       "      <td>Male</td>\n",
       "      <td>Sports and travel</td>\n",
       "      <td>86.31</td>\n",
       "      <td>7</td>\n",
       "      <td>30.2085</td>\n",
       "      <td>634.3785</td>\n",
       "      <td>2/8/2019</td>\n",
       "      <td>10:37</td>\n",
       "      <td>Ewallet</td>\n",
       "      <td>5.3</td>\n",
       "    </tr>\n",
       "    <tr>\n",
       "      <th>...</th>\n",
       "      <td>...</td>\n",
       "      <td>...</td>\n",
       "      <td>...</td>\n",
       "      <td>...</td>\n",
       "      <td>...</td>\n",
       "      <td>...</td>\n",
       "      <td>...</td>\n",
       "      <td>...</td>\n",
       "      <td>...</td>\n",
       "      <td>...</td>\n",
       "      <td>...</td>\n",
       "      <td>...</td>\n",
       "      <td>...</td>\n",
       "    </tr>\n",
       "    <tr>\n",
       "      <th>995</th>\n",
       "      <td>B</td>\n",
       "      <td>Mandalay</td>\n",
       "      <td>Normal</td>\n",
       "      <td>Male</td>\n",
       "      <td>Sports and travel</td>\n",
       "      <td>75.92</td>\n",
       "      <td>8</td>\n",
       "      <td>30.3680</td>\n",
       "      <td>637.7280</td>\n",
       "      <td>3/20/2019</td>\n",
       "      <td>14:14</td>\n",
       "      <td>Cash</td>\n",
       "      <td>5.5</td>\n",
       "    </tr>\n",
       "    <tr>\n",
       "      <th>996</th>\n",
       "      <td>C</td>\n",
       "      <td>Naypyitaw</td>\n",
       "      <td>Normal</td>\n",
       "      <td>Female</td>\n",
       "      <td>Electronic accessories</td>\n",
       "      <td>63.22</td>\n",
       "      <td>2</td>\n",
       "      <td>6.3220</td>\n",
       "      <td>132.7620</td>\n",
       "      <td>1/1/2019</td>\n",
       "      <td>15:51</td>\n",
       "      <td>Cash</td>\n",
       "      <td>8.5</td>\n",
       "    </tr>\n",
       "    <tr>\n",
       "      <th>997</th>\n",
       "      <td>C</td>\n",
       "      <td>Naypyitaw</td>\n",
       "      <td>Normal</td>\n",
       "      <td>Female</td>\n",
       "      <td>Food and beverages</td>\n",
       "      <td>90.24</td>\n",
       "      <td>6</td>\n",
       "      <td>27.0720</td>\n",
       "      <td>568.5120</td>\n",
       "      <td>1/27/2019</td>\n",
       "      <td>11:17</td>\n",
       "      <td>Cash</td>\n",
       "      <td>6.2</td>\n",
       "    </tr>\n",
       "    <tr>\n",
       "      <th>998</th>\n",
       "      <td>B</td>\n",
       "      <td>Mandalay</td>\n",
       "      <td>Member</td>\n",
       "      <td>Female</td>\n",
       "      <td>Sports and travel</td>\n",
       "      <td>98.13</td>\n",
       "      <td>1</td>\n",
       "      <td>4.9065</td>\n",
       "      <td>103.0365</td>\n",
       "      <td>1/21/2019</td>\n",
       "      <td>17:36</td>\n",
       "      <td>Cash</td>\n",
       "      <td>8.9</td>\n",
       "    </tr>\n",
       "    <tr>\n",
       "      <th>999</th>\n",
       "      <td>A</td>\n",
       "      <td>Yangon</td>\n",
       "      <td>Member</td>\n",
       "      <td>Female</td>\n",
       "      <td>Sports and travel</td>\n",
       "      <td>51.52</td>\n",
       "      <td>8</td>\n",
       "      <td>20.6080</td>\n",
       "      <td>432.7680</td>\n",
       "      <td>2/2/2019</td>\n",
       "      <td>15:47</td>\n",
       "      <td>Cash</td>\n",
       "      <td>9.6</td>\n",
       "    </tr>\n",
       "  </tbody>\n",
       "</table>\n",
       "<p>1000 rows × 13 columns</p>\n",
       "</div>"
      ],
      "text/plain": [
       "    Branch       City Customer type  Gender            Product line  \\\n",
       "0        A     Yangon        Member  Female       Health and beauty   \n",
       "1        C  Naypyitaw        Normal  Female  Electronic accessories   \n",
       "2        A     Yangon        Normal    Male      Home and lifestyle   \n",
       "3        A     Yangon        Member    Male       Health and beauty   \n",
       "4        A     Yangon        Normal    Male       Sports and travel   \n",
       "..     ...        ...           ...     ...                     ...   \n",
       "995      B   Mandalay        Normal    Male       Sports and travel   \n",
       "996      C  Naypyitaw        Normal  Female  Electronic accessories   \n",
       "997      C  Naypyitaw        Normal  Female      Food and beverages   \n",
       "998      B   Mandalay        Member  Female       Sports and travel   \n",
       "999      A     Yangon        Member  Female       Sports and travel   \n",
       "\n",
       "     Unit price  Quantity   Tax 5%     Total       Date   Time      Payment  \\\n",
       "0         74.69         7  26.1415  548.9715   1/5/2019  13:08      Ewallet   \n",
       "1         15.28         5   3.8200   80.2200   3/8/2019  10:29         Cash   \n",
       "2         46.33         7  16.2155  340.5255   3/3/2019  13:23  Credit card   \n",
       "3         58.22         8  23.2880  489.0480  1/27/2019  20:33      Ewallet   \n",
       "4         86.31         7  30.2085  634.3785   2/8/2019  10:37      Ewallet   \n",
       "..          ...       ...      ...       ...        ...    ...          ...   \n",
       "995       75.92         8  30.3680  637.7280  3/20/2019  14:14         Cash   \n",
       "996       63.22         2   6.3220  132.7620   1/1/2019  15:51         Cash   \n",
       "997       90.24         6  27.0720  568.5120  1/27/2019  11:17         Cash   \n",
       "998       98.13         1   4.9065  103.0365  1/21/2019  17:36         Cash   \n",
       "999       51.52         8  20.6080  432.7680   2/2/2019  15:47         Cash   \n",
       "\n",
       "     Rating  \n",
       "0       9.1  \n",
       "1       9.6  \n",
       "2       7.4  \n",
       "3       8.4  \n",
       "4       5.3  \n",
       "..      ...  \n",
       "995     5.5  \n",
       "996     8.5  \n",
       "997     6.2  \n",
       "998     8.9  \n",
       "999     9.6  \n",
       "\n",
       "[1000 rows x 13 columns]"
      ]
     },
     "execution_count": 12,
     "metadata": {},
     "output_type": "execute_result"
    }
   ],
   "source": [
    "df = df.drop(colunas_para_remover, axis=1)\n",
    "df"
   ]
  },
  {
   "cell_type": "markdown",
   "id": "e6849ea5",
   "metadata": {},
   "source": [
    "### Pergunta: Qual a divisão de métodos de pagamento por gênero?"
   ]
  },
  {
   "cell_type": "code",
   "execution_count": null,
   "id": "aadadf03",
   "metadata": {},
   "outputs": [],
   "source": []
  },
  {
   "cell_type": "code",
   "execution_count": 13,
   "id": "47ae1318",
   "metadata": {
    "scrolled": true
   },
   "outputs": [
    {
     "data": {
      "image/png": "[encoded data removed]",
      "text/plain": [
       "<Figure size 640x480 with 1 Axes>"
      ]
     },
     "metadata": {},
     "output_type": "display_data"
    }
   ],
   "source": [
    "product_gender_count = df.groupby(['Gender', 'Payment']).size().unstack()\n",
    "\n",
    "product_gender_count.plot(kind='bar', stacked=True)\n",
    "plt.title('Contagem de Produtos por Gênero')\n",
    "plt.xlabel('Gênero')\n",
    "plt.ylabel('Contagem')\n",
    "plt.legend(title='Produto')\n",
    "\n",
    "plt.show()\n"
   ]
  },
  {
   "cell_type": "code",
   "execution_count": null,
   "id": "b3a39aba",
   "metadata": {},
   "outputs": [],
   "source": []
  },
  {
   "cell_type": "markdown",
   "id": "93514b83",
   "metadata": {},
   "source": [
    "### Pergunta: Qual a relação entre os afiliados e os não afiliados?"
   ]
  },
  {
   "cell_type": "code",
   "execution_count": 14,
   "id": "737a325c",
   "metadata": {},
   "outputs": [],
   "source": [
    "df_membros = df['Customer type'].value_counts()"
   ]
  },
  {
   "cell_type": "code",
   "execution_count": 15,
   "id": "90fd2011",
   "metadata": {},
   "outputs": [
    {
     "data": {
      "text/plain": [
       "Customer type\n",
       "Normal    518\n",
       "Member    482\n",
       "Name: count, dtype: int64"
      ]
     },
     "execution_count": 15,
     "metadata": {},
     "output_type": "execute_result"
    }
   ],
   "source": [
    "df_membros"
   ]
  },
  {
   "cell_type": "code",
   "execution_count": 16,
   "id": "9772e408",
   "metadata": {},
   "outputs": [],
   "source": [
    "membros_afiliados = df.loc[df['Customer type'] == 'Member']\n",
    "membros_normais = df.loc[df['Customer type'] == 'Normal']"
   ]
  },
  {
   "cell_type": "code",
   "execution_count": 17,
   "id": "0827bf44",
   "metadata": {},
   "outputs": [
    {
     "data": {
      "text/plain": [
       "Index(['Branch', 'City', 'Customer type', 'Gender', 'Product line',\n",
       "       'Unit price', 'Quantity', 'Tax 5%', 'Total', 'Date', 'Time', 'Payment',\n",
       "       'Rating'],\n",
       "      dtype='object')"
      ]
     },
     "execution_count": 17,
     "metadata": {},
     "output_type": "execute_result"
    }
   ],
   "source": [
    "df.columns"
   ]
  },
  {
   "cell_type": "code",
   "execution_count": 18,
   "id": "54dd0b40",
   "metadata": {},
   "outputs": [
    {
     "data": {
      "text/plain": [
       "1      Normal\n",
       "2      Normal\n",
       "4      Normal\n",
       "5      Normal\n",
       "7      Normal\n",
       "        ...  \n",
       "990    Normal\n",
       "994    Normal\n",
       "995    Normal\n",
       "996    Normal\n",
       "997    Normal\n",
       "Name: Customer type, Length: 518, dtype: object"
      ]
     },
     "execution_count": 18,
     "metadata": {},
     "output_type": "execute_result"
    }
   ],
   "source": [
    "membros_normais['Customer type']"
   ]
  },
  {
   "cell_type": "code",
   "execution_count": 19,
   "id": "97979c57",
   "metadata": {},
   "outputs": [
    {
     "data": {
      "text/plain": [
       "482"
      ]
     },
     "execution_count": 19,
     "metadata": {},
     "output_type": "execute_result"
    }
   ],
   "source": [
    "df_membros['Member']"
   ]
  },
  {
   "cell_type": "code",
   "execution_count": 20,
   "id": "9c058886",
   "metadata": {},
   "outputs": [
    {
     "data": {
      "image/png": "[encoded data removed]",
      "text/plain": [
       "<Figure size 640x480 with 1 Axes>"
      ]
     },
     "metadata": {},
     "output_type": "display_data"
    }
   ],
   "source": [
    "fig, ax = plt.subplots()\n",
    "\n",
    "fruits = ['Não-Afiliados', 'Afiliados']\n",
    "counts = [df_membros['Normal'], df_membros['Member']]\n",
    "bar_labels = ['blue', 'orange']\n",
    "bar_colors = ['tab:blue', 'tab:orange']\n",
    "\n",
    "ax.bar(fruits, counts, label=fruits, color=bar_colors, width=0.1)\n",
    "\n",
    "ax.set_ylabel('No. Clientes')\n",
    "ax.set_title('Quantidade de afiliados e não-afiliados')\n",
    "ax.legend(title='Clientes')\n",
    "\n",
    "plt.show()"
   ]
  },
  {
   "cell_type": "markdown",
   "id": "3085f7d3",
   "metadata": {},
   "source": [
    "## Ticket Médio"
   ]
  },
  {
   "cell_type": "code",
   "execution_count": 21,
   "id": "a2458a87",
   "metadata": {},
   "outputs": [
    {
     "data": {
      "text/plain": [
       "329.995701"
      ]
     },
     "execution_count": 21,
     "metadata": {},
     "output_type": "execute_result"
    }
   ],
   "source": [
    "df['Total'].mean()"
   ]
  },
  {
   "cell_type": "code",
   "execution_count": 22,
   "id": "71f735c0",
   "metadata": {},
   "outputs": [
    {
     "name": "stdout",
     "output_type": "stream",
     "text": [
      "          Montante  No. Compras  Ticket Médio\n",
      "Gender                                       \n",
      "Female  169654.611          492    344.826445\n",
      "Male    160341.090          508    315.632067\n"
     ]
    }
   ],
   "source": [
    "ticket_medio_genero = df.groupby('Gender').agg({'Total': 'sum', 'Quantity': 'count'})\n",
    "\n",
    "ticket_medio_genero.rename(columns={'Total': 'Montante', 'Quantity': 'No. Compras'}, inplace=True)\n",
    "\n",
    "ticket_medio_genero['Ticket Médio'] = ticket_medio_genero['Montante'] / ticket_medio_genero['No. Compras']\n",
    "\n",
    "print(ticket_medio_genero[['Montante', 'No. Compras', 'Ticket Médio']])\n",
    "\n"
   ]
  },
  {
   "cell_type": "code",
   "execution_count": 23,
   "id": "10ec629e",
   "metadata": {},
   "outputs": [
    {
     "data": {
      "image/png": "[encoded data removed]",
      "text/plain": [
       "<Figure size 640x480 with 1 Axes>"
      ]
     },
     "metadata": {},
     "output_type": "display_data"
    }
   ],
   "source": [
    "plt.bar(ticket_medio_genero.index, ticket_medio_genero['Ticket Médio'], color=['pink', 'blue'])\n",
    "\n",
    "plt.xlabel('Gênero')\n",
    "plt.ylabel('Ticket Médio')\n",
    "plt.title('Ticket Médio por Gênero')\n",
    "plt.show()\n"
   ]
  },
  {
   "cell_type": "markdown",
   "id": "566f176e",
   "metadata": {},
   "source": [
    "## Top3 das categorias de produtos mais vendidas"
   ]
  },
  {
   "cell_type": "code",
   "execution_count": 24,
   "id": "db6f20b9",
   "metadata": {},
   "outputs": [
    {
     "data": {
      "text/plain": [
       "Index(['Branch', 'City', 'Customer type', 'Gender', 'Product line',\n",
       "       'Unit price', 'Quantity', 'Tax 5%', 'Total', 'Date', 'Time', 'Payment',\n",
       "       'Rating'],\n",
       "      dtype='object')"
      ]
     },
     "execution_count": 24,
     "metadata": {},
     "output_type": "execute_result"
    }
   ],
   "source": [
    "df.columns"
   ]
  },
  {
   "cell_type": "code",
   "execution_count": 25,
   "id": "39e90a35",
   "metadata": {},
   "outputs": [
    {
     "data": {
      "text/plain": [
       "Product line\n",
       "Electronic accessories    956\n",
       "Fashion accessories       918\n",
       "Food and beverages        980\n",
       "Health and beauty         884\n",
       "Home and lifestyle        956\n",
       "Sports and travel         998\n",
       "Name: Quantity, dtype: int64"
      ]
     },
     "execution_count": 25,
     "metadata": {},
     "output_type": "execute_result"
    }
   ],
   "source": [
    "produtos_mais_vendidos = df.groupby('Product line')['Quantity'].sum()\n",
    "produtos_mais_vendidos"
   ]
  },
  {
   "cell_type": "code",
   "execution_count": 26,
   "id": "8b68405d",
   "metadata": {},
   "outputs": [
    {
     "data": {
      "text/plain": [
       "Product line\n",
       "Sports and travel         998\n",
       "Food and beverages        980\n",
       "Electronic accessories    956\n",
       "Name: Quantity, dtype: int64"
      ]
     },
     "execution_count": 26,
     "metadata": {},
     "output_type": "execute_result"
    }
   ],
   "source": [
    "top3_mais_vendidos = produtos_mais_vendidos.sort_values(ascending=False).head(3)\n",
    "top3_mais_vendidos"
   ]
  },
  {
   "cell_type": "markdown",
   "id": "00dcd966",
   "metadata": {},
   "source": [
    "## Top3 das categorias de produtos menos vendidas"
   ]
  },
  {
   "cell_type": "code",
   "execution_count": 27,
   "id": "228488b5",
   "metadata": {},
   "outputs": [
    {
     "data": {
      "text/plain": [
       "Product line\n",
       "Electronic accessories    956\n",
       "Fashion accessories       918\n",
       "Food and beverages        980\n",
       "Health and beauty         884\n",
       "Home and lifestyle        956\n",
       "Sports and travel         998\n",
       "Name: Quantity, dtype: int64"
      ]
     },
     "execution_count": 27,
     "metadata": {},
     "output_type": "execute_result"
    }
   ],
   "source": [
    "produtos_menos_vendidos = df.groupby('Product line')['Quantity'].sum()\n",
    "produtos_menos_vendidos"
   ]
  },
  {
   "cell_type": "code",
   "execution_count": 28,
   "id": "a7ba5dce",
   "metadata": {},
   "outputs": [
    {
     "data": {
      "text/plain": [
       "Product line\n",
       "Health and beauty         884\n",
       "Fashion accessories       918\n",
       "Electronic accessories    956\n",
       "Name: Quantity, dtype: int64"
      ]
     },
     "execution_count": 28,
     "metadata": {},
     "output_type": "execute_result"
    }
   ],
   "source": [
    "top3_menos_vendidos = produtos_menos_vendidos.sort_values(ascending=True).head(3)\n",
    "top3_menos_vendidos"
   ]
  },
  {
   "cell_type": "markdown",
   "id": "042a1f0c",
   "metadata": {},
   "source": [
    "## Data"
   ]
  },
  {
   "cell_type": "code",
   "execution_count": 29,
   "id": "5e8f505b",
   "metadata": {},
   "outputs": [],
   "source": [
    "df['Date'] = pd.to_datetime(df['Date'])"
   ]
  },
  {
   "cell_type": "code",
   "execution_count": 30,
   "id": "a52bcd5f",
   "metadata": {},
   "outputs": [
    {
     "data": {
      "text/plain": [
       "0     2019-01-05\n",
       "1     2019-03-08\n",
       "2     2019-03-03\n",
       "3     2019-01-27\n",
       "4     2019-02-08\n",
       "         ...    \n",
       "995   2019-03-20\n",
       "996   2019-01-01\n",
       "997   2019-01-27\n",
       "998   2019-01-21\n",
       "999   2019-02-02\n",
       "Name: Date, Length: 1000, dtype: datetime64[ns]"
      ]
     },
     "execution_count": 30,
     "metadata": {},
     "output_type": "execute_result"
    }
   ],
   "source": [
    "df['Date']"
   ]
  },
  {
   "cell_type": "markdown",
   "id": "347f17da",
   "metadata": {},
   "source": [
    "## Compras por gênero"
   ]
  },
  {
   "cell_type": "code",
   "execution_count": 31,
   "id": "5282b216",
   "metadata": {},
   "outputs": [],
   "source": [
    "filtro_mulher = df[df['Gender'] == 'Female']\n",
    "filtro_homem = df[df['Gender'] == 'Male']"
   ]
  },
  {
   "cell_type": "code",
   "execution_count": 32,
   "id": "8854dcc7",
   "metadata": {},
   "outputs": [],
   "source": [
    "transacoes_homem = filtro_homem['Product line'].value_counts()\n",
    "transacoes_mulher= filtro_mulher['Product line'].value_counts()"
   ]
  },
  {
   "cell_type": "code",
   "execution_count": 33,
   "id": "143da576",
   "metadata": {},
   "outputs": [
    {
     "data": {
      "text/plain": [
       "Product line\n",
       "Home and lifestyle        92\n",
       "Food and beverages        86\n",
       "Sports and travel         84\n",
       "Electronic accessories    84\n",
       "Health and beauty         82\n",
       "Fashion accessories       80\n",
       "Name: count, dtype: int64"
      ]
     },
     "execution_count": 33,
     "metadata": {},
     "output_type": "execute_result"
    }
   ],
   "source": [
    "transacoes_homem"
   ]
  },
  {
   "cell_type": "code",
   "execution_count": 34,
   "id": "ecf4f238",
   "metadata": {},
   "outputs": [
    {
     "data": {
      "text/plain": [
       "Product line\n",
       "Fashion accessories       90\n",
       "Electronic accessories    88\n",
       "Food and beverages        86\n",
       "Sports and travel         86\n",
       "Health and beauty         72\n",
       "Home and lifestyle        70\n",
       "Name: count, dtype: int64"
      ]
     },
     "execution_count": 34,
     "metadata": {},
     "output_type": "execute_result"
    }
   ],
   "source": [
    "transacoes_mulher"
   ]
  },
  {
   "cell_type": "code",
   "execution_count": 35,
   "id": "4765a24e",
   "metadata": {},
   "outputs": [
    {
     "data": {
      "text/plain": [
       "array(['Health and beauty', 'Electronic accessories',\n",
       "       'Home and lifestyle', 'Sports and travel', 'Food and beverages',\n",
       "       'Fashion accessories'], dtype=object)"
      ]
     },
     "execution_count": 35,
     "metadata": {},
     "output_type": "execute_result"
    }
   ],
   "source": [
    "produtos = df['Product line'].unique()\n",
    "produtos"
   ]
  },
  {
   "cell_type": "code",
   "execution_count": 36,
   "id": "d22e792d",
   "metadata": {},
   "outputs": [
    {
     "data": {
      "text/plain": [
       "array([0, 1, 2, 3, 4, 5])"
      ]
     },
     "execution_count": 36,
     "metadata": {},
     "output_type": "execute_result"
    }
   ],
   "source": [
    "transacoes_homem = transacoes_homem.reindex(produtos, fill_value=0)\n",
    "transacoes_mulher = transacoes_mulher.reindex(produtos, fill_value=0)\n",
    "index = np.arange(len(produtos))\n",
    "index"
   ]
  },
  {
   "cell_type": "code",
   "execution_count": 37,
   "id": "f7857f8f",
   "metadata": {
    "scrolled": false
   },
   "outputs": [
    {
     "data": {
      "image/png": "[encoded data removed]",
      "text/plain": [
       "<Figure size 640x480 with 1 Axes>"
      ]
     },
     "metadata": {},
     "output_type": "display_data"
    }
   ],
   "source": [
    "fig, ax = plt.subplots()\n",
    "bar_width = 0.35\n",
    "\n",
    "\n",
    "barra_homem = ax.bar(index, transacoes_homem, bar_width, label='Homens')\n",
    "barra_mulher = ax.bar(index + bar_width, transacoes_mulher, bar_width, label='Mulheres')\n",
    "\n",
    "ax.set_xlabel('Categorias de Produtos')\n",
    "ax.set_ylabel('Número de Compras')\n",
    "ax.set_title('Compras por Gênero')\n",
    "ax.set_xticks(index + bar_width / 2)\n",
    "ax.set_xticklabels(produtos, minor=False, rotation=90)\n",
    "ax.legend()\n",
    "\n",
    "plt.show()\n"
   ]
  },
  {
   "cell_type": "markdown",
   "id": "4f74de73",
   "metadata": {},
   "source": [
    "## Meios de pagamento x afiliação"
   ]
  },
  {
   "cell_type": "code",
   "execution_count": 64,
   "id": "cb55c1a3",
   "metadata": {},
   "outputs": [
    {
     "data": {
      "text/plain": [
       "329995.701"
      ]
     },
     "execution_count": 64,
     "metadata": {},
     "output_type": "execute_result"
    }
   ],
   "source": [
    "pagamento_total = df['Total'].sum()\n",
    "pagamento_total"
   ]
  },
  {
   "cell_type": "code",
   "execution_count": 101,
   "id": "11194c94",
   "metadata": {},
   "outputs": [
    {
     "data": {
      "text/html": [
       "<div>\n",
       "<style scoped>\n",
       "    .dataframe tbody tr th:only-of-type {\n",
       "        vertical-align: middle;\n",
       "    }\n",
       "\n",
       "    .dataframe tbody tr th {\n",
       "        vertical-align: top;\n",
       "    }\n",
       "\n",
       "    .dataframe thead th {\n",
       "        text-align: right;\n",
       "    }\n",
       "</style>\n",
       "<table border=\"1\" class=\"dataframe\">\n",
       "  <thead>\n",
       "    <tr style=\"text-align: right;\">\n",
       "      <th></th>\n",
       "      <th>Payment</th>\n",
       "      <th>Total</th>\n",
       "    </tr>\n",
       "  </thead>\n",
       "  <tbody>\n",
       "    <tr>\n",
       "      <th>0</th>\n",
       "      <td>Ewallet</td>\n",
       "      <td>548.9715</td>\n",
       "    </tr>\n",
       "    <tr>\n",
       "      <th>1</th>\n",
       "      <td>Cash</td>\n",
       "      <td>80.2200</td>\n",
       "    </tr>\n",
       "    <tr>\n",
       "      <th>2</th>\n",
       "      <td>Credit card</td>\n",
       "      <td>340.5255</td>\n",
       "    </tr>\n",
       "    <tr>\n",
       "      <th>3</th>\n",
       "      <td>Ewallet</td>\n",
       "      <td>489.0480</td>\n",
       "    </tr>\n",
       "    <tr>\n",
       "      <th>4</th>\n",
       "      <td>Ewallet</td>\n",
       "      <td>634.3785</td>\n",
       "    </tr>\n",
       "    <tr>\n",
       "      <th>...</th>\n",
       "      <td>...</td>\n",
       "      <td>...</td>\n",
       "    </tr>\n",
       "    <tr>\n",
       "      <th>995</th>\n",
       "      <td>Cash</td>\n",
       "      <td>637.7280</td>\n",
       "    </tr>\n",
       "    <tr>\n",
       "      <th>996</th>\n",
       "      <td>Cash</td>\n",
       "      <td>132.7620</td>\n",
       "    </tr>\n",
       "    <tr>\n",
       "      <th>997</th>\n",
       "      <td>Cash</td>\n",
       "      <td>568.5120</td>\n",
       "    </tr>\n",
       "    <tr>\n",
       "      <th>998</th>\n",
       "      <td>Cash</td>\n",
       "      <td>103.0365</td>\n",
       "    </tr>\n",
       "    <tr>\n",
       "      <th>999</th>\n",
       "      <td>Cash</td>\n",
       "      <td>432.7680</td>\n",
       "    </tr>\n",
       "  </tbody>\n",
       "</table>\n",
       "<p>1000 rows × 2 columns</p>\n",
       "</div>"
      ],
      "text/plain": [
       "         Payment     Total\n",
       "0        Ewallet  548.9715\n",
       "1           Cash   80.2200\n",
       "2    Credit card  340.5255\n",
       "3        Ewallet  489.0480\n",
       "4        Ewallet  634.3785\n",
       "..           ...       ...\n",
       "995         Cash  637.7280\n",
       "996         Cash  132.7620\n",
       "997         Cash  568.5120\n",
       "998         Cash  103.0365\n",
       "999         Cash  432.7680\n",
       "\n",
       "[1000 rows x 2 columns]"
      ]
     },
     "execution_count": 101,
     "metadata": {},
     "output_type": "execute_result"
    }
   ],
   "source": [
    "pagamentos = df.loc[df['Customer type'].isin(['Member', 'Normal']), ['Payment', 'Total']]\n",
    "pagamentos"
   ]
  },
  {
   "cell_type": "code",
   "execution_count": 104,
   "id": "c0e46c29",
   "metadata": {},
   "outputs": [
    {
     "ename": "KeyError",
     "evalue": "'Member'",
     "output_type": "error",
     "traceback": [
      "\u001b[1;31m---------------------------------------------------------------------------\u001b[0m",
      "\u001b[1;31mKeyError\u001b[0m                                  Traceback (most recent call last)",
      "File \u001b[1;32mC:\\ProgramData\\anaconda3\\Lib\\site-packages\\pandas\\core\\indexes\\base.py:3653\u001b[0m, in \u001b[0;36mIndex.get_loc\u001b[1;34m(self, key)\u001b[0m\n\u001b[0;32m   3652\u001b[0m \u001b[38;5;28;01mtry\u001b[39;00m:\n\u001b[1;32m-> 3653\u001b[0m     \u001b[38;5;28;01mreturn\u001b[39;00m \u001b[38;5;28mself\u001b[39m\u001b[38;5;241m.\u001b[39m_engine\u001b[38;5;241m.\u001b[39mget_loc(casted_key)\n\u001b[0;32m   3654\u001b[0m \u001b[38;5;28;01mexcept\u001b[39;00m \u001b[38;5;167;01mKeyError\u001b[39;00m \u001b[38;5;28;01mas\u001b[39;00m err:\n",
      "File \u001b[1;32mC:\\ProgramData\\anaconda3\\Lib\\site-packages\\pandas\\_libs\\index.pyx:147\u001b[0m, in \u001b[0;36mpandas._libs.index.IndexEngine.get_loc\u001b[1;34m()\u001b[0m\n",
      "File \u001b[1;32mC:\\ProgramData\\anaconda3\\Lib\\site-packages\\pandas\\_libs\\index.pyx:176\u001b[0m, in \u001b[0;36mpandas._libs.index.IndexEngine.get_loc\u001b[1;34m()\u001b[0m\n",
      "File \u001b[1;32mpandas\\_libs\\hashtable_class_helper.pxi:7080\u001b[0m, in \u001b[0;36mpandas._libs.hashtable.PyObjectHashTable.get_item\u001b[1;34m()\u001b[0m\n",
      "File \u001b[1;32mpandas\\_libs\\hashtable_class_helper.pxi:7088\u001b[0m, in \u001b[0;36mpandas._libs.hashtable.PyObjectHashTable.get_item\u001b[1;34m()\u001b[0m\n",
      "\u001b[1;31mKeyError\u001b[0m: 'Member'",
      "\nThe above exception was the direct cause of the following exception:\n",
      "\u001b[1;31mKeyError\u001b[0m                                  Traceback (most recent call last)",
      "Cell \u001b[1;32mIn[104], line 1\u001b[0m\n\u001b[1;32m----> 1\u001b[0m lista_pagamentos \u001b[38;5;241m=\u001b[39m pagamentos[\u001b[38;5;124m'\u001b[39m\u001b[38;5;124mMember\u001b[39m\u001b[38;5;124m'\u001b[39m]\n\u001b[0;32m      2\u001b[0m lista_pagamentos\n",
      "File \u001b[1;32mC:\\ProgramData\\anaconda3\\Lib\\site-packages\\pandas\\core\\frame.py:3761\u001b[0m, in \u001b[0;36mDataFrame.__getitem__\u001b[1;34m(self, key)\u001b[0m\n\u001b[0;32m   3759\u001b[0m \u001b[38;5;28;01mif\u001b[39;00m \u001b[38;5;28mself\u001b[39m\u001b[38;5;241m.\u001b[39mcolumns\u001b[38;5;241m.\u001b[39mnlevels \u001b[38;5;241m>\u001b[39m \u001b[38;5;241m1\u001b[39m:\n\u001b[0;32m   3760\u001b[0m     \u001b[38;5;28;01mreturn\u001b[39;00m \u001b[38;5;28mself\u001b[39m\u001b[38;5;241m.\u001b[39m_getitem_multilevel(key)\n\u001b[1;32m-> 3761\u001b[0m indexer \u001b[38;5;241m=\u001b[39m \u001b[38;5;28mself\u001b[39m\u001b[38;5;241m.\u001b[39mcolumns\u001b[38;5;241m.\u001b[39mget_loc(key)\n\u001b[0;32m   3762\u001b[0m \u001b[38;5;28;01mif\u001b[39;00m is_integer(indexer):\n\u001b[0;32m   3763\u001b[0m     indexer \u001b[38;5;241m=\u001b[39m [indexer]\n",
      "File \u001b[1;32mC:\\ProgramData\\anaconda3\\Lib\\site-packages\\pandas\\core\\indexes\\base.py:3655\u001b[0m, in \u001b[0;36mIndex.get_loc\u001b[1;34m(self, key)\u001b[0m\n\u001b[0;32m   3653\u001b[0m     \u001b[38;5;28;01mreturn\u001b[39;00m \u001b[38;5;28mself\u001b[39m\u001b[38;5;241m.\u001b[39m_engine\u001b[38;5;241m.\u001b[39mget_loc(casted_key)\n\u001b[0;32m   3654\u001b[0m \u001b[38;5;28;01mexcept\u001b[39;00m \u001b[38;5;167;01mKeyError\u001b[39;00m \u001b[38;5;28;01mas\u001b[39;00m err:\n\u001b[1;32m-> 3655\u001b[0m     \u001b[38;5;28;01mraise\u001b[39;00m \u001b[38;5;167;01mKeyError\u001b[39;00m(key) \u001b[38;5;28;01mfrom\u001b[39;00m \u001b[38;5;21;01merr\u001b[39;00m\n\u001b[0;32m   3656\u001b[0m \u001b[38;5;28;01mexcept\u001b[39;00m \u001b[38;5;167;01mTypeError\u001b[39;00m:\n\u001b[0;32m   3657\u001b[0m     \u001b[38;5;66;03m# If we have a listlike key, _check_indexing_error will raise\u001b[39;00m\n\u001b[0;32m   3658\u001b[0m     \u001b[38;5;66;03m#  InvalidIndexError. Otherwise we fall through and re-raise\u001b[39;00m\n\u001b[0;32m   3659\u001b[0m     \u001b[38;5;66;03m#  the TypeError.\u001b[39;00m\n\u001b[0;32m   3660\u001b[0m     \u001b[38;5;28mself\u001b[39m\u001b[38;5;241m.\u001b[39m_check_indexing_error(key)\n",
      "\u001b[1;31mKeyError\u001b[0m: 'Member'"
     ]
    }
   ],
   "source": [
    "lista_pagamentos = pagamentos['Member']\n",
    "lista_pagamentos"
   ]
  },
  {
   "cell_type": "code",
   "execution_count": 65,
   "id": "ca46578b",
   "metadata": {},
   "outputs": [
    {
     "data": {
      "text/plain": [
       "array(['Ewallet', 'Cash', 'Credit card'], dtype=object)"
      ]
     },
     "execution_count": 65,
     "metadata": {},
     "output_type": "execute_result"
    }
   ],
   "source": [
    "meios_pagamentos = df['Payment'].unique()\n",
    "meios_pagamentos"
   ]
  },
  {
   "cell_type": "code",
   "execution_count": 78,
   "id": "b545bd49",
   "metadata": {},
   "outputs": [
    {
     "data": {
      "text/plain": [
       "Payment\n",
       "Cash           122418.324\n",
       "Credit card    100221.408\n",
       "Ewallet        107355.969\n",
       "Name: Total, dtype: float64"
      ]
     },
     "execution_count": 78,
     "metadata": {},
     "output_type": "execute_result"
    }
   ],
   "source": [
    "total_pagamentos_membros = pagamentos_membros.groupby('Payment')['Total'].sum()\n",
    "total_pagamentos_membros"
   ]
  },
  {
   "cell_type": "code",
   "execution_count": 59,
   "id": "928e323c",
   "metadata": {},
   "outputs": [
    {
     "data": {
      "text/plain": [
       "Payment\n",
       "Cash           64925.070\n",
       "Credit card    41029.821\n",
       "Ewallet        59325.924\n",
       "Name: Total, dtype: float64"
      ]
     },
     "execution_count": 59,
     "metadata": {},
     "output_type": "execute_result"
    }
   ],
   "source": [
    "total_pagamentos_nao_membros = pagamentos_nao_membros.groupby('Payment')['Total'].sum()\n",
    "total_pagamentos_nao_membros"
   ]
  },
  {
   "cell_type": "code",
   "execution_count": 100,
   "id": "e0ded1b2",
   "metadata": {},
   "outputs": [
    {
     "data": {
      "image/png": "[encoded data removed]",
      "text/plain": [
       "<Figure size 200x200 with 1 Axes>"
      ]
     },
     "metadata": {},
     "output_type": "display_data"
    }
   ],
   "source": [
    "barra_x = meios_pagamentos\n",
    "barra_y = {\n",
    "    'Membros': np.array([73, 34, 58]),\n",
    "    'Não-Membros': np.array([73, 34, 58])\n",
    "}\n",
    "width = 0.7  # the width of the bars: can also be len(x) sequence\n",
    "\n",
    "\n",
    "fig, ax = plt.subplots()\n",
    "bottom = np.zeros(3)\n",
    "\n",
    "for item, barra_y in barra_y.items():\n",
    "    p = ax.bar(barra_x, barra_y, width, label=item, bottom=bottom)\n",
    "    bottom += barra_y\n",
    "\n",
    "    ax.bar_label(p, label_type='center')\n",
    "\n",
    "ax.set_title('Meios de Pagamento por Afiliação')\n",
    "ax.legend()\n",
    "\n",
    "plt.show()"
   ]
  },
  {
   "cell_type": "code",
   "execution_count": null,
   "id": "7c4b4436",
   "metadata": {},
   "outputs": [],
   "source": []
  },
  {
   "cell_type": "code",
   "execution_count": null,
   "id": "93b340c5",
   "metadata": {},
   "outputs": [],
   "source": []
  },
  {
   "cell_type": "code",
   "execution_count": null,
   "id": "746b1f36",
   "metadata": {},
   "outputs": [],
   "source": []
  },
  {
   "cell_type": "code",
   "execution_count": null,
   "id": "dff8d8d5",
   "metadata": {},
   "outputs": [],
   "source": []
  },
  {
   "cell_type": "code",
   "execution_count": 80,
   "id": "a0f4f3c5",
   "metadata": {},
   "outputs": [
    {
     "data": {
      "image/png": "[encoded data removed]",
      "text/plain": [
       "<Figure size 200x200 with 1 Axes>"
      ]
     },
     "metadata": {},
     "output_type": "display_data"
    }
   ],
   "source": [
    "species = ('Adelie', 'Chinstrap', 'Gentoo')\n",
    "sex_counts = {\n",
    "    'Membros': np.array([73, 34, 58]),\n",
    "    'Não-Membros': np.array([73, 34, 58])\n",
    "}\n",
    "width = 0.7  # the width of the bars: can also be len(x) sequence\n",
    "\n",
    "\n",
    "fig, ax = plt.subplots()\n",
    "bottom = np.zeros(3)\n",
    "\n",
    "for sex, sex_count in sex_counts.items():\n",
    "    p = ax.bar(species, sex_count, width, label=sex, bottom=bottom)\n",
    "    bottom += sex_count\n",
    "\n",
    "    ax.bar_label(p, label_type='center')\n",
    "\n",
    "ax.set_title('Number of penguins by sex')\n",
    "ax.legend()\n",
    "\n",
    "plt.show()"
   ]
  },
  {
   "cell_type": "code",
   "execution_count": null,
   "id": "d4aab51d",
   "metadata": {},
   "outputs": [],
   "source": []
  }
 ],
 "metadata": {
  "kernelspec": {
   "display_name": "Python 3 (ipykernel)",
   "language": "python",
   "name": "python3"
  },
  "language_info": {
   "codemirror_mode": {
    "name": "ipython",
    "version": 3
   },
   "file_extension": ".py",
   "mimetype": "text/x-python",
   "name": "python",
   "nbconvert_exporter": "python",
   "pygments_lexer": "ipython3",
   "version": "3.11.5"
  }
 },
 "nbformat": 4,
 "nbformat_minor": 5
}
